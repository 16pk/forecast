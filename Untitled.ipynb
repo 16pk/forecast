{
 "cells": [
  {
   "cell_type": "code",
   "execution_count": 1,
   "metadata": {},
   "outputs": [],
   "source": [
    "from datetime import datetime, timedelta"
   ]
  },
  {
   "cell_type": "code",
   "execution_count": 2,
   "metadata": {},
   "outputs": [],
   "source": [
    "import numpy as np\n",
    "import pandas as pd"
   ]
  },
  {
   "cell_type": "code",
   "execution_count": 3,
   "metadata": {},
   "outputs": [],
   "source": [
    "import requests"
   ]
  },
  {
   "cell_type": "code",
   "execution_count": 5,
   "metadata": {},
   "outputs": [],
   "source": [
    "HOST = 'http://161.189.11.216:8090'"
   ]
  },
  {
   "cell_type": "code",
   "execution_count": 47,
   "metadata": {},
   "outputs": [],
   "source": [
    "def load_awos_by_point(airport, point, start_time, end_time=None, days=None):\n",
    "    if end_time is None:\n",
    "        end_time = start_time + timedelta(days=days)\n",
    "    params = {'datacode': 'uu',\n",
    "              'airport': airport,\n",
    "              'runwayName': point,\n",
    "              'dataset': 'WS10X,WD10X',\n",
    "              'starttime': start_time.strftime('%Y-%m-%d %H:%M:%S'),\n",
    "              'endtime': end_time.strftime('%Y-%m-%d %H:%M:%S')}\n",
    "    url = f'{HOST}/gis/BJPEK/RunwaysHistoryByRunwayName'\n",
    "    data_json = get_json(url, params)\n",
    "    ws = _str2num(data_json['runwayName'][0][point]['WS10X'][::60])\n",
    "    wd = _str2num(data_json['runwayName'][0][point]['WD10X'][::60])\n",
    "    time_idx = pd.date_range(start_time, end_time, freq=timedelta(hours=1))\n",
    "    return pd.DataFrame({'obs_ws': ws, 'obs_wd': wd}, index=time_idx).iloc[:-1].copy()"
   ]
  },
  {
   "cell_type": "code",
   "execution_count": 7,
   "metadata": {},
   "outputs": [],
   "source": [
    "def get_json(url, params):\n",
    "    res = requests.get(url, params)\n",
    "    res.raise_for_status()\n",
    "    return res.json()"
   ]
  },
  {
   "cell_type": "code",
   "execution_count": 46,
   "metadata": {},
   "outputs": [],
   "source": [
    "def _str2num(list_obj):\n",
    "    return [float(x) if x not in ('null', ' ') else np.nan for x in list_obj]"
   ]
  },
  {
   "cell_type": "code",
   "execution_count": 63,
   "metadata": {},
   "outputs": [],
   "source": [
    "start_time = datetime(2018, 9, 1)\n",
    "end_time = datetime(2018, 10, 15)"
   ]
  },
  {
   "cell_type": "code",
   "execution_count": 64,
   "metadata": {},
   "outputs": [],
   "source": [
    "df = load_awos_by_point(airport='ZBAA', point='18L', start_time=start_time, end_time=end_time)"
   ]
  },
  {
   "cell_type": "code",
   "execution_count": 29,
   "metadata": {},
   "outputs": [],
   "source": [
    "def pivot_arr_by_date(arr, tag):\n",
    "    meta_df = arr.to_frame(name='obs')\n",
    "    meta_df['date'] = arr.index.floor('d')\n",
    "    meta_df['hour'] = arr.index.hour\n",
    "    new_df = meta_df.pivot(columns='hour', index='date', values='obs')\n",
    "    yesterday_df = new_df.copy()\n",
    "    yesterday_df.index = yesterday_df.index + timedelta(days=1)\n",
    "    yesterday_df.columns = [x - 24 for x in yesterday_df.columns]\n",
    "    obs_mat = pd.concat([yesterday_df, new_df], axis=1)\n",
    "    obs_mat.columns = [f'obs_{tag}.{x}' for x in obs_mat.columns]\n",
    "    return obs_mat"
   ]
  },
  {
   "cell_type": "code",
   "execution_count": 31,
   "metadata": {},
   "outputs": [],
   "source": [
    "def load_obs_data(airport, point, start_time, days):\n",
    "    obs_df = load_awos_by_point(airport, point, start_time, days=days)\n",
    "    obs_ws_mat = pivot_arr_by_date(obs_df['obs_ws'], 'ws')\n",
    "    obs_wd_mat = pivot_arr_by_date(obs_df['obs_wd'], 'wd')\n",
    "    return pd.concat([obs_ws_mat, obs_wd_mat], axis=1)"
   ]
  },
  {
   "cell_type": "code",
   "execution_count": 33,
   "metadata": {},
   "outputs": [],
   "source": [
    "def load_ec_by_airport(start_time, end_time=None, days=None):\n",
    "    if end_time is None:\n",
    "        end_time = start_time + timedelta(days=days)\n",
    "    meteo_list = ['U10', 'V10', 'SPD10', 'DIR10', 'T2', 'TD2', 'PSFC']\n",
    "    params = {'starttime': start_time.strftime('%Y-%m-%d %H:%M:%S'),\n",
    "              'endtime': end_time.strftime('%Y-%m-%d %H:%M:%S'),\n",
    "              'dataSetList': ','.join(meteo_list)}\n",
    "    url = f'{HOST}/gis/BJPEK/ECData'\n",
    "    data_json = get_json(url, params)['data'][0]\n",
    "    meta_data = {}\n",
    "    for ec_datestr in data_json:\n",
    "        meta_dct = {}\n",
    "        for x in data_json[ec_datestr]:\n",
    "            meta_dct.update(x)\n",
    "        data_json[ec_datestr] = meta_dct\n",
    "    df_lst = []\n",
    "    for meteo in meteo_list:\n",
    "        meta_df = pd.DataFrame({x: data_json[x][meteo] for x in data_json}, dtype=float).transpose()\n",
    "        meta_df.columns = [f'ec.{meteo}.{x-12}' for x in meta_df.columns]\n",
    "        df_lst.append(meta_df)\n",
    "    final_df = pd.concat(df_lst, axis=1)\n",
    "    final_df.index = pd.to_datetime(final_df.index, format='%Y%m%d%H%M%S') + timedelta(hours=12)\n",
    "    return final_df"
   ]
  },
  {
   "cell_type": "code",
   "execution_count": 36,
   "metadata": {},
   "outputs": [],
   "source": [
    "ec_df = load_ec_by_airport(datetime(2019, 9, 20), days=3)"
   ]
  },
  {
   "cell_type": "code",
   "execution_count": 37,
   "metadata": {},
   "outputs": [
    {
     "data": {
      "text/html": [
       "<div>\n",
       "<style>\n",
       "    .dataframe thead tr:only-child th {\n",
       "        text-align: right;\n",
       "    }\n",
       "\n",
       "    .dataframe thead th {\n",
       "        text-align: left;\n",
       "    }\n",
       "\n",
       "    .dataframe tbody tr th {\n",
       "        vertical-align: top;\n",
       "    }\n",
       "</style>\n",
       "<table border=\"1\" class=\"dataframe\">\n",
       "  <thead>\n",
       "    <tr style=\"text-align: right;\">\n",
       "      <th></th>\n",
       "      <th>ec.U10.-12</th>\n",
       "      <th>ec.U10.-11</th>\n",
       "      <th>ec.U10.-10</th>\n",
       "      <th>ec.U10.-9</th>\n",
       "      <th>ec.U10.-8</th>\n",
       "      <th>ec.U10.-7</th>\n",
       "      <th>ec.U10.-6</th>\n",
       "      <th>ec.U10.-5</th>\n",
       "      <th>ec.U10.-4</th>\n",
       "      <th>ec.U10.-3</th>\n",
       "      <th>...</th>\n",
       "      <th>ec.PSFC.14</th>\n",
       "      <th>ec.PSFC.15</th>\n",
       "      <th>ec.PSFC.16</th>\n",
       "      <th>ec.PSFC.17</th>\n",
       "      <th>ec.PSFC.18</th>\n",
       "      <th>ec.PSFC.19</th>\n",
       "      <th>ec.PSFC.20</th>\n",
       "      <th>ec.PSFC.21</th>\n",
       "      <th>ec.PSFC.22</th>\n",
       "      <th>ec.PSFC.23</th>\n",
       "    </tr>\n",
       "  </thead>\n",
       "  <tbody>\n",
       "    <tr>\n",
       "      <th>2019-09-21</th>\n",
       "      <td>-2.10373</td>\n",
       "      <td>-1.96557</td>\n",
       "      <td>-1.82741</td>\n",
       "      <td>-1.68925</td>\n",
       "      <td>-1.60569</td>\n",
       "      <td>-1.52213</td>\n",
       "      <td>-1.43857</td>\n",
       "      <td>-1.20679</td>\n",
       "      <td>-0.97501</td>\n",
       "      <td>-0.74323</td>\n",
       "      <td>...</td>\n",
       "      <td>1015.57483</td>\n",
       "      <td>1015.91010</td>\n",
       "      <td>1016.05975</td>\n",
       "      <td>1016.20941</td>\n",
       "      <td>1016.35907</td>\n",
       "      <td>1016.47375</td>\n",
       "      <td>1016.58844</td>\n",
       "      <td>1016.70312</td>\n",
       "      <td>1017.01312</td>\n",
       "      <td>1017.32312</td>\n",
       "    </tr>\n",
       "    <tr>\n",
       "      <th>2019-09-22</th>\n",
       "      <td>-1.15913</td>\n",
       "      <td>-0.72451</td>\n",
       "      <td>-0.28988</td>\n",
       "      <td>0.14474</td>\n",
       "      <td>-0.43779</td>\n",
       "      <td>-1.02033</td>\n",
       "      <td>-1.60287</td>\n",
       "      <td>-0.91697</td>\n",
       "      <td>-0.23107</td>\n",
       "      <td>0.45483</td>\n",
       "      <td>...</td>\n",
       "      <td>1013.32922</td>\n",
       "      <td>1013.23383</td>\n",
       "      <td>1013.05273</td>\n",
       "      <td>1012.87170</td>\n",
       "      <td>1012.69061</td>\n",
       "      <td>1012.69153</td>\n",
       "      <td>1012.69250</td>\n",
       "      <td>1012.69342</td>\n",
       "      <td>1013.06549</td>\n",
       "      <td>1013.43762</td>\n",
       "    </tr>\n",
       "    <tr>\n",
       "      <th>2019-09-23</th>\n",
       "      <td>-1.42122</td>\n",
       "      <td>-1.20593</td>\n",
       "      <td>-0.99064</td>\n",
       "      <td>-0.77534</td>\n",
       "      <td>-0.61018</td>\n",
       "      <td>-0.44501</td>\n",
       "      <td>-0.27985</td>\n",
       "      <td>-0.01324</td>\n",
       "      <td>0.25337</td>\n",
       "      <td>0.51997</td>\n",
       "      <td>...</td>\n",
       "      <td>1010.28027</td>\n",
       "      <td>1010.21423</td>\n",
       "      <td>1010.58771</td>\n",
       "      <td>1010.96112</td>\n",
       "      <td>1011.33459</td>\n",
       "      <td>1011.52795</td>\n",
       "      <td>1011.72131</td>\n",
       "      <td>1011.91467</td>\n",
       "      <td>1012.61914</td>\n",
       "      <td>1013.32361</td>\n",
       "    </tr>\n",
       "  </tbody>\n",
       "</table>\n",
       "<p>3 rows × 252 columns</p>\n",
       "</div>"
      ],
      "text/plain": [
       "            ec.U10.-12  ec.U10.-11  ec.U10.-10  ec.U10.-9  ec.U10.-8  \\\n",
       "2019-09-21    -2.10373    -1.96557    -1.82741   -1.68925   -1.60569   \n",
       "2019-09-22    -1.15913    -0.72451    -0.28988    0.14474   -0.43779   \n",
       "2019-09-23    -1.42122    -1.20593    -0.99064   -0.77534   -0.61018   \n",
       "\n",
       "            ec.U10.-7  ec.U10.-6  ec.U10.-5  ec.U10.-4  ec.U10.-3     ...      \\\n",
       "2019-09-21   -1.52213   -1.43857   -1.20679   -0.97501   -0.74323     ...       \n",
       "2019-09-22   -1.02033   -1.60287   -0.91697   -0.23107    0.45483     ...       \n",
       "2019-09-23   -0.44501   -0.27985   -0.01324    0.25337    0.51997     ...       \n",
       "\n",
       "            ec.PSFC.14  ec.PSFC.15  ec.PSFC.16  ec.PSFC.17  ec.PSFC.18  \\\n",
       "2019-09-21  1015.57483  1015.91010  1016.05975  1016.20941  1016.35907   \n",
       "2019-09-22  1013.32922  1013.23383  1013.05273  1012.87170  1012.69061   \n",
       "2019-09-23  1010.28027  1010.21423  1010.58771  1010.96112  1011.33459   \n",
       "\n",
       "            ec.PSFC.19  ec.PSFC.20  ec.PSFC.21  ec.PSFC.22  ec.PSFC.23  \n",
       "2019-09-21  1016.47375  1016.58844  1016.70312  1017.01312  1017.32312  \n",
       "2019-09-22  1012.69153  1012.69250  1012.69342  1013.06549  1013.43762  \n",
       "2019-09-23  1011.52795  1011.72131  1011.91467  1012.61914  1013.32361  \n",
       "\n",
       "[3 rows x 252 columns]"
      ]
     },
     "execution_count": 37,
     "metadata": {},
     "output_type": "execute_result"
    }
   ],
   "source": [
    "ec_df"
   ]
  },
  {
   "cell_type": "code",
   "execution_count": null,
   "metadata": {},
   "outputs": [],
   "source": []
  }
 ],
 "metadata": {
  "kernelspec": {
   "display_name": "Python 3",
   "language": "python",
   "name": "python3"
  },
  "language_info": {
   "codemirror_mode": {
    "name": "ipython",
    "version": 3
   },
   "file_extension": ".py",
   "mimetype": "text/x-python",
   "name": "python",
   "nbconvert_exporter": "python",
   "pygments_lexer": "ipython3",
   "version": "3.6.8"
  }
 },
 "nbformat": 4,
 "nbformat_minor": 2
}
