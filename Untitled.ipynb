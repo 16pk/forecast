{
 "cells": [
  {
   "cell_type": "code",
   "execution_count": 96,
   "metadata": {},
   "outputs": [],
   "source": [
    "import numpy as np"
   ]
  },
  {
   "cell_type": "code",
   "execution_count": 10,
   "metadata": {},
   "outputs": [],
   "source": [
    "import pandas as pd\n",
    "from datetime import datetime, timedelta\n",
    "from collections import defaultdict"
   ]
  },
  {
   "cell_type": "code",
   "execution_count": 104,
   "metadata": {},
   "outputs": [],
   "source": [
    "def read_ec_data(filename):\n",
    "    with open(filename) as fid:\n",
    "        data_dct = defaultdict(dict)\n",
    "        for line in fid:\n",
    "            fields = line.strip('\\n').split('\\t')\n",
    "            if fields[1] == 'SLP':\n",
    "                continue\n",
    "            ec_time = datetime.strptime(fields[0], '%Y%m%d%H')\n",
    "            forecast_time = (ec_time + timedelta(hours=12))\n",
    "            for idx in range(-12, 24):\n",
    "                data_dct[forecast_time][f'{fields[1]}.{idx}'] = float(fields[idx + 12 + 2])\n",
    "    return pd.DataFrame(data_dct).transpose()"
   ]
  },
  {
   "cell_type": "code",
   "execution_count": 44,
   "metadata": {},
   "outputs": [],
   "source": [
    "def read_obs(filename):\n",
    "    obs_data = pd.read_csv(filename, header=None, names=['time', 'obs'], sep='\\t')\n",
    "    obs_data['date'] = pd.to_datetime(obs_data['time'] // 10000, format='%Y%m%d')\n",
    "    obs_data['hour'] = obs_data['time'] // 100 % 100\n",
    "    obs_data2 = obs_data.pivot(columns='hour', index='date', values='obs')\n",
    "    return obs_data2"
   ]
  },
  {
   "cell_type": "code",
   "execution_count": 99,
   "metadata": {},
   "outputs": [],
   "source": [
    "ec1 = read_ec_data('data/ec_fcst_2018030112_2018103112.txt')\n",
    "ec2 = read_ec_data('data/ec_fcst_2018110112_2018123012.txt')\n",
    "ec = pd.concat([ec1, ec2], axis=0)"
   ]
  },
  {
   "cell_type": "code",
   "execution_count": 83,
   "metadata": {},
   "outputs": [],
   "source": [
    "obs_p1 = read_obs('data/obs_2018030112_2018103112_site_01.txt')\n",
    "obs_p2 = read_obs('data/obs_2018110112_2018123012_site_01.txt')\n",
    "obs = pd.concat([obs_p1, obs_p2], axis=0).resample('1D').mean()"
   ]
  },
  {
   "cell_type": "code",
   "execution_count": 84,
   "metadata": {},
   "outputs": [],
   "source": [
    "yesterday_obs = obs.shift(1)\n",
    "yesterday_obs = yesterday_obs[[x for x in range(12, 24)]]"
   ]
  },
  {
   "cell_type": "code",
   "execution_count": 85,
   "metadata": {},
   "outputs": [],
   "source": [
    "yesterday_obs.columns = [x - 24 for x in yesterday_obs.columns]"
   ]
  },
  {
   "cell_type": "code",
   "execution_count": 86,
   "metadata": {},
   "outputs": [],
   "source": [
    "obs_mat = pd.concat([yesterday_obs, obs], axis=1)\n",
    "obs_mat.columns = [f'obs.{x}' for x in obs_mat.columns]"
   ]
  },
  {
   "cell_type": "code",
   "execution_count": 100,
   "metadata": {},
   "outputs": [],
   "source": [
    "raw_data = ec.merge(obs_mat, left_index=True, right_index=True)"
   ]
  },
  {
   "cell_type": "markdown",
   "metadata": {},
   "source": [
    "### 特征加工"
   ]
  },
  {
   "cell_type": "code",
   "execution_count": 101,
   "metadata": {},
   "outputs": [],
   "source": [
    "for idx in range(-12, 24):\n",
    "    raw_data[f'ws.{idx}'] = np.sqrt(raw_data[f'U10.{idx}'] ** 2 + raw_data[f'V10.{idx}'] ** 2)\n",
    "    raw_data[f'rh_delta.{idx}'] = raw_data[f'T.{idx}'] - raw_data[f'RH.{idx}']\n",
    "    raw_data[f'bias.{idx}'] = raw_data[f'obs.{idx}'] - raw_data[f'ws.{idx}']"
   ]
  },
  {
   "cell_type": "code",
   "execution_count": 105,
   "metadata": {},
   "outputs": [],
   "source": [
    "for idx in range(0, 24):\n",
    "    for span in (1, 3, 6, 12):\n",
    "        raw_data[f'PSFC_{span}d.{idx}'] = raw_data[f'PSFC.{idx}'] - raw_data[f'PSFC.{idx-span}']\n",
    "        raw_data[f'T_{span}d.{idx}'] = raw_data[f'T.{idx}'] - raw_data[f'T.{idx-span}']\n",
    "        raw_data[f'ws_{span}d.{idx}'] = raw_data[f'ws.{idx}'] - raw_data[f'ws.{idx-span}']"
   ]
  },
  {
   "cell_type": "code",
   "execution_count": null,
   "metadata": {},
   "outputs": [],
   "source": []
  }
 ],
 "metadata": {
  "kernelspec": {
   "display_name": "Python 3",
   "language": "python",
   "name": "python3"
  },
  "language_info": {
   "codemirror_mode": {
    "name": "ipython",
    "version": 3
   },
   "file_extension": ".py",
   "mimetype": "text/x-python",
   "name": "python",
   "nbconvert_exporter": "python",
   "pygments_lexer": "ipython3",
   "version": "3.6.8"
  }
 },
 "nbformat": 4,
 "nbformat_minor": 2
}
