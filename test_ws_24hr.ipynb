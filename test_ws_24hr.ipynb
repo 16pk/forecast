{
 "cells": [
  {
   "cell_type": "code",
   "execution_count": 1,
   "metadata": {},
   "outputs": [],
   "source": [
    "import numpy as np\n",
    "import pandas as pd\n",
    "from datetime import datetime, timedelta\n",
    "import warnings\n",
    "from collections import defaultdict"
   ]
  },
  {
   "cell_type": "code",
   "execution_count": 2,
   "metadata": {},
   "outputs": [],
   "source": [
    "import xgboost as xgb"
   ]
  },
  {
   "cell_type": "code",
   "execution_count": 3,
   "metadata": {},
   "outputs": [],
   "source": [
    "import matplotlib.pyplot as plt\n",
    "%matplotlib inline"
   ]
  },
  {
   "cell_type": "code",
   "execution_count": 4,
   "metadata": {},
   "outputs": [],
   "source": [
    "from src.apis import load_awos_by_point, load_ec_by_airport, load_wrf_by_airport\n",
    "from src.model_opt import get_best_params_by_bo"
   ]
  },
  {
   "cell_type": "code",
   "execution_count": 5,
   "metadata": {},
   "outputs": [],
   "source": [
    "airport = 'ZBAA'"
   ]
  },
  {
   "cell_type": "code",
   "execution_count": 6,
   "metadata": {},
   "outputs": [],
   "source": [
    "site = '18L'"
   ]
  },
  {
   "cell_type": "code",
   "execution_count": 7,
   "metadata": {},
   "outputs": [],
   "source": [
    "start_time = datetime(2018, 11, 2)\n",
    "end_time = datetime(2019, 3, 1)"
   ]
  },
  {
   "cell_type": "code",
   "execution_count": 8,
   "metadata": {},
   "outputs": [],
   "source": [
    "df_ec = load_ec_by_airport(site, start_time-timedelta(hours=12), end_time-timedelta(hours=12), start_point=12)"
   ]
  },
  {
   "cell_type": "code",
   "execution_count": 9,
   "metadata": {},
   "outputs": [],
   "source": [
    "df_wrf = load_wrf_by_airport(site, start_time-timedelta(hours=12), end_time-timedelta(hours=12), start_point=12)"
   ]
  },
  {
   "cell_type": "code",
   "execution_count": 10,
   "metadata": {},
   "outputs": [
    {
     "data": {
      "text/plain": [
       "((119, 252), (119, 252))"
      ]
     },
     "execution_count": 10,
     "metadata": {},
     "output_type": "execute_result"
    }
   ],
   "source": [
    "df_ec.shape, df_wrf.shape"
   ]
  },
  {
   "cell_type": "code",
   "execution_count": 11,
   "metadata": {},
   "outputs": [],
   "source": [
    "obs_df = load_awos_by_point(airport, site, start_time, end_time=end_time)"
   ]
  },
  {
   "cell_type": "code",
   "execution_count": 12,
   "metadata": {},
   "outputs": [],
   "source": [
    "def pivot_arr_by_date(arr, tag):\n",
    "    meta_df = arr.to_frame(name='obs')\n",
    "    meta_df['date'] = arr.index.floor('d')\n",
    "    meta_df['hour'] = arr.index.hour\n",
    "    new_df = meta_df.pivot(columns='hour', index='date', values='obs')\n",
    "    yesterday_df = new_df.copy()\n",
    "    yesterday_df.index = yesterday_df.index + timedelta(days=1)\n",
    "    yesterday_df.columns = [x - 24 for x in yesterday_df.columns]\n",
    "    obs_mat = pd.concat([yesterday_df, new_df], axis=1)\n",
    "    obs_mat.columns = [f'obs_{tag}.{x}' for x in obs_mat.columns]\n",
    "    return obs_mat"
   ]
  },
  {
   "cell_type": "code",
   "execution_count": 13,
   "metadata": {},
   "outputs": [],
   "source": [
    "obs_ws_mat = pivot_arr_by_date(obs_df['obs_ws'], 'ws')"
   ]
  },
  {
   "cell_type": "code",
   "execution_count": 14,
   "metadata": {},
   "outputs": [],
   "source": [
    "raw_data = pd.concat([obs_ws_mat, df_wrf], axis=1)"
   ]
  },
  {
   "cell_type": "markdown",
   "metadata": {},
   "source": [
    "### 特征加工"
   ]
  },
  {
   "cell_type": "code",
   "execution_count": 15,
   "metadata": {},
   "outputs": [],
   "source": [
    "# 风速，湿球温度与气温差值，预报风速误差\n",
    "for idx in range(-12, 24):\n",
    "    raw_data[f'rh_delta.{idx}'] = raw_data[f'T2.{idx}'] - raw_data[f'TD2.{idx}']\n",
    "    raw_data[f'bias.{idx}'] = raw_data[f'obs_ws.{idx}'] - raw_data[f'SPD10.{idx}']"
   ]
  },
  {
   "cell_type": "code",
   "execution_count": 16,
   "metadata": {},
   "outputs": [],
   "source": [
    "# 气压变，温度变，风速变\n",
    "for idx in range(0, 24):\n",
    "    for span in (1, 3, 6, 12):\n",
    "        raw_data[f'PSFC_{span}d.{idx}'] = raw_data[f'PSFC.{idx}'] - raw_data[f'PSFC.{idx-span}']\n",
    "        raw_data[f'T2_{span}d.{idx}'] = raw_data[f'T2.{idx}'] - raw_data[f'T2.{idx-span}']\n",
    "        raw_data[f'SPD10_{span}d.{idx}'] = raw_data[f'SPD10.{idx}'] - raw_data[f'SPD10.{idx-span}']"
   ]
  },
  {
   "cell_type": "markdown",
   "metadata": {},
   "source": [
    "### 训练模型"
   ]
  },
  {
   "cell_type": "code",
   "execution_count": 17,
   "metadata": {},
   "outputs": [],
   "source": [
    "def rmse(y_arr):\n",
    "    return np.sqrt((y_arr ** 2).mean())"
   ]
  },
  {
   "cell_type": "code",
   "execution_count": 18,
   "metadata": {},
   "outputs": [],
   "source": [
    "def get_dataset(raw_data, fc_hr, is_train, is_eval):\n",
    "    feat_list = [f'U10.{x}' for x in range(-12, 24)] + [f'V10.{x}' for x in range(-12, 24)] + \\\n",
    "        [f'bias.{x}' for x in range(-12, 0)] + [f'SPD10.{x}' for x in range(-12, 24)] + \\\n",
    "        [f'rh_delta.{x}' for x in range(-12, 24)] + \\\n",
    "        [f'PSFC_{span}d.{fc_hr}' for span in (1, 3, 6, 12)] + [f'T2_{span}d.{fc_hr}' for span in (1, 3, 6, 12)] + \\\n",
    "        [f'SPD10_{span}d.{fc_hr}' for span in (1, 3, 6, 12)]\n",
    "    x_train = raw_data.loc[is_train, feat_list]\n",
    "    x_eval = raw_data.loc[is_eval, feat_list]\n",
    "    y_train = raw_data.loc[is_train, f'bias.{fc_hr}']\n",
    "    y_eval = raw_data.loc[is_eval, f'bias.{fc_hr}']\n",
    "    return x_train, y_train, x_eval, y_eval"
   ]
  },
  {
   "cell_type": "code",
   "execution_count": 19,
   "metadata": {},
   "outputs": [],
   "source": [
    "is_train = raw_data.index <= datetime(2019, 2, 1)\n",
    "is_eval = raw_data.index > datetime(2019, 2, 1)"
   ]
  },
  {
   "cell_type": "code",
   "execution_count": 20,
   "metadata": {},
   "outputs": [
    {
     "data": {
      "text/plain": [
       "(92, 28)"
      ]
     },
     "execution_count": 20,
     "metadata": {},
     "output_type": "execute_result"
    }
   ],
   "source": [
    "is_train.sum(), is_eval.sum()"
   ]
  },
  {
   "cell_type": "code",
   "execution_count": 21,
   "metadata": {},
   "outputs": [
    {
     "name": "stdout",
     "output_type": "stream",
     "text": [
      "Hour: 0\n",
      "Hour: 1\n",
      "Hour: 2\n",
      "Hour: 3\n",
      "Hour: 4\n",
      "Hour: 5\n",
      "Hour: 6\n",
      "Hour: 7\n",
      "Hour: 8\n",
      "Hour: 9\n",
      "Hour: 10\n",
      "Hour: 11\n",
      "Hour: 12\n",
      "Hour: 13\n",
      "Hour: 14\n",
      "Hour: 15\n",
      "Hour: 16\n",
      "Hour: 17\n",
      "Hour: 18\n",
      "Hour: 19\n",
      "Hour: 20\n",
      "Hour: 21\n",
      "Hour: 22\n",
      "Hour: 23\n"
     ]
    }
   ],
   "source": [
    "pred_list = []\n",
    "for fc_hr in range(0, 24):\n",
    "    print(f'Hour: {fc_hr}')\n",
    "    x_train, y_train, x_eval, y_eval = get_dataset(raw_data, fc_hr, is_train, is_eval)\n",
    "    clf = xgb.XGBRegressor(booster='gbtree', learning_rate=0.04, n_estimators=300, verbosity=0, n_jobs=16, seed=42,\n",
    "                           reg_alpha=0.1, reg_lambda=0.1, colsample_bytree=0.6, max_depth=6, subsample=0.5)\n",
    "    clf.fit(x_train, y_train)\n",
    "    \n",
    "    yhat = clf.predict(x_eval)\n",
    "    yhat = pd.Series(yhat, index=x_eval.index)\n",
    "    pred_one = yhat + x_eval[f'SPD10.{fc_hr}']\n",
    "    pred_one.index = pred_one.index + timedelta(hours=fc_hr)\n",
    "    pred_one.loc[pred_one < 0.52] = 0.52\n",
    "    pred_list.append(pred_one)"
   ]
  },
  {
   "cell_type": "code",
   "execution_count": 22,
   "metadata": {},
   "outputs": [],
   "source": [
    "result = pd.concat(pred_list).sort_index()\n",
    "result = result.loc[result.notnull()]\n",
    "result.loc[result<0.52] = 0.52"
   ]
  },
  {
   "cell_type": "code",
   "execution_count": 23,
   "metadata": {},
   "outputs": [],
   "source": [
    "obs_true = obs_df.loc[result.index, 'obs_ws']"
   ]
  },
  {
   "cell_type": "code",
   "execution_count": 24,
   "metadata": {},
   "outputs": [],
   "source": [
    "ws_ec = x_eval[[f'SPD10.{x}' for x in range(24)]]\n",
    "ws_ec = pd.Series(ws_ec.values[:-1, :].reshape((-1,)), index=obs_true.index)"
   ]
  },
  {
   "cell_type": "code",
   "execution_count": 26,
   "metadata": {},
   "outputs": [
    {
     "data": {
      "text/plain": [
       "2.2457878210050333"
      ]
     },
     "execution_count": 26,
     "metadata": {},
     "output_type": "execute_result"
    }
   ],
   "source": [
    "rmse(obs_true - ws_ec)"
   ]
  },
  {
   "cell_type": "code",
   "execution_count": 27,
   "metadata": {},
   "outputs": [
    {
     "data": {
      "text/plain": [
       "1.7984721339510827"
      ]
     },
     "execution_count": 27,
     "metadata": {},
     "output_type": "execute_result"
    }
   ],
   "source": [
    "rmse(obs_true - result)"
   ]
  },
  {
   "cell_type": "code",
   "execution_count": null,
   "metadata": {},
   "outputs": [],
   "source": []
  }
 ],
 "metadata": {
  "kernelspec": {
   "display_name": "Python 3",
   "language": "python",
   "name": "python3"
  },
  "language_info": {
   "codemirror_mode": {
    "name": "ipython",
    "version": 3
   },
   "file_extension": ".py",
   "mimetype": "text/x-python",
   "name": "python",
   "nbconvert_exporter": "python",
   "pygments_lexer": "ipython3",
   "version": "3.6.8"
  }
 },
 "nbformat": 4,
 "nbformat_minor": 2
}
