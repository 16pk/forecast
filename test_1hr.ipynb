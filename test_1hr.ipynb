{
 "cells": [
  {
   "cell_type": "code",
   "execution_count": 1,
   "metadata": {},
   "outputs": [],
   "source": [
    "import numpy as np\n",
    "import pandas as pd\n",
    "from datetime import datetime, timedelta\n",
    "from collections import defaultdict"
   ]
  },
  {
   "cell_type": "code",
   "execution_count": 2,
   "metadata": {},
   "outputs": [],
   "source": [
    "import xgboost as xgb"
   ]
  },
  {
   "cell_type": "code",
   "execution_count": 3,
   "metadata": {},
   "outputs": [],
   "source": [
    "import matplotlib.pyplot as plt\n",
    "%matplotlib inline"
   ]
  },
  {
   "cell_type": "code",
   "execution_count": 4,
   "metadata": {},
   "outputs": [],
   "source": [
    "def read_ec_data(filename):\n",
    "    with open(filename) as fid:\n",
    "        data_dct = defaultdict(dict)\n",
    "        for line in fid:\n",
    "            fields = line.strip('\\n').split('\\t')\n",
    "            if fields[1] == 'SLP':\n",
    "                continue\n",
    "            ec_time = datetime.strptime(fields[0], '%Y%m%d%H')\n",
    "            forecast_time = (ec_time + timedelta(hours=12))\n",
    "            for idx in range(-12, 24):\n",
    "                data_dct[forecast_time][f'{fields[1]}.{idx}'] = float(fields[idx + 12 + 2])\n",
    "    return pd.DataFrame(data_dct).transpose()"
   ]
  },
  {
   "cell_type": "code",
   "execution_count": 5,
   "metadata": {},
   "outputs": [],
   "source": [
    "def read_obs(filename):\n",
    "    obs_data = pd.read_csv(filename, header=None, names=['time', 'obs'], sep='\\t')\n",
    "    obs_data['date'] = pd.to_datetime(obs_data['time'] // 10000, format='%Y%m%d')\n",
    "    obs_data['hour'] = obs_data['time'] // 100 % 100\n",
    "    obs_data2 = obs_data.pivot(columns='hour', index='date', values='obs')\n",
    "    return obs_data2"
   ]
  },
  {
   "cell_type": "code",
   "execution_count": 6,
   "metadata": {},
   "outputs": [],
   "source": [
    "ec1 = read_ec_data('data/ec_fcst_2018030112_2018103112.txt')\n",
    "ec2 = read_ec_data('data/ec_fcst_2018110112_2018123012.txt')\n",
    "ec = pd.concat([ec1, ec2], axis=0)"
   ]
  },
  {
   "cell_type": "code",
   "execution_count": 7,
   "metadata": {},
   "outputs": [],
   "source": [
    "obs_p1 = read_obs('data/obs_2018030112_2018103112_site_01.txt')\n",
    "obs_p2 = read_obs('data/obs_2018110112_2018123012_site_01.txt')\n",
    "obs = pd.concat([obs_p1, obs_p2], axis=0).resample('1D').mean()"
   ]
  },
  {
   "cell_type": "code",
   "execution_count": 8,
   "metadata": {},
   "outputs": [],
   "source": [
    "yesterday_obs = obs.shift(1)\n",
    "yesterday_obs = yesterday_obs[[x for x in range(12, 24)]]"
   ]
  },
  {
   "cell_type": "code",
   "execution_count": 9,
   "metadata": {},
   "outputs": [],
   "source": [
    "yesterday_obs.columns = [x - 24 for x in yesterday_obs.columns]"
   ]
  },
  {
   "cell_type": "code",
   "execution_count": 10,
   "metadata": {},
   "outputs": [],
   "source": [
    "obs_mat = pd.concat([yesterday_obs, obs], axis=1)\n",
    "obs_mat.columns = [f'obs.{x}' for x in obs_mat.columns]"
   ]
  },
  {
   "cell_type": "code",
   "execution_count": 11,
   "metadata": {},
   "outputs": [],
   "source": [
    "obs_mat = obs_mat.loc[obs_mat['obs.-12'].notnull()]"
   ]
  },
  {
   "cell_type": "code",
   "execution_count": 12,
   "metadata": {},
   "outputs": [],
   "source": [
    "raw_data = ec.merge(obs_mat, left_index=True, right_index=True)"
   ]
  },
  {
   "cell_type": "markdown",
   "metadata": {},
   "source": [
    "### 特征加工"
   ]
  },
  {
   "cell_type": "code",
   "execution_count": 35,
   "metadata": {},
   "outputs": [],
   "source": [
    "# 风速，湿球温度与气温差值，预报风速误差\n",
    "for idx in range(-12, 24):\n",
    "    raw_data[f'ws.{idx}'] = np.sqrt(raw_data[f'U10.{idx}'] ** 2 + raw_data[f'V10.{idx}'] ** 2)\n",
    "    raw_data[f'rh_delta.{idx}'] = raw_data[f'T.{idx}'] - raw_data[f'RH.{idx}']\n",
    "    raw_data[f'bias.{idx}'] = raw_data[f'obs.{idx}'] - raw_data[f'ws.{idx}']"
   ]
  },
  {
   "cell_type": "code",
   "execution_count": 36,
   "metadata": {},
   "outputs": [],
   "source": [
    "# 气压变，温度变，风速变\n",
    "for idx in range(0, 24):\n",
    "    for span in (1, 3, 6, 12):\n",
    "        raw_data[f'PSFC_{span}d.{idx}'] = raw_data[f'PSFC.{idx}'] - raw_data[f'PSFC.{idx-span}']\n",
    "        raw_data[f'T_{span}d.{idx}'] = raw_data[f'T.{idx}'] - raw_data[f'T.{idx-span}']\n",
    "        raw_data[f'ws_{span}d.{idx}'] = raw_data[f'ws.{idx}'] - raw_data[f'ws.{idx-span}']"
   ]
  },
  {
   "cell_type": "code",
   "execution_count": 31,
   "metadata": {},
   "outputs": [],
   "source": [
    "is_train = raw_data.index < datetime(2018, 10, 1)\n",
    "is_eval = (raw_data.index >= datetime(2018, 10, 1)) & (raw_data.index < datetime(2018, 10, 18))\n",
    "is_test = (raw_data.index >= datetime(2018, 10, 18)) & (raw_data.index < datetime(2018, 11, 3))\n",
    "is_prod = raw_data.index >= datetime(2018, 11, 3)"
   ]
  },
  {
   "cell_type": "code",
   "execution_count": 32,
   "metadata": {},
   "outputs": [
    {
     "data": {
      "text/plain": [
       "(212, 17, 16, 29)"
      ]
     },
     "execution_count": 32,
     "metadata": {},
     "output_type": "execute_result"
    }
   ],
   "source": [
    "is_train.sum(), is_eval.sum(), is_test.sum(), is_prod.sum()"
   ]
  },
  {
   "cell_type": "markdown",
   "metadata": {},
   "source": [
    "### 训练模型"
   ]
  },
  {
   "cell_type": "code",
   "execution_count": 48,
   "metadata": {},
   "outputs": [],
   "source": [
    "def rmse(y_arr):\n",
    "    return np.sqrt((y_arr ** 2).mean())"
   ]
  },
  {
   "cell_type": "code",
   "execution_count": 37,
   "metadata": {},
   "outputs": [
    {
     "name": "stdout",
     "output_type": "stream",
     "text": [
      "['PSFC.-1', 'PSFC.-10', 'PSFC.-11', 'PSFC.-12', 'PSFC.-2', 'PSFC.-3', 'PSFC.-4', 'PSFC.-5', 'PSFC.-6', 'PSFC.-7', 'PSFC.-8', 'PSFC.-9', 'PSFC.0', 'PSFC.1', 'PSFC.10', 'PSFC.11', 'PSFC.12', 'PSFC.13', 'PSFC.14', 'PSFC.15', 'PSFC.16', 'PSFC.17', 'PSFC.18', 'PSFC.19', 'PSFC.2', 'PSFC.20', 'PSFC.21', 'PSFC.22', 'PSFC.23', 'PSFC.3', 'PSFC.4', 'PSFC.5', 'PSFC.6', 'PSFC.7', 'PSFC.8', 'PSFC.9', 'RH.-1', 'RH.-10', 'RH.-11', 'RH.-12', 'RH.-2', 'RH.-3', 'RH.-4', 'RH.-5', 'RH.-6', 'RH.-7', 'RH.-8', 'RH.-9', 'RH.0', 'RH.1', 'RH.10', 'RH.11', 'RH.12', 'RH.13', 'RH.14', 'RH.15', 'RH.16', 'RH.17', 'RH.18', 'RH.19', 'RH.2', 'RH.20', 'RH.21', 'RH.22', 'RH.23', 'RH.3', 'RH.4', 'RH.5', 'RH.6', 'RH.7', 'RH.8', 'RH.9', 'T.-1', 'T.-10', 'T.-11', 'T.-12', 'T.-2', 'T.-3', 'T.-4', 'T.-5', 'T.-6', 'T.-7', 'T.-8', 'T.-9', 'T.0', 'T.1', 'T.10', 'T.11', 'T.12', 'T.13', 'T.14', 'T.15', 'T.16', 'T.17', 'T.18', 'T.19', 'T.2', 'T.20', 'T.21', 'T.22', 'T.23', 'T.3', 'T.4', 'T.5', 'T.6', 'T.7', 'T.8', 'T.9', 'U10.-1', 'U10.-10', 'U10.-11', 'U10.-12', 'U10.-2', 'U10.-3', 'U10.-4', 'U10.-5', 'U10.-6', 'U10.-7', 'U10.-8', 'U10.-9', 'U10.0', 'U10.1', 'U10.10', 'U10.11', 'U10.12', 'U10.13', 'U10.14', 'U10.15', 'U10.16', 'U10.17', 'U10.18', 'U10.19', 'U10.2', 'U10.20', 'U10.21', 'U10.22', 'U10.23', 'U10.3', 'U10.4', 'U10.5', 'U10.6', 'U10.7', 'U10.8', 'U10.9', 'V10.-1', 'V10.-10', 'V10.-11', 'V10.-12', 'V10.-2', 'V10.-3', 'V10.-4', 'V10.-5', 'V10.-6', 'V10.-7', 'V10.-8', 'V10.-9', 'V10.0', 'V10.1', 'V10.10', 'V10.11', 'V10.12', 'V10.13', 'V10.14', 'V10.15', 'V10.16', 'V10.17', 'V10.18', 'V10.19', 'V10.2', 'V10.20', 'V10.21', 'V10.22', 'V10.23', 'V10.3', 'V10.4', 'V10.5', 'V10.6', 'V10.7', 'V10.8', 'V10.9', 'obs.-12', 'obs.-11', 'obs.-10', 'obs.-9', 'obs.-8', 'obs.-7', 'obs.-6', 'obs.-5', 'obs.-4', 'obs.-3', 'obs.-2', 'obs.-1', 'obs.0', 'obs.1', 'obs.2', 'obs.3', 'obs.4', 'obs.5', 'obs.6', 'obs.7', 'obs.8', 'obs.9', 'obs.10', 'obs.11', 'obs.12', 'obs.13', 'obs.14', 'obs.15', 'obs.16', 'obs.17', 'obs.18', 'obs.19', 'obs.20', 'obs.21', 'obs.22', 'obs.23', 'ws.-12', 'rh_delta.-12', 'bias.-12', 'ws.-11', 'rh_delta.-11', 'bias.-11', 'ws.-10', 'rh_delta.-10', 'bias.-10', 'ws.-9', 'rh_delta.-9', 'bias.-9', 'ws.-8', 'rh_delta.-8', 'bias.-8', 'ws.-7', 'rh_delta.-7', 'bias.-7', 'ws.-6', 'rh_delta.-6', 'bias.-6', 'ws.-5', 'rh_delta.-5', 'bias.-5', 'ws.-4', 'rh_delta.-4', 'bias.-4', 'ws.-3', 'rh_delta.-3', 'bias.-3', 'ws.-2', 'rh_delta.-2', 'bias.-2', 'ws.-1', 'rh_delta.-1', 'bias.-1', 'ws.0', 'rh_delta.0', 'bias.0', 'ws.1', 'rh_delta.1', 'bias.1', 'ws.2', 'rh_delta.2', 'bias.2', 'ws.3', 'rh_delta.3', 'bias.3', 'ws.4', 'rh_delta.4', 'bias.4', 'ws.5', 'rh_delta.5', 'bias.5', 'ws.6', 'rh_delta.6', 'bias.6', 'ws.7', 'rh_delta.7', 'bias.7', 'ws.8', 'rh_delta.8', 'bias.8', 'ws.9', 'rh_delta.9', 'bias.9', 'ws.10', 'rh_delta.10', 'bias.10', 'ws.11', 'rh_delta.11', 'bias.11', 'ws.12', 'rh_delta.12', 'bias.12', 'ws.13', 'rh_delta.13', 'bias.13', 'ws.14', 'rh_delta.14', 'bias.14', 'ws.15', 'rh_delta.15', 'bias.15', 'ws.16', 'rh_delta.16', 'bias.16', 'ws.17', 'rh_delta.17', 'bias.17', 'ws.18', 'rh_delta.18', 'bias.18', 'ws.19', 'rh_delta.19', 'bias.19', 'ws.20', 'rh_delta.20', 'bias.20', 'ws.21', 'rh_delta.21', 'bias.21', 'ws.22', 'rh_delta.22', 'bias.22', 'ws.23', 'rh_delta.23', 'bias.23', 'PSFC_1d.0', 'T_1d.0', 'ws_1d.0', 'PSFC_3d.0', 'T_3d.0', 'ws_3d.0', 'PSFC_6d.0', 'T_6d.0', 'ws_6d.0', 'PSFC_12d.0', 'T_12d.0', 'ws_12d.0', 'PSFC_1d.1', 'T_1d.1', 'ws_1d.1', 'PSFC_3d.1', 'T_3d.1', 'ws_3d.1', 'PSFC_6d.1', 'T_6d.1', 'ws_6d.1', 'PSFC_12d.1', 'T_12d.1', 'ws_12d.1', 'PSFC_1d.2', 'T_1d.2', 'ws_1d.2', 'PSFC_3d.2', 'T_3d.2', 'ws_3d.2', 'PSFC_6d.2', 'T_6d.2', 'ws_6d.2', 'PSFC_12d.2', 'T_12d.2', 'ws_12d.2', 'PSFC_1d.3', 'T_1d.3', 'ws_1d.3', 'PSFC_3d.3', 'T_3d.3', 'ws_3d.3', 'PSFC_6d.3', 'T_6d.3', 'ws_6d.3', 'PSFC_12d.3', 'T_12d.3', 'ws_12d.3', 'PSFC_1d.4', 'T_1d.4', 'ws_1d.4', 'PSFC_3d.4', 'T_3d.4', 'ws_3d.4', 'PSFC_6d.4', 'T_6d.4', 'ws_6d.4', 'PSFC_12d.4', 'T_12d.4', 'ws_12d.4', 'PSFC_1d.5', 'T_1d.5', 'ws_1d.5', 'PSFC_3d.5', 'T_3d.5', 'ws_3d.5', 'PSFC_6d.5', 'T_6d.5', 'ws_6d.5', 'PSFC_12d.5', 'T_12d.5', 'ws_12d.5', 'PSFC_1d.6', 'T_1d.6', 'ws_1d.6', 'PSFC_3d.6', 'T_3d.6', 'ws_3d.6', 'PSFC_6d.6', 'T_6d.6', 'ws_6d.6', 'PSFC_12d.6', 'T_12d.6', 'ws_12d.6', 'PSFC_1d.7', 'T_1d.7', 'ws_1d.7', 'PSFC_3d.7', 'T_3d.7', 'ws_3d.7', 'PSFC_6d.7', 'T_6d.7', 'ws_6d.7', 'PSFC_12d.7', 'T_12d.7', 'ws_12d.7', 'PSFC_1d.8', 'T_1d.8', 'ws_1d.8', 'PSFC_3d.8', 'T_3d.8', 'ws_3d.8', 'PSFC_6d.8', 'T_6d.8', 'ws_6d.8', 'PSFC_12d.8', 'T_12d.8', 'ws_12d.8', 'PSFC_1d.9', 'T_1d.9', 'ws_1d.9', 'PSFC_3d.9', 'T_3d.9', 'ws_3d.9', 'PSFC_6d.9', 'T_6d.9', 'ws_6d.9', 'PSFC_12d.9', 'T_12d.9', 'ws_12d.9', 'PSFC_1d.10', 'T_1d.10', 'ws_1d.10', 'PSFC_3d.10', 'T_3d.10', 'ws_3d.10', 'PSFC_6d.10', 'T_6d.10', 'ws_6d.10', 'PSFC_12d.10', 'T_12d.10', 'ws_12d.10', 'PSFC_1d.11', 'T_1d.11', 'ws_1d.11', 'PSFC_3d.11', 'T_3d.11', 'ws_3d.11', 'PSFC_6d.11', 'T_6d.11', 'ws_6d.11', 'PSFC_12d.11', 'T_12d.11', 'ws_12d.11', 'PSFC_1d.12', 'T_1d.12', 'ws_1d.12', 'PSFC_3d.12', 'T_3d.12', 'ws_3d.12', 'PSFC_6d.12', 'T_6d.12', 'ws_6d.12', 'PSFC_12d.12', 'T_12d.12', 'ws_12d.12', 'PSFC_1d.13', 'T_1d.13', 'ws_1d.13', 'PSFC_3d.13', 'T_3d.13', 'ws_3d.13', 'PSFC_6d.13', 'T_6d.13', 'ws_6d.13', 'PSFC_12d.13', 'T_12d.13', 'ws_12d.13', 'PSFC_1d.14', 'T_1d.14', 'ws_1d.14', 'PSFC_3d.14', 'T_3d.14', 'ws_3d.14', 'PSFC_6d.14', 'T_6d.14', 'ws_6d.14', 'PSFC_12d.14', 'T_12d.14', 'ws_12d.14', 'PSFC_1d.15', 'T_1d.15', 'ws_1d.15', 'PSFC_3d.15', 'T_3d.15', 'ws_3d.15', 'PSFC_6d.15', 'T_6d.15', 'ws_6d.15', 'PSFC_12d.15', 'T_12d.15', 'ws_12d.15', 'PSFC_1d.16', 'T_1d.16', 'ws_1d.16', 'PSFC_3d.16', 'T_3d.16', 'ws_3d.16', 'PSFC_6d.16', 'T_6d.16', 'ws_6d.16', 'PSFC_12d.16', 'T_12d.16', 'ws_12d.16', 'PSFC_1d.17', 'T_1d.17', 'ws_1d.17', 'PSFC_3d.17', 'T_3d.17', 'ws_3d.17', 'PSFC_6d.17', 'T_6d.17', 'ws_6d.17', 'PSFC_12d.17', 'T_12d.17', 'ws_12d.17', 'PSFC_1d.18', 'T_1d.18', 'ws_1d.18', 'PSFC_3d.18', 'T_3d.18', 'ws_3d.18', 'PSFC_6d.18', 'T_6d.18', 'ws_6d.18', 'PSFC_12d.18', 'T_12d.18', 'ws_12d.18', 'PSFC_1d.19', 'T_1d.19', 'ws_1d.19', 'PSFC_3d.19', 'T_3d.19', 'ws_3d.19', 'PSFC_6d.19', 'T_6d.19', 'ws_6d.19', 'PSFC_12d.19', 'T_12d.19', 'ws_12d.19', 'PSFC_1d.20', 'T_1d.20', 'ws_1d.20', 'PSFC_3d.20', 'T_3d.20', 'ws_3d.20', 'PSFC_6d.20', 'T_6d.20', 'ws_6d.20', 'PSFC_12d.20', 'T_12d.20', 'ws_12d.20', 'PSFC_1d.21', 'T_1d.21', 'ws_1d.21', 'PSFC_3d.21', 'T_3d.21', 'ws_3d.21', 'PSFC_6d.21', 'T_6d.21', 'ws_6d.21', 'PSFC_12d.21', 'T_12d.21', 'ws_12d.21', 'PSFC_1d.22', 'T_1d.22', 'ws_1d.22', 'PSFC_3d.22', 'T_3d.22', 'ws_3d.22', 'PSFC_6d.22', 'T_6d.22', 'ws_6d.22', 'PSFC_12d.22', 'T_12d.22', 'ws_12d.22', 'PSFC_1d.23', 'T_1d.23', 'ws_1d.23', 'PSFC_3d.23', 'T_3d.23', 'ws_3d.23', 'PSFC_6d.23', 'T_6d.23', 'ws_6d.23', 'PSFC_12d.23', 'T_12d.23', 'ws_12d.23']\n"
     ]
    }
   ],
   "source": [
    "print(list(raw_data.columns))"
   ]
  },
  {
   "cell_type": "code",
   "execution_count": 195,
   "metadata": {},
   "outputs": [],
   "source": [
    "fc_hr = 23"
   ]
  },
  {
   "cell_type": "code",
   "execution_count": 171,
   "metadata": {},
   "outputs": [],
   "source": [
    "# feat_list = [f'U10.{x}' for x in range(-12, 0)] + [f'V10.{x}' for x in range(-12, 0)] + \\\n",
    "#     [f'bias.{x}' for x in range(-12, 0)] + [f'ws.{x}' for x in range(-12, 0)] + \\\n",
    "#     [f'rh_delta.{x}' for x in range(-12, 0)] + [f'U10.{fc_hr}' + f'V10.{fc_hr}' + f'ws.{fc_hr}' + f'rh_delta.{fc_hr}'] + \\\n",
    "#     [f'PSFC_{span}d.{fc_hr}' for span in (1, 3, 6, 12)] + [f'T_{span}d.{fc_hr}' for span in (1, 3, 6, 12)] + \\\n",
    "#     [f'ws_{span}d.{fc_hr}' for span in (1, 3, 6, 12)]"
   ]
  },
  {
   "cell_type": "code",
   "execution_count": 196,
   "metadata": {},
   "outputs": [],
   "source": [
    "feat_list = [f'U10.{x}' for x in range(-12, 24)] + [f'V10.{x}' for x in range(-12, 24)] + \\\n",
    "    [f'bias.{x}' for x in range(-12, 0)] + [f'ws.{x}' for x in range(-12, 24)] + \\\n",
    "    [f'rh_delta.{x}' for x in range(-12, 24)] + \\\n",
    "    [f'PSFC_{span}d.{fc_hr}' for span in (1, 3, 6, 12)] + [f'T_{span}d.{fc_hr}' for span in (1, 3, 6, 12)] + \\\n",
    "    [f'ws_{span}d.{fc_hr}' for span in (1, 3, 6, 12)]"
   ]
  },
  {
   "cell_type": "code",
   "execution_count": 197,
   "metadata": {},
   "outputs": [],
   "source": [
    "x_train = raw_data.loc[is_train, feat_list]\n",
    "x_eval = raw_data.loc[is_eval, feat_list]\n",
    "x_test = raw_data.loc[is_test, feat_list]"
   ]
  },
  {
   "cell_type": "code",
   "execution_count": 198,
   "metadata": {},
   "outputs": [],
   "source": [
    "y_train = raw_data.loc[is_train, f'bias.{fc_hr}']\n",
    "y_eval = raw_data.loc[is_eval, f'bias.{fc_hr}']\n",
    "y_test = raw_data.loc[is_test, f'bias.{fc_hr}']"
   ]
  },
  {
   "cell_type": "code",
   "execution_count": 199,
   "metadata": {},
   "outputs": [
    {
     "name": "stdout",
     "output_type": "stream",
     "text": [
      "1.240661642136676 1.2907025076117304 1.627885835786151\n"
     ]
    }
   ],
   "source": [
    "print(rmse(y_train), rmse(y_eval), rmse(y_test))"
   ]
  },
  {
   "cell_type": "code",
   "execution_count": 200,
   "metadata": {},
   "outputs": [
    {
     "data": {
      "text/plain": [
       "168"
      ]
     },
     "execution_count": 200,
     "metadata": {},
     "output_type": "execute_result"
    }
   ],
   "source": [
    "len(feat_list)"
   ]
  },
  {
   "cell_type": "code",
   "execution_count": 201,
   "metadata": {},
   "outputs": [],
   "source": [
    "clf = xgb.XGBRegressor(booster='dart', learning_rate=0.04, n_estimators=400, subsample=0.3, colsample_bytree=0.35, max_depth=3)"
   ]
  },
  {
   "cell_type": "code",
   "execution_count": 202,
   "metadata": {},
   "outputs": [
    {
     "name": "stdout",
     "output_type": "stream",
     "text": [
      "[0]\tvalidation_0-rmse:1.2439\n",
      "[20]\tvalidation_0-rmse:1.26196\n",
      "[40]\tvalidation_0-rmse:1.2631\n",
      "[60]\tvalidation_0-rmse:1.25236\n",
      "[80]\tvalidation_0-rmse:1.24536\n",
      "[100]\tvalidation_0-rmse:1.25308\n",
      "[120]\tvalidation_0-rmse:1.22191\n",
      "[140]\tvalidation_0-rmse:1.20644\n",
      "[160]\tvalidation_0-rmse:1.1886\n",
      "[180]\tvalidation_0-rmse:1.18484\n",
      "[200]\tvalidation_0-rmse:1.19757\n",
      "[220]\tvalidation_0-rmse:1.21202\n",
      "[240]\tvalidation_0-rmse:1.19653\n",
      "[260]\tvalidation_0-rmse:1.19826\n",
      "[280]\tvalidation_0-rmse:1.2047\n",
      "[300]\tvalidation_0-rmse:1.18969\n",
      "[320]\tvalidation_0-rmse:1.18852\n",
      "[340]\tvalidation_0-rmse:1.18081\n",
      "[360]\tvalidation_0-rmse:1.17738\n",
      "[380]\tvalidation_0-rmse:1.16872\n",
      "[399]\tvalidation_0-rmse:1.17243\n"
     ]
    },
    {
     "data": {
      "text/plain": [
       "XGBRegressor(base_score=0.5, booster='dart', colsample_bylevel=1,\n",
       "       colsample_bytree=0.35, gamma=0, learning_rate=0.04,\n",
       "       max_delta_step=0, max_depth=3, min_child_weight=1, missing=None,\n",
       "       n_estimators=400, n_jobs=1, nthread=None, objective='reg:linear',\n",
       "       random_state=0, reg_alpha=0, reg_lambda=1, scale_pos_weight=1,\n",
       "       seed=None, silent=True, subsample=0.3)"
      ]
     },
     "execution_count": 202,
     "metadata": {},
     "output_type": "execute_result"
    }
   ],
   "source": [
    "clf.fit(x_train, y_train, eval_set=[(x_eval, y_eval)], eval_metric='rmse', verbose=20)"
   ]
  },
  {
   "cell_type": "code",
   "execution_count": 203,
   "metadata": {},
   "outputs": [],
   "source": [
    "y_pred_eval = clf.predict(x_eval)\n",
    "y_pred_eval = pd.Series(y_pred_eval, index=y_eval.index)"
   ]
  },
  {
   "cell_type": "code",
   "execution_count": 204,
   "metadata": {},
   "outputs": [
    {
     "data": {
      "text/plain": [
       "1.172432708131372"
      ]
     },
     "execution_count": 204,
     "metadata": {},
     "output_type": "execute_result"
    }
   ],
   "source": [
    "rmse(y_pred_eval - y_eval)"
   ]
  },
  {
   "cell_type": "code",
   "execution_count": 205,
   "metadata": {},
   "outputs": [],
   "source": [
    "y_test_eval = clf.predict(x_test)\n",
    "y_test_eval = pd.Series(y_test_eval, index=y_test.index)"
   ]
  },
  {
   "cell_type": "code",
   "execution_count": 206,
   "metadata": {},
   "outputs": [
    {
     "data": {
      "text/plain": [
       "1.5934879159175075"
      ]
     },
     "execution_count": 206,
     "metadata": {},
     "output_type": "execute_result"
    }
   ],
   "source": [
    "rmse(y_test - y_test_eval)"
   ]
  },
  {
   "cell_type": "code",
   "execution_count": null,
   "metadata": {},
   "outputs": [],
   "source": []
  }
 ],
 "metadata": {
  "kernelspec": {
   "display_name": "Python 3",
   "language": "python",
   "name": "python3"
  },
  "language_info": {
   "codemirror_mode": {
    "name": "ipython",
    "version": 3
   },
   "file_extension": ".py",
   "mimetype": "text/x-python",
   "name": "python",
   "nbconvert_exporter": "python",
   "pygments_lexer": "ipython3",
   "version": "3.6.8"
  }
 },
 "nbformat": 4,
 "nbformat_minor": 2
}
