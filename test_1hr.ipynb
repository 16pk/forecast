{
 "cells": [
  {
   "cell_type": "code",
   "execution_count": 1,
   "metadata": {},
   "outputs": [],
   "source": [
    "import numpy as np\n",
    "import pandas as pd\n",
    "from datetime import datetime, timedelta\n",
    "from collections import defaultdict\n",
    "import warnings"
   ]
  },
  {
   "cell_type": "code",
   "execution_count": 2,
   "metadata": {},
   "outputs": [],
   "source": [
    "import xgboost as xgb"
   ]
  },
  {
   "cell_type": "code",
   "execution_count": 3,
   "metadata": {},
   "outputs": [],
   "source": [
    "import matplotlib.pyplot as plt\n",
    "%matplotlib inline"
   ]
  },
  {
   "cell_type": "code",
   "execution_count": 4,
   "metadata": {},
   "outputs": [],
   "source": [
    "def read_ec_data(filename):\n",
    "    with open(filename) as fid:\n",
    "        data_dct = defaultdict(dict)\n",
    "        for line in fid:\n",
    "            fields = line.strip('\\n').split('\\t')\n",
    "            if fields[1] == 'SLP':\n",
    "                continue\n",
    "            ec_time = datetime.strptime(fields[0], '%Y%m%d%H')\n",
    "            forecast_time = (ec_time + timedelta(hours=12))\n",
    "            for idx in range(-12, 24):\n",
    "                data_dct[forecast_time][f'{fields[1]}.{idx}'] = float(fields[idx + 12 + 2])\n",
    "    return pd.DataFrame(data_dct).transpose()"
   ]
  },
  {
   "cell_type": "code",
   "execution_count": 5,
   "metadata": {},
   "outputs": [],
   "source": [
    "def read_obs(filename):\n",
    "    obs_data = pd.read_csv(filename, header=None, names=['time', 'obs'], sep='\\t')\n",
    "    obs_data['date'] = pd.to_datetime(obs_data['time'] // 10000, format='%Y%m%d')\n",
    "    obs_data['hour'] = obs_data['time'] // 100 % 100\n",
    "    obs_data2 = obs_data.pivot(columns='hour', index='date', values='obs')\n",
    "    return obs_data2"
   ]
  },
  {
   "cell_type": "code",
   "execution_count": 6,
   "metadata": {},
   "outputs": [],
   "source": [
    "ec1 = read_ec_data('data/ec_fcst_2018030112_2018103112.txt')\n",
    "ec2 = read_ec_data('data/ec_fcst_2018110112_2018123012.txt')\n",
    "ec = pd.concat([ec1, ec2], axis=0)"
   ]
  },
  {
   "cell_type": "code",
   "execution_count": 7,
   "metadata": {},
   "outputs": [],
   "source": [
    "obs_p1 = read_obs('data/obs_2018030112_2018103112_site_01.txt')\n",
    "obs_p2 = read_obs('data/obs_2018110112_2018123012_site_01.txt')\n",
    "obs = pd.concat([obs_p1, obs_p2], axis=0).resample('1D').mean()"
   ]
  },
  {
   "cell_type": "code",
   "execution_count": 8,
   "metadata": {},
   "outputs": [],
   "source": [
    "yesterday_obs = obs.shift(1)\n",
    "yesterday_obs = yesterday_obs[[x for x in range(12, 24)]]"
   ]
  },
  {
   "cell_type": "code",
   "execution_count": 9,
   "metadata": {},
   "outputs": [],
   "source": [
    "yesterday_obs.columns = [x - 24 for x in yesterday_obs.columns]"
   ]
  },
  {
   "cell_type": "code",
   "execution_count": 10,
   "metadata": {},
   "outputs": [],
   "source": [
    "obs_mat = pd.concat([yesterday_obs, obs], axis=1)\n",
    "obs_mat.columns = [f'obs.{x}' for x in obs_mat.columns]"
   ]
  },
  {
   "cell_type": "code",
   "execution_count": 11,
   "metadata": {},
   "outputs": [],
   "source": [
    "obs_mat = obs_mat.loc[obs_mat['obs.-12'].notnull()]"
   ]
  },
  {
   "cell_type": "code",
   "execution_count": 12,
   "metadata": {},
   "outputs": [],
   "source": [
    "raw_data = ec.merge(obs_mat, left_index=True, right_index=True)"
   ]
  },
  {
   "cell_type": "markdown",
   "metadata": {},
   "source": [
    "### 特征加工"
   ]
  },
  {
   "cell_type": "code",
   "execution_count": 13,
   "metadata": {},
   "outputs": [],
   "source": [
    "# 风速，湿球温度与气温差值，预报风速误差\n",
    "for idx in range(-12, 24):\n",
    "    raw_data[f'ws.{idx}'] = np.sqrt(raw_data[f'U10.{idx}'] ** 2 + raw_data[f'V10.{idx}'] ** 2)\n",
    "    raw_data[f'rh_delta.{idx}'] = raw_data[f'T.{idx}'] - raw_data[f'RH.{idx}']\n",
    "    raw_data[f'bias.{idx}'] = raw_data[f'obs.{idx}'] - raw_data[f'ws.{idx}']"
   ]
  },
  {
   "cell_type": "code",
   "execution_count": 14,
   "metadata": {},
   "outputs": [],
   "source": [
    "# 气压变，温度变，风速变\n",
    "for idx in range(0, 24):\n",
    "    for span in (1, 3, 6, 12):\n",
    "        raw_data[f'PSFC_{span}d.{idx}'] = raw_data[f'PSFC.{idx}'] - raw_data[f'PSFC.{idx-span}']\n",
    "        raw_data[f'T_{span}d.{idx}'] = raw_data[f'T.{idx}'] - raw_data[f'T.{idx-span}']\n",
    "        raw_data[f'ws_{span}d.{idx}'] = raw_data[f'ws.{idx}'] - raw_data[f'ws.{idx-span}']"
   ]
  },
  {
   "cell_type": "code",
   "execution_count": 15,
   "metadata": {},
   "outputs": [],
   "source": [
    "is_train = raw_data.index < datetime(2018, 10, 1)\n",
    "is_eval = (raw_data.index >= datetime(2018, 10, 1)) & (raw_data.index < datetime(2018, 10, 18))\n",
    "is_test = (raw_data.index >= datetime(2018, 10, 18)) & (raw_data.index < datetime(2018, 11, 3))\n",
    "is_prod = raw_data.index >= datetime(2018, 11, 3)"
   ]
  },
  {
   "cell_type": "code",
   "execution_count": 16,
   "metadata": {},
   "outputs": [
    {
     "data": {
      "text/plain": [
       "(212, 17, 16, 29)"
      ]
     },
     "execution_count": 16,
     "metadata": {},
     "output_type": "execute_result"
    }
   ],
   "source": [
    "is_train.sum(), is_eval.sum(), is_test.sum(), is_prod.sum()"
   ]
  },
  {
   "cell_type": "markdown",
   "metadata": {},
   "source": [
    "### 训练模型"
   ]
  },
  {
   "cell_type": "markdown",
   "metadata": {},
   "source": [
    "每个预报时次独立训练。预测对象为实际风速与EC风速的差值。预报结果再叠加上EC风速作为最终的预报结果。"
   ]
  },
  {
   "cell_type": "code",
   "execution_count": 17,
   "metadata": {},
   "outputs": [],
   "source": [
    "def rmse(y_arr):\n",
    "    return np.sqrt((y_arr ** 2).mean())"
   ]
  },
  {
   "cell_type": "code",
   "execution_count": 18,
   "metadata": {},
   "outputs": [],
   "source": [
    "fc_hr = 12"
   ]
  },
  {
   "cell_type": "code",
   "execution_count": 20,
   "metadata": {},
   "outputs": [],
   "source": [
    "# feat_list = [f'U10.{x}' for x in range(-12, 0)] + [f'V10.{x}' for x in range(-12, 0)] + \\\n",
    "#     [f'bias.{x}' for x in range(-12, 0)] + [f'ws.{x}' for x in range(-12, 0)] + \\\n",
    "#     [f'rh_delta.{x}' for x in range(-12, 0)] + [f'U10.{fc_hr}' + f'V10.{fc_hr}' + f'ws.{fc_hr}' + f'rh_delta.{fc_hr}'] + \\\n",
    "#     [f'PSFC_{span}d.{fc_hr}' for span in (1, 3, 6, 12)] + [f'T_{span}d.{fc_hr}' for span in (1, 3, 6, 12)] + \\\n",
    "#     [f'ws_{span}d.{fc_hr}' for span in (1, 3, 6, 12)]"
   ]
  },
  {
   "cell_type": "code",
   "execution_count": 19,
   "metadata": {},
   "outputs": [],
   "source": [
    "feat_list = [f'U10.{x}' for x in range(-12, 24)] + [f'V10.{x}' for x in range(-12, 24)] + \\\n",
    "    [f'bias.{x}' for x in range(-12, 0)] + [f'ws.{x}' for x in range(-12, 24)] + \\\n",
    "    [f'rh_delta.{x}' for x in range(-12, 24)] + \\\n",
    "    [f'PSFC_{span}d.{fc_hr}' for span in (1, 3, 6, 12)] + [f'T_{span}d.{fc_hr}' for span in (1, 3, 6, 12)] + \\\n",
    "    [f'ws_{span}d.{fc_hr}' for span in (1, 3, 6, 12)]"
   ]
  },
  {
   "cell_type": "code",
   "execution_count": 20,
   "metadata": {},
   "outputs": [],
   "source": [
    "x_train = raw_data.loc[is_train, feat_list]\n",
    "x_eval = raw_data.loc[is_eval, feat_list]\n",
    "x_test = raw_data.loc[is_test, feat_list]"
   ]
  },
  {
   "cell_type": "code",
   "execution_count": 21,
   "metadata": {},
   "outputs": [],
   "source": [
    "y_train = raw_data.loc[is_train, f'bias.{fc_hr}']\n",
    "y_eval = raw_data.loc[is_eval, f'bias.{fc_hr}']\n",
    "y_test = raw_data.loc[is_test, f'bias.{fc_hr}']"
   ]
  },
  {
   "cell_type": "code",
   "execution_count": 22,
   "metadata": {},
   "outputs": [
    {
     "name": "stdout",
     "output_type": "stream",
     "text": [
      "1.2292265630625003 1.2818262517841104 1.9991384964855663\n"
     ]
    }
   ],
   "source": [
    "print(rmse(y_train), rmse(y_eval), rmse(y_test))"
   ]
  },
  {
   "cell_type": "code",
   "execution_count": 23,
   "metadata": {},
   "outputs": [
    {
     "data": {
      "text/plain": [
       "168"
      ]
     },
     "execution_count": 23,
     "metadata": {},
     "output_type": "execute_result"
    }
   ],
   "source": [
    "len(feat_list)"
   ]
  },
  {
   "cell_type": "markdown",
   "metadata": {},
   "source": [
    "### 贝叶斯调参"
   ]
  },
  {
   "cell_type": "markdown",
   "metadata": {},
   "source": [
    "需要多次迭代，以及计算贝叶斯概率。耗时会成倍增加"
   ]
  },
  {
   "cell_type": "code",
   "execution_count": 24,
   "metadata": {},
   "outputs": [],
   "source": [
    "from bayes_opt import BayesianOptimization"
   ]
  },
  {
   "cell_type": "code",
   "execution_count": 25,
   "metadata": {},
   "outputs": [],
   "source": [
    "def bo_result_to_xgb(bo_res):\n",
    "    xgb_params = bo_res.copy()\n",
    "    if 'log_gamma' in xgb_params:\n",
    "        xgb_params['gamma'] = 10**xgb_params['log_gamma']\n",
    "        xgb_params.pop('log_gamma')\n",
    "    if 'max_depth' in xgb_params:\n",
    "        xgb_params['max_depth'] = int(np.round(xgb_params['max_depth']))\n",
    "    if 'max_delta_step' in xgb_params:\n",
    "        xgb_params['max_delta_step'] = int(np.round(xgb_params['max_delta_step']))\n",
    "    if 'subsample' in xgb_params:\n",
    "        xgb_params['subsample'] = max(min(xgb_params['subsample'], 1), 0)\n",
    "    if 'colsample_bytree' in xgb_params:\n",
    "        xgb_params['colsample_bytree'] = max(min(xgb_params['colsample_bytree'], 1), 0)\n",
    "    return xgb_params"
   ]
  },
  {
   "cell_type": "code",
   "execution_count": 26,
   "metadata": {},
   "outputs": [],
   "source": [
    "def xgb_model(**kwargs):\n",
    "    xgb_params = bo_result_to_xgb(kwargs)\n",
    "    clf = xgb.XGBRegressor(booster='gbtree', n_estimators=400, verbosity=0, n_jobs=16, seed=42,\n",
    "                            reg_alpha=0.1, reg_lambda=0.1, **xgb_params)\n",
    "    clf.fit(x_train, y_train, eval_set=[(x_train, y_train), (x_eval, y_eval)], eval_metric='rmse',\n",
    "            verbose=False)\n",
    "    eval_result = clf.evals_result()\n",
    "    train_rmse = eval_result['validation_0']['rmse'][-1]\n",
    "    dev_rmse = eval_result['validation_1']['rmse'][-1]\n",
    "    n_trees = len(eval_result['validation_0']['rmse'])\n",
    "    return -dev_rmse"
   ]
  },
  {
   "cell_type": "code",
   "execution_count": 27,
   "metadata": {},
   "outputs": [],
   "source": [
    "xgb_bayes = BayesianOptimization(xgb_model, {\n",
    "    'learning_rate': (0.02, 0.06),\n",
    "    'max_depth': (3, 7),\n",
    "    'log_gamma': (-3, 1),\n",
    "    'min_child_weight': (0, 20),\n",
    "    'max_delta_step': (0, 10),\n",
    "    'subsample': (0.3, 0.9),\n",
    "    'colsample_bytree': (0.3, 0.9)\n",
    "})"
   ]
  },
  {
   "cell_type": "code",
   "execution_count": 28,
   "metadata": {},
   "outputs": [
    {
     "name": "stdout",
     "output_type": "stream",
     "text": [
      "|   iter    |  target   | colsam... | learni... | log_gamma | max_de... | max_depth | min_ch... | subsample |\n",
      "-------------------------------------------------------------------------------------------------------------\n",
      "| \u001b[0m 1       \u001b[0m | \u001b[0m-0.8628  \u001b[0m | \u001b[0m 0.5074  \u001b[0m | \u001b[0m 0.04001 \u001b[0m | \u001b[0m-1.818   \u001b[0m | \u001b[0m 3.14    \u001b[0m | \u001b[0m 5.057   \u001b[0m | \u001b[0m 5.451   \u001b[0m | \u001b[0m 0.4073  \u001b[0m |\n",
      "| \u001b[0m 2       \u001b[0m | \u001b[0m-0.8736  \u001b[0m | \u001b[0m 0.6125  \u001b[0m | \u001b[0m 0.03991 \u001b[0m | \u001b[0m-1.475   \u001b[0m | \u001b[0m 4.43    \u001b[0m | \u001b[0m 3.641   \u001b[0m | \u001b[0m 18.42   \u001b[0m | \u001b[0m 0.4361  \u001b[0m |\n",
      "| \u001b[0m 3       \u001b[0m | \u001b[0m-0.9278  \u001b[0m | \u001b[0m 0.7991  \u001b[0m | \u001b[0m 0.05466 \u001b[0m | \u001b[0m 0.8298  \u001b[0m | \u001b[0m 6.068   \u001b[0m | \u001b[0m 6.104   \u001b[0m | \u001b[0m 10.66   \u001b[0m | \u001b[0m 0.8847  \u001b[0m |\n",
      "| \u001b[95m 4       \u001b[0m | \u001b[95m-0.791   \u001b[0m | \u001b[95m 0.6825  \u001b[0m | \u001b[95m 0.03344 \u001b[0m | \u001b[95m 0.4346  \u001b[0m | \u001b[95m 7.158   \u001b[0m | \u001b[95m 6.868   \u001b[0m | \u001b[95m 11.15   \u001b[0m | \u001b[95m 0.7191  \u001b[0m |\n",
      "| \u001b[0m 5       \u001b[0m | \u001b[0m-0.9043  \u001b[0m | \u001b[0m 0.7527  \u001b[0m | \u001b[0m 0.03017 \u001b[0m | \u001b[0m 0.1218  \u001b[0m | \u001b[0m 7.664   \u001b[0m | \u001b[0m 6.402   \u001b[0m | \u001b[0m 0.9519  \u001b[0m | \u001b[0m 0.4561  \u001b[0m |\n",
      "| \u001b[95m 6       \u001b[0m | \u001b[95m-0.7837  \u001b[0m | \u001b[95m 0.7266  \u001b[0m | \u001b[95m 0.02645 \u001b[0m | \u001b[95m-2.327   \u001b[0m | \u001b[95m 9.26    \u001b[0m | \u001b[95m 4.081   \u001b[0m | \u001b[95m 14.62   \u001b[0m | \u001b[95m 0.8244  \u001b[0m |\n",
      "| \u001b[0m 7       \u001b[0m | \u001b[0m-0.8897  \u001b[0m | \u001b[0m 0.7111  \u001b[0m | \u001b[0m 0.02518 \u001b[0m | \u001b[0m 0.8426  \u001b[0m | \u001b[0m 2.426   \u001b[0m | \u001b[0m 5.305   \u001b[0m | \u001b[0m 18.06   \u001b[0m | \u001b[0m 0.5117  \u001b[0m |\n",
      "| \u001b[0m 8       \u001b[0m | \u001b[0m-0.801   \u001b[0m | \u001b[0m 0.8611  \u001b[0m | \u001b[0m 0.02214 \u001b[0m | \u001b[0m 0.1384  \u001b[0m | \u001b[0m 5.974   \u001b[0m | \u001b[0m 6.356   \u001b[0m | \u001b[0m 8.969   \u001b[0m | \u001b[0m 0.477   \u001b[0m |\n",
      "| \u001b[0m 9       \u001b[0m | \u001b[0m-0.8694  \u001b[0m | \u001b[0m 0.335   \u001b[0m | \u001b[0m 0.0552  \u001b[0m | \u001b[0m 0.0743  \u001b[0m | \u001b[0m 6.198   \u001b[0m | \u001b[0m 3.732   \u001b[0m | \u001b[0m 19.57   \u001b[0m | \u001b[0m 0.3303  \u001b[0m |\n",
      "| \u001b[0m 10      \u001b[0m | \u001b[0m-0.8189  \u001b[0m | \u001b[0m 0.5777  \u001b[0m | \u001b[0m 0.05518 \u001b[0m | \u001b[0m-0.4544  \u001b[0m | \u001b[0m 5.443   \u001b[0m | \u001b[0m 4.566   \u001b[0m | \u001b[0m 16.7    \u001b[0m | \u001b[0m 0.3634  \u001b[0m |\n",
      "| \u001b[0m 11      \u001b[0m | \u001b[0m-0.8095  \u001b[0m | \u001b[0m 0.8735  \u001b[0m | \u001b[0m 0.04061 \u001b[0m | \u001b[0m-2.27    \u001b[0m | \u001b[0m 3.862   \u001b[0m | \u001b[0m 5.521   \u001b[0m | \u001b[0m 0.3079  \u001b[0m | \u001b[0m 0.4732  \u001b[0m |\n",
      "| \u001b[0m 12      \u001b[0m | \u001b[0m-0.9227  \u001b[0m | \u001b[0m 0.8801  \u001b[0m | \u001b[0m 0.0398  \u001b[0m | \u001b[0m-0.6245  \u001b[0m | \u001b[0m 4.567   \u001b[0m | \u001b[0m 6.495   \u001b[0m | \u001b[0m 1.14    \u001b[0m | \u001b[0m 0.3114  \u001b[0m |\n",
      "| \u001b[0m 13      \u001b[0m | \u001b[0m-0.7984  \u001b[0m | \u001b[0m 0.4278  \u001b[0m | \u001b[0m 0.0255  \u001b[0m | \u001b[0m-0.6129  \u001b[0m | \u001b[0m 3.123   \u001b[0m | \u001b[0m 4.49    \u001b[0m | \u001b[0m 18.23   \u001b[0m | \u001b[0m 0.8577  \u001b[0m |\n",
      "| \u001b[0m 14      \u001b[0m | \u001b[0m-0.8365  \u001b[0m | \u001b[0m 0.4846  \u001b[0m | \u001b[0m 0.04744 \u001b[0m | \u001b[0m-2.306   \u001b[0m | \u001b[0m 9.431   \u001b[0m | \u001b[0m 4.681   \u001b[0m | \u001b[0m 1.812   \u001b[0m | \u001b[0m 0.6763  \u001b[0m |\n",
      "| \u001b[0m 15      \u001b[0m | \u001b[0m-0.9176  \u001b[0m | \u001b[0m 0.3445  \u001b[0m | \u001b[0m 0.03165 \u001b[0m | \u001b[0m 0.442   \u001b[0m | \u001b[0m 0.267   \u001b[0m | \u001b[0m 6.739   \u001b[0m | \u001b[0m 3.948   \u001b[0m | \u001b[0m 0.8708  \u001b[0m |\n",
      "| \u001b[95m 16      \u001b[0m | \u001b[95m-0.7796  \u001b[0m | \u001b[95m 0.3     \u001b[0m | \u001b[95m 0.02    \u001b[0m | \u001b[95m-3.0     \u001b[0m | \u001b[95m 10.0    \u001b[0m | \u001b[95m 7.0     \u001b[0m | \u001b[95m 20.0    \u001b[0m | \u001b[95m 0.9     \u001b[0m |\n",
      "| \u001b[0m 17      \u001b[0m | \u001b[0m-0.8192  \u001b[0m | \u001b[0m 0.3     \u001b[0m | \u001b[0m 0.02    \u001b[0m | \u001b[0m-3.0     \u001b[0m | \u001b[0m 0.0     \u001b[0m | \u001b[0m 7.0     \u001b[0m | \u001b[0m 12.49   \u001b[0m | \u001b[0m 0.9     \u001b[0m |\n",
      "| \u001b[0m 18      \u001b[0m | \u001b[0m-0.8575  \u001b[0m | \u001b[0m 0.3     \u001b[0m | \u001b[0m 0.02    \u001b[0m | \u001b[0m-3.0     \u001b[0m | \u001b[0m 10.0    \u001b[0m | \u001b[0m 7.0     \u001b[0m | \u001b[0m 7.985   \u001b[0m | \u001b[0m 0.3     \u001b[0m |\n",
      "| \u001b[0m 19      \u001b[0m | \u001b[0m-0.7796  \u001b[0m | \u001b[0m 0.3     \u001b[0m | \u001b[0m 0.02    \u001b[0m | \u001b[0m-3.0     \u001b[0m | \u001b[0m 4.441e-1\u001b[0m | \u001b[0m 7.0     \u001b[0m | \u001b[0m 20.0    \u001b[0m | \u001b[0m 0.9     \u001b[0m |\n",
      "| \u001b[0m 20      \u001b[0m | \u001b[0m-1.009   \u001b[0m | \u001b[0m 0.3     \u001b[0m | \u001b[0m 0.02    \u001b[0m | \u001b[0m 1.0     \u001b[0m | \u001b[0m 0.0     \u001b[0m | \u001b[0m 3.0     \u001b[0m | \u001b[0m 0.0     \u001b[0m | \u001b[0m 0.3     \u001b[0m |\n",
      "| \u001b[0m 21      \u001b[0m | \u001b[0m-0.9012  \u001b[0m | \u001b[0m 0.3     \u001b[0m | \u001b[0m 0.02    \u001b[0m | \u001b[0m-3.0     \u001b[0m | \u001b[0m 0.0     \u001b[0m | \u001b[0m 7.0     \u001b[0m | \u001b[0m 0.0     \u001b[0m | \u001b[0m 0.3     \u001b[0m |\n",
      "| \u001b[0m 22      \u001b[0m | \u001b[0m-0.9421  \u001b[0m | \u001b[0m 0.3     \u001b[0m | \u001b[0m 0.02    \u001b[0m | \u001b[0m 1.0     \u001b[0m | \u001b[0m 10.0    \u001b[0m | \u001b[0m 7.0     \u001b[0m | \u001b[0m 17.85   \u001b[0m | \u001b[0m 0.9     \u001b[0m |\n",
      "| \u001b[0m 23      \u001b[0m | \u001b[0m-0.8042  \u001b[0m | \u001b[0m 0.3     \u001b[0m | \u001b[0m 0.02    \u001b[0m | \u001b[0m-3.0     \u001b[0m | \u001b[0m 6.084   \u001b[0m | \u001b[0m 7.0     \u001b[0m | \u001b[0m 14.45   \u001b[0m | \u001b[0m 0.9     \u001b[0m |\n",
      "| \u001b[0m 24      \u001b[0m | \u001b[0m-1.025   \u001b[0m | \u001b[0m 0.9     \u001b[0m | \u001b[0m 0.02    \u001b[0m | \u001b[0m 1.0     \u001b[0m | \u001b[0m 10.0    \u001b[0m | \u001b[0m 3.0     \u001b[0m | \u001b[0m 0.0     \u001b[0m | \u001b[0m 0.3     \u001b[0m |\n",
      "| \u001b[0m 25      \u001b[0m | \u001b[0m-0.8559  \u001b[0m | \u001b[0m 0.9     \u001b[0m | \u001b[0m 0.02    \u001b[0m | \u001b[0m-3.0     \u001b[0m | \u001b[0m 10.0    \u001b[0m | \u001b[0m 7.0     \u001b[0m | \u001b[0m 0.0     \u001b[0m | \u001b[0m 0.3     \u001b[0m |\n",
      "| \u001b[0m 26      \u001b[0m | \u001b[0m-0.9339  \u001b[0m | \u001b[0m 0.3     \u001b[0m | \u001b[0m 0.02    \u001b[0m | \u001b[0m 1.0     \u001b[0m | \u001b[0m 0.0     \u001b[0m | \u001b[0m 3.0     \u001b[0m | \u001b[0m 20.0    \u001b[0m | \u001b[0m 0.9     \u001b[0m |\n",
      "| \u001b[0m 27      \u001b[0m | \u001b[0m-0.8552  \u001b[0m | \u001b[0m 0.9     \u001b[0m | \u001b[0m 0.02    \u001b[0m | \u001b[0m-3.0     \u001b[0m | \u001b[0m 0.0     \u001b[0m | \u001b[0m 3.0     \u001b[0m | \u001b[0m 0.0     \u001b[0m | \u001b[0m 0.9     \u001b[0m |\n",
      "| \u001b[0m 28      \u001b[0m | \u001b[0m-0.9757  \u001b[0m | \u001b[0m 0.3     \u001b[0m | \u001b[0m 0.02    \u001b[0m | \u001b[0m 1.0     \u001b[0m | \u001b[0m 10.0    \u001b[0m | \u001b[0m 7.0     \u001b[0m | \u001b[0m 7.294   \u001b[0m | \u001b[0m 0.3     \u001b[0m |\n",
      "| \u001b[0m 29      \u001b[0m | \u001b[0m-0.821   \u001b[0m | \u001b[0m 0.3     \u001b[0m | \u001b[0m 0.02    \u001b[0m | \u001b[0m-3.0     \u001b[0m | \u001b[0m 6.641   \u001b[0m | \u001b[0m 3.0     \u001b[0m | \u001b[0m 0.0     \u001b[0m | \u001b[0m 0.3     \u001b[0m |\n",
      "| \u001b[0m 30      \u001b[0m | \u001b[0m-0.807   \u001b[0m | \u001b[0m 0.3     \u001b[0m | \u001b[0m 0.02    \u001b[0m | \u001b[0m-3.0     \u001b[0m | \u001b[0m 10.0    \u001b[0m | \u001b[0m 3.0     \u001b[0m | \u001b[0m 20.0    \u001b[0m | \u001b[0m 0.9     \u001b[0m |\n",
      "| \u001b[0m 31      \u001b[0m | \u001b[0m-0.9523  \u001b[0m | \u001b[0m 0.9     \u001b[0m | \u001b[0m 0.02    \u001b[0m | \u001b[0m-3.0     \u001b[0m | \u001b[0m 5.454   \u001b[0m | \u001b[0m 7.0     \u001b[0m | \u001b[0m 6.713   \u001b[0m | \u001b[0m 0.9     \u001b[0m |\n",
      "| \u001b[0m 32      \u001b[0m | \u001b[0m-0.8897  \u001b[0m | \u001b[0m 0.3     \u001b[0m | \u001b[0m 0.02    \u001b[0m | \u001b[0m-3.0     \u001b[0m | \u001b[0m 0.0     \u001b[0m | \u001b[0m 3.0     \u001b[0m | \u001b[0m 10.97   \u001b[0m | \u001b[0m 0.3     \u001b[0m |\n",
      "| \u001b[0m 33      \u001b[0m | \u001b[0m-0.9195  \u001b[0m | \u001b[0m 0.3     \u001b[0m | \u001b[0m 0.02    \u001b[0m | \u001b[0m-3.0     \u001b[0m | \u001b[0m 10.0    \u001b[0m | \u001b[0m 3.0     \u001b[0m | \u001b[0m 9.718   \u001b[0m | \u001b[0m 0.3     \u001b[0m |\n",
      "| \u001b[0m 34      \u001b[0m | \u001b[0m-0.8698  \u001b[0m | \u001b[0m 0.3     \u001b[0m | \u001b[0m 0.02    \u001b[0m | \u001b[0m-3.0     \u001b[0m | \u001b[0m 10.0    \u001b[0m | \u001b[0m 7.0     \u001b[0m | \u001b[0m 14.3    \u001b[0m | \u001b[0m 0.3     \u001b[0m |\n",
      "| \u001b[0m 35      \u001b[0m | \u001b[0m-0.7796  \u001b[0m | \u001b[0m 0.3     \u001b[0m | \u001b[0m 0.02    \u001b[0m | \u001b[0m-1.261   \u001b[0m | \u001b[0m 4.947   \u001b[0m | \u001b[0m 7.0     \u001b[0m | \u001b[0m 20.0    \u001b[0m | \u001b[0m 0.9     \u001b[0m |\n",
      "| \u001b[0m 36      \u001b[0m | \u001b[0m-0.9459  \u001b[0m | \u001b[0m 0.3     \u001b[0m | \u001b[0m 0.02    \u001b[0m | \u001b[0m 1.0     \u001b[0m | \u001b[0m 0.0     \u001b[0m | \u001b[0m 7.0     \u001b[0m | \u001b[0m 10.23   \u001b[0m | \u001b[0m 0.3     \u001b[0m |\n",
      "| \u001b[0m 37      \u001b[0m | \u001b[0m-0.7954  \u001b[0m | \u001b[0m 0.3     \u001b[0m | \u001b[0m 0.02    \u001b[0m | \u001b[0m-3.0     \u001b[0m | \u001b[0m 0.0     \u001b[0m | \u001b[0m 3.0     \u001b[0m | \u001b[0m 16.9    \u001b[0m | \u001b[0m 0.9     \u001b[0m |\n",
      "| \u001b[0m 38      \u001b[0m | \u001b[0m-0.8818  \u001b[0m | \u001b[0m 0.3     \u001b[0m | \u001b[0m 0.02    \u001b[0m | \u001b[0m-1.621   \u001b[0m | \u001b[0m 0.0     \u001b[0m | \u001b[0m 7.0     \u001b[0m | \u001b[0m 16.5    \u001b[0m | \u001b[0m 0.3     \u001b[0m |\n",
      "| \u001b[0m 39      \u001b[0m | \u001b[0m-0.846   \u001b[0m | \u001b[0m 0.9     \u001b[0m | \u001b[0m 0.02    \u001b[0m | \u001b[0m-3.0     \u001b[0m | \u001b[0m 0.0     \u001b[0m | \u001b[0m 7.0     \u001b[0m | \u001b[0m 6.925   \u001b[0m | \u001b[0m 0.3     \u001b[0m |\n",
      "| \u001b[0m 40      \u001b[0m | \u001b[0m-0.8828  \u001b[0m | \u001b[0m 0.9     \u001b[0m | \u001b[0m 0.02    \u001b[0m | \u001b[0m 1.0     \u001b[0m | \u001b[0m 10.0    \u001b[0m | \u001b[0m 3.0     \u001b[0m | \u001b[0m 20.0    \u001b[0m | \u001b[0m 0.9     \u001b[0m |\n",
      "=============================================================================================================\n"
     ]
    }
   ],
   "source": [
    "with warnings.catch_warnings():\n",
    "    warnings.filterwarnings('ignore')\n",
    "    xgb_bayes.maximize(init_points=15, n_iter=25)"
   ]
  },
  {
   "cell_type": "code",
   "execution_count": 32,
   "metadata": {},
   "outputs": [],
   "source": [
    "best_params = xgb_bayes.max['params']\n",
    "xgb_params = bo_result_to_xgb(best_params)"
   ]
  },
  {
   "cell_type": "code",
   "execution_count": 33,
   "metadata": {},
   "outputs": [],
   "source": [
    "clf = xgb.XGBRegressor(booster='gbtree', n_estimators=400, verbosity=0, n_jobs=16, seed=42,\n",
    "                            reg_alpha=0.1, reg_lambda=0.1, **xgb_params)"
   ]
  },
  {
   "cell_type": "code",
   "execution_count": 34,
   "metadata": {},
   "outputs": [
    {
     "name": "stdout",
     "output_type": "stream",
     "text": [
      "[0]\tvalidation_0-rmse:1.52806\n",
      "[20]\tvalidation_0-rmse:1.32578\n",
      "[40]\tvalidation_0-rmse:1.16027\n",
      "[60]\tvalidation_0-rmse:1.03994\n",
      "[80]\tvalidation_0-rmse:0.980547\n",
      "[100]\tvalidation_0-rmse:0.921509\n",
      "[120]\tvalidation_0-rmse:0.888566\n",
      "[140]\tvalidation_0-rmse:0.865691\n",
      "[160]\tvalidation_0-rmse:0.843067\n",
      "[180]\tvalidation_0-rmse:0.822843\n",
      "[200]\tvalidation_0-rmse:0.812894\n",
      "[220]\tvalidation_0-rmse:0.797213\n",
      "[240]\tvalidation_0-rmse:0.795344\n",
      "[260]\tvalidation_0-rmse:0.788397\n",
      "[280]\tvalidation_0-rmse:0.787793\n",
      "[300]\tvalidation_0-rmse:0.780009\n",
      "[320]\tvalidation_0-rmse:0.78097\n",
      "[340]\tvalidation_0-rmse:0.781492\n",
      "[360]\tvalidation_0-rmse:0.774001\n",
      "[380]\tvalidation_0-rmse:0.77949\n",
      "[399]\tvalidation_0-rmse:0.779566\n"
     ]
    },
    {
     "data": {
      "text/plain": [
       "XGBRegressor(base_score=0.5, booster='gbtree', colsample_bylevel=1,\n",
       "       colsample_bytree=0.3, gamma=0.001, learning_rate=0.02,\n",
       "       max_delta_step=10, max_depth=7, min_child_weight=20.0, missing=None,\n",
       "       n_estimators=400, n_jobs=16, nthread=None, objective='reg:linear',\n",
       "       random_state=0, reg_alpha=0.1, reg_lambda=0.1, scale_pos_weight=1,\n",
       "       seed=42, silent=True, subsample=0.9, verbosity=0)"
      ]
     },
     "execution_count": 34,
     "metadata": {},
     "output_type": "execute_result"
    }
   ],
   "source": [
    "clf.fit(x_train, y_train, eval_set=[(x_eval, y_eval)], eval_metric='rmse', verbose=20)"
   ]
  },
  {
   "cell_type": "markdown",
   "metadata": {},
   "source": [
    "验证集最终的指标与贝叶斯优化时最佳指标理应一致"
   ]
  },
  {
   "cell_type": "code",
   "execution_count": 35,
   "metadata": {},
   "outputs": [],
   "source": [
    "y_pred_eval = clf.predict(x_eval)\n",
    "y_pred_eval = pd.Series(y_pred_eval, index=y_eval.index)"
   ]
  },
  {
   "cell_type": "code",
   "execution_count": 36,
   "metadata": {},
   "outputs": [
    {
     "data": {
      "text/plain": [
       "0.7795664854072166"
      ]
     },
     "execution_count": 36,
     "metadata": {},
     "output_type": "execute_result"
    }
   ],
   "source": [
    "rmse(y_pred_eval - y_eval)"
   ]
  },
  {
   "cell_type": "code",
   "execution_count": 37,
   "metadata": {},
   "outputs": [],
   "source": [
    "y_test_eval = clf.predict(x_test)\n",
    "y_test_eval = pd.Series(y_test_eval, index=y_test.index)"
   ]
  },
  {
   "cell_type": "code",
   "execution_count": 38,
   "metadata": {},
   "outputs": [
    {
     "data": {
      "text/plain": [
       "1.370139985013581"
      ]
     },
     "execution_count": 38,
     "metadata": {},
     "output_type": "execute_result"
    }
   ],
   "source": [
    "rmse(y_test - y_test_eval)"
   ]
  },
  {
   "cell_type": "code",
   "execution_count": null,
   "metadata": {},
   "outputs": [],
   "source": []
  }
 ],
 "metadata": {
  "kernelspec": {
   "display_name": "Python 3",
   "language": "python",
   "name": "python3"
  },
  "language_info": {
   "codemirror_mode": {
    "name": "ipython",
    "version": 3
   },
   "file_extension": ".py",
   "mimetype": "text/x-python",
   "name": "python",
   "nbconvert_exporter": "python",
   "pygments_lexer": "ipython3",
   "version": "3.6.8"
  }
 },
 "nbformat": 4,
 "nbformat_minor": 2
}
