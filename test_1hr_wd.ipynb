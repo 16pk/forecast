{
 "cells": [
  {
   "cell_type": "code",
   "execution_count": 1,
   "metadata": {},
   "outputs": [],
   "source": [
    "import numpy as np\n",
    "import pandas as pd\n",
    "from datetime import datetime, timedelta\n",
    "from collections import defaultdict\n",
    "import warnings"
   ]
  },
  {
   "cell_type": "code",
   "execution_count": 2,
   "metadata": {},
   "outputs": [],
   "source": [
    "import xgboost as xgb"
   ]
  },
  {
   "cell_type": "code",
   "execution_count": 3,
   "metadata": {},
   "outputs": [],
   "source": [
    "import matplotlib.pyplot as plt\n",
    "%matplotlib inline"
   ]
  },
  {
   "cell_type": "code",
   "execution_count": 4,
   "metadata": {},
   "outputs": [],
   "source": [
    "def read_ec_data(filename):\n",
    "    with open(filename) as fid:\n",
    "        data_dct = defaultdict(dict)\n",
    "        for line in fid:\n",
    "            fields = line.strip('\\n').split('\\t')\n",
    "            if fields[1] == 'SLP':\n",
    "                continue\n",
    "            ec_time = datetime.strptime(fields[0], '%Y%m%d%H')\n",
    "            forecast_time = (ec_time + timedelta(hours=12))\n",
    "            for idx in range(-12, 24):\n",
    "                data_dct[forecast_time][f'{fields[1]}.{idx}'] = float(fields[idx + 12 + 2])\n",
    "    return pd.DataFrame(data_dct).transpose()"
   ]
  },
  {
   "cell_type": "code",
   "execution_count": 8,
   "metadata": {},
   "outputs": [],
   "source": [
    "def read_obs(filename):\n",
    "    obs_data = pd.read_csv(filename, header=None, names=['time', 'obs'], sep='\\t')\n",
    "    obs_data['date'] = pd.to_datetime(obs_data['time'] // 10000, format='%Y%m%d')\n",
    "    obs_data['hour'] = obs_data['time'] % 100\n",
    "    obs_data2 = obs_data.pivot(columns='hour', index='date', values='obs')\n",
    "    return obs_data2"
   ]
  },
  {
   "cell_type": "code",
   "execution_count": 6,
   "metadata": {},
   "outputs": [],
   "source": [
    "ec1 = read_ec_data('data/ec_fcst_2018030112_2018103112.txt')\n",
    "ec2 = read_ec_data('data/ec_fcst_2018110112_2018123012.txt')\n",
    "ec = pd.concat([ec1, ec2], axis=0)"
   ]
  },
  {
   "cell_type": "code",
   "execution_count": 10,
   "metadata": {},
   "outputs": [],
   "source": [
    "obs_p1 = read_obs('data/dir_01_2018030112_2018103112.txt')\n",
    "obs_p2 = read_obs('data/dir_01_2018110112_2018123112.txt')\n",
    "obs = pd.concat([obs_p1, obs_p2], axis=0).resample('1D').mean()"
   ]
  },
  {
   "cell_type": "code",
   "execution_count": 98,
   "metadata": {},
   "outputs": [],
   "source": [
    "%matplotlib inline"
   ]
  },
  {
   "cell_type": "code",
   "execution_count": 97,
   "metadata": {},
   "outputs": [
    {
     "data": {
      "text/html": [
       "<div>\n",
       "<style>\n",
       "    .dataframe thead tr:only-child th {\n",
       "        text-align: right;\n",
       "    }\n",
       "\n",
       "    .dataframe thead th {\n",
       "        text-align: left;\n",
       "    }\n",
       "\n",
       "    .dataframe tbody tr th {\n",
       "        vertical-align: top;\n",
       "    }\n",
       "</style>\n",
       "<table border=\"1\" class=\"dataframe\">\n",
       "  <thead>\n",
       "    <tr style=\"text-align: right;\">\n",
       "      <th>hour</th>\n",
       "      <th>0</th>\n",
       "      <th>1</th>\n",
       "      <th>2</th>\n",
       "      <th>3</th>\n",
       "      <th>4</th>\n",
       "      <th>5</th>\n",
       "      <th>6</th>\n",
       "      <th>7</th>\n",
       "      <th>8</th>\n",
       "      <th>9</th>\n",
       "      <th>...</th>\n",
       "      <th>14</th>\n",
       "      <th>15</th>\n",
       "      <th>16</th>\n",
       "      <th>17</th>\n",
       "      <th>18</th>\n",
       "      <th>19</th>\n",
       "      <th>20</th>\n",
       "      <th>21</th>\n",
       "      <th>22</th>\n",
       "      <th>23</th>\n",
       "    </tr>\n",
       "    <tr>\n",
       "      <th>date</th>\n",
       "      <th></th>\n",
       "      <th></th>\n",
       "      <th></th>\n",
       "      <th></th>\n",
       "      <th></th>\n",
       "      <th></th>\n",
       "      <th></th>\n",
       "      <th></th>\n",
       "      <th></th>\n",
       "      <th></th>\n",
       "      <th></th>\n",
       "      <th></th>\n",
       "      <th></th>\n",
       "      <th></th>\n",
       "      <th></th>\n",
       "      <th></th>\n",
       "      <th></th>\n",
       "      <th></th>\n",
       "      <th></th>\n",
       "      <th></th>\n",
       "      <th></th>\n",
       "    </tr>\n",
       "  </thead>\n",
       "  <tbody>\n",
       "    <tr>\n",
       "      <th>2018-03-02</th>\n",
       "      <td>103.0</td>\n",
       "      <td>103.0</td>\n",
       "      <td>171.0</td>\n",
       "      <td>127.0</td>\n",
       "      <td>234.0</td>\n",
       "      <td>237.0</td>\n",
       "      <td>134.0</td>\n",
       "      <td>188.0</td>\n",
       "      <td>187.0</td>\n",
       "      <td>152.0</td>\n",
       "      <td>...</td>\n",
       "      <td>28.0</td>\n",
       "      <td>39.0</td>\n",
       "      <td>147.0</td>\n",
       "      <td>318.0</td>\n",
       "      <td>70.0</td>\n",
       "      <td>26.0</td>\n",
       "      <td>28.0</td>\n",
       "      <td>360.0</td>\n",
       "      <td>1.0</td>\n",
       "      <td>8.0</td>\n",
       "    </tr>\n",
       "    <tr>\n",
       "      <th>2018-03-03</th>\n",
       "      <td>348.0</td>\n",
       "      <td>355.0</td>\n",
       "      <td>43.0</td>\n",
       "      <td>107.0</td>\n",
       "      <td>173.0</td>\n",
       "      <td>160.0</td>\n",
       "      <td>111.0</td>\n",
       "      <td>83.0</td>\n",
       "      <td>117.0</td>\n",
       "      <td>126.0</td>\n",
       "      <td>...</td>\n",
       "      <td>303.0</td>\n",
       "      <td>315.0</td>\n",
       "      <td>155.0</td>\n",
       "      <td>41.0</td>\n",
       "      <td>48.0</td>\n",
       "      <td>45.0</td>\n",
       "      <td>59.0</td>\n",
       "      <td>26.0</td>\n",
       "      <td>61.0</td>\n",
       "      <td>138.0</td>\n",
       "    </tr>\n",
       "    <tr>\n",
       "      <th>2018-03-04</th>\n",
       "      <td>158.0</td>\n",
       "      <td>162.0</td>\n",
       "      <td>172.0</td>\n",
       "      <td>159.0</td>\n",
       "      <td>167.0</td>\n",
       "      <td>152.0</td>\n",
       "      <td>159.0</td>\n",
       "      <td>146.0</td>\n",
       "      <td>142.0</td>\n",
       "      <td>155.0</td>\n",
       "      <td>...</td>\n",
       "      <td>78.0</td>\n",
       "      <td>153.0</td>\n",
       "      <td>82.0</td>\n",
       "      <td>64.0</td>\n",
       "      <td>66.0</td>\n",
       "      <td>37.0</td>\n",
       "      <td>33.0</td>\n",
       "      <td>282.0</td>\n",
       "      <td>166.0</td>\n",
       "      <td>115.0</td>\n",
       "    </tr>\n",
       "    <tr>\n",
       "      <th>2018-03-05</th>\n",
       "      <td>54.0</td>\n",
       "      <td>99.0</td>\n",
       "      <td>136.0</td>\n",
       "      <td>172.0</td>\n",
       "      <td>164.0</td>\n",
       "      <td>189.0</td>\n",
       "      <td>174.0</td>\n",
       "      <td>197.0</td>\n",
       "      <td>178.0</td>\n",
       "      <td>168.0</td>\n",
       "      <td>...</td>\n",
       "      <td>128.0</td>\n",
       "      <td>82.0</td>\n",
       "      <td>113.0</td>\n",
       "      <td>119.0</td>\n",
       "      <td>114.0</td>\n",
       "      <td>92.0</td>\n",
       "      <td>46.0</td>\n",
       "      <td>72.0</td>\n",
       "      <td>98.0</td>\n",
       "      <td>84.0</td>\n",
       "    </tr>\n",
       "    <tr>\n",
       "      <th>2018-03-06</th>\n",
       "      <td>73.0</td>\n",
       "      <td>116.0</td>\n",
       "      <td>143.0</td>\n",
       "      <td>149.0</td>\n",
       "      <td>137.0</td>\n",
       "      <td>134.0</td>\n",
       "      <td>182.0</td>\n",
       "      <td>188.0</td>\n",
       "      <td>168.0</td>\n",
       "      <td>162.0</td>\n",
       "      <td>...</td>\n",
       "      <td>153.0</td>\n",
       "      <td>154.0</td>\n",
       "      <td>160.0</td>\n",
       "      <td>153.0</td>\n",
       "      <td>148.0</td>\n",
       "      <td>145.0</td>\n",
       "      <td>112.0</td>\n",
       "      <td>152.0</td>\n",
       "      <td>136.0</td>\n",
       "      <td>151.0</td>\n",
       "    </tr>\n",
       "  </tbody>\n",
       "</table>\n",
       "<p>5 rows × 24 columns</p>\n",
       "</div>"
      ],
      "text/plain": [
       "hour           0      1      2      3      4      5      6      7      8   \\\n",
       "date                                                                        \n",
       "2018-03-02  103.0  103.0  171.0  127.0  234.0  237.0  134.0  188.0  187.0   \n",
       "2018-03-03  348.0  355.0   43.0  107.0  173.0  160.0  111.0   83.0  117.0   \n",
       "2018-03-04  158.0  162.0  172.0  159.0  167.0  152.0  159.0  146.0  142.0   \n",
       "2018-03-05   54.0   99.0  136.0  172.0  164.0  189.0  174.0  197.0  178.0   \n",
       "2018-03-06   73.0  116.0  143.0  149.0  137.0  134.0  182.0  188.0  168.0   \n",
       "\n",
       "hour           9   ...       14     15     16     17     18     19     20  \\\n",
       "date               ...                                                      \n",
       "2018-03-02  152.0  ...     28.0   39.0  147.0  318.0   70.0   26.0   28.0   \n",
       "2018-03-03  126.0  ...    303.0  315.0  155.0   41.0   48.0   45.0   59.0   \n",
       "2018-03-04  155.0  ...     78.0  153.0   82.0   64.0   66.0   37.0   33.0   \n",
       "2018-03-05  168.0  ...    128.0   82.0  113.0  119.0  114.0   92.0   46.0   \n",
       "2018-03-06  162.0  ...    153.0  154.0  160.0  153.0  148.0  145.0  112.0   \n",
       "\n",
       "hour           21     22     23  \n",
       "date                             \n",
       "2018-03-02  360.0    1.0    8.0  \n",
       "2018-03-03   26.0   61.0  138.0  \n",
       "2018-03-04  282.0  166.0  115.0  \n",
       "2018-03-05   72.0   98.0   84.0  \n",
       "2018-03-06  152.0  136.0  151.0  \n",
       "\n",
       "[5 rows x 24 columns]"
      ]
     },
     "execution_count": 97,
     "metadata": {},
     "output_type": "execute_result"
    }
   ],
   "source": [
    "obs.head()"
   ]
  },
  {
   "cell_type": "code",
   "execution_count": 12,
   "metadata": {},
   "outputs": [],
   "source": [
    "yesterday_obs = obs.shift(1)\n",
    "yesterday_obs = yesterday_obs[[x for x in range(12, 24)]]"
   ]
  },
  {
   "cell_type": "code",
   "execution_count": 13,
   "metadata": {},
   "outputs": [],
   "source": [
    "yesterday_obs.columns = [x - 24 for x in yesterday_obs.columns]"
   ]
  },
  {
   "cell_type": "code",
   "execution_count": 14,
   "metadata": {},
   "outputs": [],
   "source": [
    "obs_mat = pd.concat([yesterday_obs, obs], axis=1)\n",
    "obs_mat.columns = [f'obs.{x}' for x in obs_mat.columns]"
   ]
  },
  {
   "cell_type": "code",
   "execution_count": 15,
   "metadata": {},
   "outputs": [],
   "source": [
    "obs_mat = obs_mat.loc[obs_mat['obs.-12'].notnull()]"
   ]
  },
  {
   "cell_type": "code",
   "execution_count": 16,
   "metadata": {},
   "outputs": [],
   "source": [
    "raw_data = ec.merge(obs_mat, left_index=True, right_index=True)"
   ]
  },
  {
   "cell_type": "code",
   "execution_count": 28,
   "metadata": {},
   "outputs": [],
   "source": [
    "u = 0\n",
    "v = -1"
   ]
  },
  {
   "cell_type": "code",
   "execution_count": 29,
   "metadata": {},
   "outputs": [
    {
     "data": {
      "text/plain": [
       "0.0"
      ]
     },
     "execution_count": 29,
     "metadata": {},
     "output_type": "execute_result"
    }
   ],
   "source": [
    "np.arctan2(-u, -v) / np.pi * 180 % 360"
   ]
  },
  {
   "cell_type": "markdown",
   "metadata": {},
   "source": [
    "### 特征加工"
   ]
  },
  {
   "cell_type": "code",
   "execution_count": 41,
   "metadata": {},
   "outputs": [],
   "source": [
    "# 风速，湿球温度与气温差值，预报风速误差\n",
    "for idx in range(-12, 24):\n",
    "    raw_data[f'ws.{idx}'] = np.sqrt(raw_data[f'U10.{idx}'] ** 2 + raw_data[f'V10.{idx}'] ** 2)\n",
    "    raw_data[f'wd.{idx}'] = np.arctan2(-raw_data[f'U10.{idx}'], -raw_data[f'V10.{idx}']) / np.pi * 180 % 360\n",
    "    raw_data[f'rh_delta.{idx}'] = raw_data[f'T.{idx}'] - raw_data[f'RH.{idx}']\n",
    "    raw_data[f'bias.{idx}'] = (raw_data[f'obs.{idx}'] - raw_data[f'wd.{idx}'] + 180) % 360 - 180"
   ]
  },
  {
   "cell_type": "code",
   "execution_count": 46,
   "metadata": {},
   "outputs": [],
   "source": [
    "# 气压变，温度变，风速变\n",
    "for idx in range(0, 24):\n",
    "    for span in (1, 3, 6, 12):\n",
    "        raw_data[f'PSFC_{span}d.{idx}'] = raw_data[f'PSFC.{idx}'] - raw_data[f'PSFC.{idx-span}']\n",
    "        raw_data[f'T_{span}d.{idx}'] = raw_data[f'T.{idx}'] - raw_data[f'T.{idx-span}']\n",
    "        raw_data[f'ws_{span}d.{idx}'] = raw_data[f'ws.{idx}'] - raw_data[f'ws.{idx-span}']\n",
    "        raw_data[f'wd_{span}d.{idx}'] = (raw_data[f'wd.{idx}'] - raw_data[f'wd.{idx-span}'] + 180) % 360 - 180"
   ]
  },
  {
   "cell_type": "code",
   "execution_count": 32,
   "metadata": {},
   "outputs": [],
   "source": [
    "is_train = raw_data.index < datetime(2018, 11, 1)\n",
    "is_eval = (raw_data.index >= datetime(2018, 11, 1)) & (raw_data.index < datetime(2018, 12, 1))\n",
    "is_test = raw_data.index >= datetime(2018, 12, 1)"
   ]
  },
  {
   "cell_type": "code",
   "execution_count": 33,
   "metadata": {},
   "outputs": [
    {
     "data": {
      "text/plain": [
       "(243, 30, 31)"
      ]
     },
     "execution_count": 33,
     "metadata": {},
     "output_type": "execute_result"
    }
   ],
   "source": [
    "is_train.sum(), is_eval.sum(), is_test.sum()"
   ]
  },
  {
   "cell_type": "markdown",
   "metadata": {},
   "source": [
    "### 训练模型"
   ]
  },
  {
   "cell_type": "markdown",
   "metadata": {},
   "source": [
    "每个预报时次独立训练。预测对象为实际风向与EC风向的差值。预报结果再叠加上EC风向作为最终的预报结果。"
   ]
  },
  {
   "cell_type": "code",
   "execution_count": 34,
   "metadata": {},
   "outputs": [],
   "source": [
    "def rmse(y_arr):\n",
    "    return np.sqrt((y_arr ** 2).mean())"
   ]
  },
  {
   "cell_type": "code",
   "execution_count": 79,
   "metadata": {},
   "outputs": [],
   "source": [
    "fc_hr = 6"
   ]
  },
  {
   "cell_type": "code",
   "execution_count": 80,
   "metadata": {},
   "outputs": [],
   "source": [
    "feat_list = [f'U10.{x}' for x in range(-12, 24)] + [f'V10.{x}' for x in range(-12, 24)] + \\\n",
    "    [f'bias.{x}' for x in range(-12, 0)] + [f'ws.{x}' for x in range(-12, 24)] + \\\n",
    "    [f'wd.{x}' for x in range(-12, 24)] + \\\n",
    "    [f'rh_delta.{x}' for x in range(-12, 24)] + \\\n",
    "    [f'PSFC_{span}d.{fc_hr}' for span in (1, 3, 6, 12)] + [f'T_{span}d.{fc_hr}' for span in (1, 3, 6, 12)] + \\\n",
    "    [f'ws_{span}d.{fc_hr}' for span in (1, 3, 6, 12)] + [f'wd_{span}d.{fc_hr}' for span in (1, 3, 6, 12)]"
   ]
  },
  {
   "cell_type": "code",
   "execution_count": 81,
   "metadata": {},
   "outputs": [],
   "source": [
    "x_train = raw_data.loc[is_train, feat_list]\n",
    "x_eval = raw_data.loc[is_eval, feat_list]\n",
    "x_test = raw_data.loc[is_test, feat_list]"
   ]
  },
  {
   "cell_type": "code",
   "execution_count": 82,
   "metadata": {},
   "outputs": [],
   "source": [
    "y_train = raw_data.loc[is_train, f'bias.{fc_hr}']\n",
    "y_eval = raw_data.loc[is_eval, f'bias.{fc_hr}']\n",
    "y_test = raw_data.loc[is_test, f'bias.{fc_hr}']"
   ]
  },
  {
   "cell_type": "code",
   "execution_count": 83,
   "metadata": {},
   "outputs": [
    {
     "name": "stdout",
     "output_type": "stream",
     "text": [
      "55.44994712242353 41.42085589921957 57.03474864682167\n"
     ]
    }
   ],
   "source": [
    "print(rmse(y_train), rmse(y_eval), rmse(y_test))"
   ]
  },
  {
   "cell_type": "code",
   "execution_count": 84,
   "metadata": {},
   "outputs": [
    {
     "data": {
      "text/plain": [
       "208"
      ]
     },
     "execution_count": 84,
     "metadata": {},
     "output_type": "execute_result"
    }
   ],
   "source": [
    "len(feat_list)"
   ]
  },
  {
   "cell_type": "markdown",
   "metadata": {},
   "source": [
    "### 贝叶斯调参"
   ]
  },
  {
   "cell_type": "markdown",
   "metadata": {},
   "source": [
    "需要多次迭代，以及计算贝叶斯概率。耗时会成倍增加"
   ]
  },
  {
   "cell_type": "code",
   "execution_count": 85,
   "metadata": {},
   "outputs": [],
   "source": [
    "from bayes_opt import BayesianOptimization"
   ]
  },
  {
   "cell_type": "code",
   "execution_count": 86,
   "metadata": {},
   "outputs": [],
   "source": [
    "def bo_result_to_xgb(bo_res):\n",
    "    xgb_params = bo_res.copy()\n",
    "    if 'log_gamma' in xgb_params:\n",
    "        xgb_params['gamma'] = 10**xgb_params['log_gamma']\n",
    "        xgb_params.pop('log_gamma')\n",
    "    if 'max_depth' in xgb_params:\n",
    "        xgb_params['max_depth'] = int(np.round(xgb_params['max_depth']))\n",
    "    if 'max_delta_step' in xgb_params:\n",
    "        xgb_params['max_delta_step'] = int(np.round(xgb_params['max_delta_step']))\n",
    "    if 'subsample' in xgb_params:\n",
    "        xgb_params['subsample'] = max(min(xgb_params['subsample'], 1), 0)\n",
    "    if 'colsample_bytree' in xgb_params:\n",
    "        xgb_params['colsample_bytree'] = max(min(xgb_params['colsample_bytree'], 1), 0)\n",
    "    return xgb_params"
   ]
  },
  {
   "cell_type": "code",
   "execution_count": 87,
   "metadata": {},
   "outputs": [],
   "source": [
    "def xgb_model(**kwargs):\n",
    "    xgb_params = bo_result_to_xgb(kwargs)\n",
    "    clf = xgb.XGBRegressor(booster='gbtree', n_estimators=100, verbosity=0, n_jobs=16, seed=42,\n",
    "                            reg_alpha=0.1, reg_lambda=0.1, **xgb_params)\n",
    "    clf.fit(x_train, y_train, eval_set=[(x_train, y_train), (x_eval, y_eval)], eval_metric='rmse',\n",
    "            verbose=False)\n",
    "    eval_result = clf.evals_result()\n",
    "    train_rmse = eval_result['validation_0']['rmse'][-1]\n",
    "    dev_rmse = eval_result['validation_1']['rmse'][-1]\n",
    "    n_trees = len(eval_result['validation_0']['rmse'])\n",
    "    return -dev_rmse"
   ]
  },
  {
   "cell_type": "code",
   "execution_count": 88,
   "metadata": {},
   "outputs": [],
   "source": [
    "xgb_bayes = BayesianOptimization(xgb_model, {\n",
    "    'learning_rate': (0.02, 0.06),\n",
    "    'max_depth': (3, 7),\n",
    "    'log_gamma': (-3, 1),\n",
    "    'min_child_weight': (0, 20),\n",
    "    'max_delta_step': (0, 10),\n",
    "    'subsample': (0.3, 0.9),\n",
    "    'colsample_bytree': (0.3, 0.9)\n",
    "})"
   ]
  },
  {
   "cell_type": "code",
   "execution_count": 89,
   "metadata": {},
   "outputs": [
    {
     "name": "stdout",
     "output_type": "stream",
     "text": [
      "|   iter    |  target   | colsam... | learni... | log_gamma | max_de... | max_depth | min_ch... | subsample |\n",
      "-------------------------------------------------------------------------------------------------------------\n",
      "| \u001b[0m 1       \u001b[0m | \u001b[0m-43.53   \u001b[0m | \u001b[0m 0.5627  \u001b[0m | \u001b[0m 0.05434 \u001b[0m | \u001b[0m-2.996   \u001b[0m | \u001b[0m 9.497   \u001b[0m | \u001b[0m 3.418   \u001b[0m | \u001b[0m 10.26   \u001b[0m | \u001b[0m 0.6865  \u001b[0m |\n",
      "| \u001b[0m 2       \u001b[0m | \u001b[0m-44.99   \u001b[0m | \u001b[0m 0.5148  \u001b[0m | \u001b[0m 0.03072 \u001b[0m | \u001b[0m-1.131   \u001b[0m | \u001b[0m 1.662   \u001b[0m | \u001b[0m 6.266   \u001b[0m | \u001b[0m 7.78    \u001b[0m | \u001b[0m 0.3752  \u001b[0m |\n",
      "| \u001b[0m 3       \u001b[0m | \u001b[0m-44.25   \u001b[0m | \u001b[0m 0.3934  \u001b[0m | \u001b[0m 0.02347 \u001b[0m | \u001b[0m-2.483   \u001b[0m | \u001b[0m 2.105   \u001b[0m | \u001b[0m 5.189   \u001b[0m | \u001b[0m 18.86   \u001b[0m | \u001b[0m 0.3469  \u001b[0m |\n",
      "| \u001b[95m 4       \u001b[0m | \u001b[95m-43.23   \u001b[0m | \u001b[95m 0.5141  \u001b[0m | \u001b[95m 0.03069 \u001b[0m | \u001b[95m 0.4306  \u001b[0m | \u001b[95m 2.554   \u001b[0m | \u001b[95m 6.903   \u001b[0m | \u001b[95m 4.784   \u001b[0m | \u001b[95m 0.6128  \u001b[0m |\n",
      "| \u001b[0m 5       \u001b[0m | \u001b[0m-47.0    \u001b[0m | \u001b[0m 0.3896  \u001b[0m | \u001b[0m 0.05388 \u001b[0m | \u001b[0m-0.223   \u001b[0m | \u001b[0m 7.275   \u001b[0m | \u001b[0m 3.759   \u001b[0m | \u001b[0m 6.651   \u001b[0m | \u001b[0m 0.6772  \u001b[0m |\n",
      "| \u001b[95m 6       \u001b[0m | \u001b[95m-42.18   \u001b[0m | \u001b[95m 0.3204  \u001b[0m | \u001b[95m 0.0558  \u001b[0m | \u001b[95m-2.643   \u001b[0m | \u001b[95m 0.5885  \u001b[0m | \u001b[95m 5.25    \u001b[0m | \u001b[95m 9.117   \u001b[0m | \u001b[95m 0.3563  \u001b[0m |\n",
      "| \u001b[0m 7       \u001b[0m | \u001b[0m-44.18   \u001b[0m | \u001b[0m 0.4304  \u001b[0m | \u001b[0m 0.02794 \u001b[0m | \u001b[0m 0.9634  \u001b[0m | \u001b[0m 5.52    \u001b[0m | \u001b[0m 4.983   \u001b[0m | \u001b[0m 4.266   \u001b[0m | \u001b[0m 0.6723  \u001b[0m |\n",
      "| \u001b[0m 8       \u001b[0m | \u001b[0m-51.53   \u001b[0m | \u001b[0m 0.7075  \u001b[0m | \u001b[0m 0.05935 \u001b[0m | \u001b[0m-1.009   \u001b[0m | \u001b[0m 8.198   \u001b[0m | \u001b[0m 6.51    \u001b[0m | \u001b[0m 15.76   \u001b[0m | \u001b[0m 0.4557  \u001b[0m |\n",
      "| \u001b[0m 9       \u001b[0m | \u001b[0m-45.38   \u001b[0m | \u001b[0m 0.6303  \u001b[0m | \u001b[0m 0.05269 \u001b[0m | \u001b[0m-2.612   \u001b[0m | \u001b[0m 2.921   \u001b[0m | \u001b[0m 6.458   \u001b[0m | \u001b[0m 16.83   \u001b[0m | \u001b[0m 0.5228  \u001b[0m |\n",
      "| \u001b[0m 10      \u001b[0m | \u001b[0m-44.76   \u001b[0m | \u001b[0m 0.5638  \u001b[0m | \u001b[0m 0.04779 \u001b[0m | \u001b[0m-2.31    \u001b[0m | \u001b[0m 4.73    \u001b[0m | \u001b[0m 3.289   \u001b[0m | \u001b[0m 5.394   \u001b[0m | \u001b[0m 0.3737  \u001b[0m |\n",
      "| \u001b[0m 11      \u001b[0m | \u001b[0m-44.03   \u001b[0m | \u001b[0m 0.3634  \u001b[0m | \u001b[0m 0.0372  \u001b[0m | \u001b[0m-0.1858  \u001b[0m | \u001b[0m 2.785   \u001b[0m | \u001b[0m 4.589   \u001b[0m | \u001b[0m 16.82   \u001b[0m | \u001b[0m 0.8274  \u001b[0m |\n",
      "| \u001b[0m 12      \u001b[0m | \u001b[0m-45.93   \u001b[0m | \u001b[0m 0.8545  \u001b[0m | \u001b[0m 0.04877 \u001b[0m | \u001b[0m-2.344   \u001b[0m | \u001b[0m 1.3     \u001b[0m | \u001b[0m 5.917   \u001b[0m | \u001b[0m 8.704   \u001b[0m | \u001b[0m 0.5111  \u001b[0m |\n",
      "| \u001b[0m 13      \u001b[0m | \u001b[0m-45.23   \u001b[0m | \u001b[0m 0.8101  \u001b[0m | \u001b[0m 0.0549  \u001b[0m | \u001b[0m-2.105   \u001b[0m | \u001b[0m 7.977   \u001b[0m | \u001b[0m 4.193   \u001b[0m | \u001b[0m 14.88   \u001b[0m | \u001b[0m 0.668   \u001b[0m |\n",
      "| \u001b[0m 14      \u001b[0m | \u001b[0m-43.81   \u001b[0m | \u001b[0m 0.6106  \u001b[0m | \u001b[0m 0.03857 \u001b[0m | \u001b[0m-1.455   \u001b[0m | \u001b[0m 9.8     \u001b[0m | \u001b[0m 4.593   \u001b[0m | \u001b[0m 6.057   \u001b[0m | \u001b[0m 0.4452  \u001b[0m |\n",
      "| \u001b[0m 15      \u001b[0m | \u001b[0m-42.44   \u001b[0m | \u001b[0m 0.6095  \u001b[0m | \u001b[0m 0.04406 \u001b[0m | \u001b[0m-0.07905 \u001b[0m | \u001b[0m 6.82    \u001b[0m | \u001b[0m 4.351   \u001b[0m | \u001b[0m 3.821   \u001b[0m | \u001b[0m 0.3692  \u001b[0m |\n",
      "| \u001b[95m 16      \u001b[0m | \u001b[95m-42.04   \u001b[0m | \u001b[95m 0.7478  \u001b[0m | \u001b[95m 0.03234 \u001b[0m | \u001b[95m-0.5551  \u001b[0m | \u001b[95m 0.9387  \u001b[0m | \u001b[95m 4.48    \u001b[0m | \u001b[95m 8.39    \u001b[0m | \u001b[95m 0.6861  \u001b[0m |\n",
      "| \u001b[0m 17      \u001b[0m | \u001b[0m-48.24   \u001b[0m | \u001b[0m 0.4611  \u001b[0m | \u001b[0m 0.05835 \u001b[0m | \u001b[0m-1.382   \u001b[0m | \u001b[0m 8.168   \u001b[0m | \u001b[0m 5.029   \u001b[0m | \u001b[0m 6.087   \u001b[0m | \u001b[0m 0.5853  \u001b[0m |\n",
      "| \u001b[95m 18      \u001b[0m | \u001b[95m-41.76   \u001b[0m | \u001b[95m 0.5872  \u001b[0m | \u001b[95m 0.02272 \u001b[0m | \u001b[95m-2.368   \u001b[0m | \u001b[95m 2.642   \u001b[0m | \u001b[95m 4.662   \u001b[0m | \u001b[95m 4.443   \u001b[0m | \u001b[95m 0.7912  \u001b[0m |\n",
      "| \u001b[0m 19      \u001b[0m | \u001b[0m-45.72   \u001b[0m | \u001b[0m 0.774   \u001b[0m | \u001b[0m 0.03029 \u001b[0m | \u001b[0m-2.677   \u001b[0m | \u001b[0m 4.82    \u001b[0m | \u001b[0m 3.828   \u001b[0m | \u001b[0m 16.32   \u001b[0m | \u001b[0m 0.3846  \u001b[0m |\n",
      "| \u001b[0m 20      \u001b[0m | \u001b[0m-46.5    \u001b[0m | \u001b[0m 0.889   \u001b[0m | \u001b[0m 0.0362  \u001b[0m | \u001b[0m-1.272   \u001b[0m | \u001b[0m 7.419   \u001b[0m | \u001b[0m 6.354   \u001b[0m | \u001b[0m 2.717   \u001b[0m | \u001b[0m 0.7391  \u001b[0m |\n",
      "| \u001b[0m 21      \u001b[0m | \u001b[0m-46.42   \u001b[0m | \u001b[0m 0.8092  \u001b[0m | \u001b[0m 0.05003 \u001b[0m | \u001b[0m-2.785   \u001b[0m | \u001b[0m 0.8194  \u001b[0m | \u001b[0m 4.977   \u001b[0m | \u001b[0m 9.41    \u001b[0m | \u001b[0m 0.762   \u001b[0m |\n",
      "| \u001b[0m 22      \u001b[0m | \u001b[0m-47.14   \u001b[0m | \u001b[0m 0.7115  \u001b[0m | \u001b[0m 0.04344 \u001b[0m | \u001b[0m-1.259   \u001b[0m | \u001b[0m 8.401   \u001b[0m | \u001b[0m 4.546   \u001b[0m | \u001b[0m 13.73   \u001b[0m | \u001b[0m 0.6434  \u001b[0m |\n",
      "| \u001b[0m 23      \u001b[0m | \u001b[0m-44.75   \u001b[0m | \u001b[0m 0.513   \u001b[0m | \u001b[0m 0.02764 \u001b[0m | \u001b[0m-2.123   \u001b[0m | \u001b[0m 1.353   \u001b[0m | \u001b[0m 5.549   \u001b[0m | \u001b[0m 10.52   \u001b[0m | \u001b[0m 0.8296  \u001b[0m |\n",
      "| \u001b[0m 24      \u001b[0m | \u001b[0m-43.6    \u001b[0m | \u001b[0m 0.5094  \u001b[0m | \u001b[0m 0.02298 \u001b[0m | \u001b[0m-0.835   \u001b[0m | \u001b[0m 7.484   \u001b[0m | \u001b[0m 3.204   \u001b[0m | \u001b[0m 13.44   \u001b[0m | \u001b[0m 0.5529  \u001b[0m |\n",
      "| \u001b[0m 25      \u001b[0m | \u001b[0m-42.84   \u001b[0m | \u001b[0m 0.6842  \u001b[0m | \u001b[0m 0.03754 \u001b[0m | \u001b[0m-0.1943  \u001b[0m | \u001b[0m 9.497   \u001b[0m | \u001b[0m 4.996   \u001b[0m | \u001b[0m 14.12   \u001b[0m | \u001b[0m 0.3799  \u001b[0m |\n",
      "| \u001b[0m 26      \u001b[0m | \u001b[0m-44.23   \u001b[0m | \u001b[0m 0.3453  \u001b[0m | \u001b[0m 0.02581 \u001b[0m | \u001b[0m-2.028   \u001b[0m | \u001b[0m 8.015   \u001b[0m | \u001b[0m 6.605   \u001b[0m | \u001b[0m 10.88   \u001b[0m | \u001b[0m 0.6279  \u001b[0m |\n",
      "| \u001b[0m 27      \u001b[0m | \u001b[0m-45.83   \u001b[0m | \u001b[0m 0.8212  \u001b[0m | \u001b[0m 0.04402 \u001b[0m | \u001b[0m-1.433   \u001b[0m | \u001b[0m 2.288   \u001b[0m | \u001b[0m 6.044   \u001b[0m | \u001b[0m 3.198   \u001b[0m | \u001b[0m 0.7224  \u001b[0m |\n",
      "| \u001b[0m 28      \u001b[0m | \u001b[0m-45.08   \u001b[0m | \u001b[0m 0.338   \u001b[0m | \u001b[0m 0.02708 \u001b[0m | \u001b[0m-2.667   \u001b[0m | \u001b[0m 8.67    \u001b[0m | \u001b[0m 4.72    \u001b[0m | \u001b[0m 6.67    \u001b[0m | \u001b[0m 0.7394  \u001b[0m |\n",
      "| \u001b[0m 29      \u001b[0m | \u001b[0m-46.76   \u001b[0m | \u001b[0m 0.7015  \u001b[0m | \u001b[0m 0.04737 \u001b[0m | \u001b[0m-1.933   \u001b[0m | \u001b[0m 4.679   \u001b[0m | \u001b[0m 6.163   \u001b[0m | \u001b[0m 15.34   \u001b[0m | \u001b[0m 0.8905  \u001b[0m |\n",
      "| \u001b[0m 30      \u001b[0m | \u001b[0m-49.99   \u001b[0m | \u001b[0m 0.6254  \u001b[0m | \u001b[0m 0.04913 \u001b[0m | \u001b[0m 0.3809  \u001b[0m | \u001b[0m 6.883   \u001b[0m | \u001b[0m 6.307   \u001b[0m | \u001b[0m 1.012   \u001b[0m | \u001b[0m 0.3435  \u001b[0m |\n",
      "| \u001b[0m 31      \u001b[0m | \u001b[0m-44.04   \u001b[0m | \u001b[0m 0.3367  \u001b[0m | \u001b[0m 0.0299  \u001b[0m | \u001b[0m-1.932   \u001b[0m | \u001b[0m 8.336   \u001b[0m | \u001b[0m 5.782   \u001b[0m | \u001b[0m 0.2276  \u001b[0m | \u001b[0m 0.69    \u001b[0m |\n",
      "| \u001b[0m 32      \u001b[0m | \u001b[0m-45.09   \u001b[0m | \u001b[0m 0.6466  \u001b[0m | \u001b[0m 0.04667 \u001b[0m | \u001b[0m-0.7342  \u001b[0m | \u001b[0m 8.497   \u001b[0m | \u001b[0m 4.067   \u001b[0m | \u001b[0m 18.61   \u001b[0m | \u001b[0m 0.357   \u001b[0m |\n",
      "| \u001b[0m 33      \u001b[0m | \u001b[0m-44.79   \u001b[0m | \u001b[0m 0.4355  \u001b[0m | \u001b[0m 0.04056 \u001b[0m | \u001b[0m-0.7927  \u001b[0m | \u001b[0m 6.482   \u001b[0m | \u001b[0m 4.229   \u001b[0m | \u001b[0m 14.07   \u001b[0m | \u001b[0m 0.6384  \u001b[0m |\n",
      "| \u001b[0m 34      \u001b[0m | \u001b[0m-42.8    \u001b[0m | \u001b[0m 0.8824  \u001b[0m | \u001b[0m 0.02817 \u001b[0m | \u001b[0m-2.316   \u001b[0m | \u001b[0m 0.849   \u001b[0m | \u001b[0m 3.756   \u001b[0m | \u001b[0m 8.499   \u001b[0m | \u001b[0m 0.6039  \u001b[0m |\n",
      "| \u001b[0m 35      \u001b[0m | \u001b[0m-43.52   \u001b[0m | \u001b[0m 0.3776  \u001b[0m | \u001b[0m 0.03208 \u001b[0m | \u001b[0m 0.6536  \u001b[0m | \u001b[0m 4.181   \u001b[0m | \u001b[0m 3.206   \u001b[0m | \u001b[0m 5.485   \u001b[0m | \u001b[0m 0.6778  \u001b[0m |\n",
      "| \u001b[0m 36      \u001b[0m | \u001b[0m-45.96   \u001b[0m | \u001b[0m 0.4446  \u001b[0m | \u001b[0m 0.0544  \u001b[0m | \u001b[0m-0.5114  \u001b[0m | \u001b[0m 1.864   \u001b[0m | \u001b[0m 4.396   \u001b[0m | \u001b[0m 12.76   \u001b[0m | \u001b[0m 0.6814  \u001b[0m |\n",
      "| \u001b[0m 37      \u001b[0m | \u001b[0m-45.28   \u001b[0m | \u001b[0m 0.3607  \u001b[0m | \u001b[0m 0.04481 \u001b[0m | \u001b[0m-1.787   \u001b[0m | \u001b[0m 5.114   \u001b[0m | \u001b[0m 6.234   \u001b[0m | \u001b[0m 19.1    \u001b[0m | \u001b[0m 0.8588  \u001b[0m |\n",
      "| \u001b[0m 38      \u001b[0m | \u001b[0m-44.51   \u001b[0m | \u001b[0m 0.4339  \u001b[0m | \u001b[0m 0.03456 \u001b[0m | \u001b[0m-2.591   \u001b[0m | \u001b[0m 7.088   \u001b[0m | \u001b[0m 4.764   \u001b[0m | \u001b[0m 13.35   \u001b[0m | \u001b[0m 0.8107  \u001b[0m |\n",
      "| \u001b[0m 39      \u001b[0m | \u001b[0m-45.43   \u001b[0m | \u001b[0m 0.8679  \u001b[0m | \u001b[0m 0.02951 \u001b[0m | \u001b[0m 0.5938  \u001b[0m | \u001b[0m 5.274   \u001b[0m | \u001b[0m 6.264   \u001b[0m | \u001b[0m 6.637   \u001b[0m | \u001b[0m 0.3226  \u001b[0m |\n",
      "| \u001b[0m 40      \u001b[0m | \u001b[0m-47.24   \u001b[0m | \u001b[0m 0.6095  \u001b[0m | \u001b[0m 0.03786 \u001b[0m | \u001b[0m 0.3666  \u001b[0m | \u001b[0m 3.668   \u001b[0m | \u001b[0m 4.668   \u001b[0m | \u001b[0m 14.25   \u001b[0m | \u001b[0m 0.3905  \u001b[0m |\n",
      "=============================================================================================================\n"
     ]
    }
   ],
   "source": [
    "with warnings.catch_warnings():\n",
    "    warnings.filterwarnings('ignore')\n",
    "    xgb_bayes.maximize(init_points=15, n_iter=25)"
   ]
  },
  {
   "cell_type": "code",
   "execution_count": 90,
   "metadata": {},
   "outputs": [],
   "source": [
    "best_params = xgb_bayes.max['params']\n",
    "xgb_params = bo_result_to_xgb(best_params)"
   ]
  },
  {
   "cell_type": "code",
   "execution_count": 91,
   "metadata": {},
   "outputs": [],
   "source": [
    "clf = xgb.XGBRegressor(booster='gbtree', n_estimators=100, verbosity=0, n_jobs=16, seed=42,\n",
    "                            reg_alpha=0.1, reg_lambda=0.1, **xgb_params)"
   ]
  },
  {
   "cell_type": "code",
   "execution_count": 92,
   "metadata": {},
   "outputs": [
    {
     "name": "stdout",
     "output_type": "stream",
     "text": [
      "[0]\tvalidation_0-rmse:41.6592\n",
      "[20]\tvalidation_0-rmse:42.0863\n",
      "[40]\tvalidation_0-rmse:41.9187\n",
      "[60]\tvalidation_0-rmse:41.269\n",
      "[80]\tvalidation_0-rmse:41.3623\n",
      "[99]\tvalidation_0-rmse:41.7614\n"
     ]
    },
    {
     "data": {
      "text/plain": [
       "XGBRegressor(base_score=0.5, booster='gbtree', colsample_bylevel=1,\n",
       "       colsample_bytree=0.5871745279884921, gamma=0.0042838197232680465,\n",
       "       learning_rate=0.02272420122094703, max_delta_step=3, max_depth=5,\n",
       "       min_child_weight=4.4429050610784575, missing=None, n_estimators=100,\n",
       "       n_jobs=16, nthread=None, objective='reg:linear', random_state=0,\n",
       "       reg_alpha=0.1, reg_lambda=0.1, scale_pos_weight=1, seed=42,\n",
       "       silent=True, subsample=0.7912238288974662, verbosity=0)"
      ]
     },
     "execution_count": 92,
     "metadata": {},
     "output_type": "execute_result"
    }
   ],
   "source": [
    "clf.fit(x_train, y_train, eval_set=[(x_eval, y_eval)], eval_metric='rmse', verbose=20)"
   ]
  },
  {
   "cell_type": "markdown",
   "metadata": {},
   "source": [
    "验证集最终的指标与贝叶斯优化时最佳指标理应一致"
   ]
  },
  {
   "cell_type": "code",
   "execution_count": 93,
   "metadata": {},
   "outputs": [],
   "source": [
    "y_pred_eval = clf.predict(x_eval)\n",
    "y_pred_eval = pd.Series(y_pred_eval, index=y_eval.index)"
   ]
  },
  {
   "cell_type": "code",
   "execution_count": 94,
   "metadata": {},
   "outputs": [
    {
     "data": {
      "text/plain": [
       "41.76142926691161"
      ]
     },
     "execution_count": 94,
     "metadata": {},
     "output_type": "execute_result"
    }
   ],
   "source": [
    "rmse(y_pred_eval - y_eval)"
   ]
  },
  {
   "cell_type": "code",
   "execution_count": 95,
   "metadata": {},
   "outputs": [],
   "source": [
    "y_test_eval = clf.predict(x_test)\n",
    "y_test_eval = pd.Series(y_test_eval, index=y_test.index)"
   ]
  },
  {
   "cell_type": "code",
   "execution_count": 96,
   "metadata": {},
   "outputs": [
    {
     "data": {
      "text/plain": [
       "55.08757815640879"
      ]
     },
     "execution_count": 96,
     "metadata": {},
     "output_type": "execute_result"
    }
   ],
   "source": [
    "rmse(y_test - y_test_eval)"
   ]
  },
  {
   "cell_type": "code",
   "execution_count": null,
   "metadata": {},
   "outputs": [],
   "source": []
  }
 ],
 "metadata": {
  "kernelspec": {
   "display_name": "Python 3",
   "language": "python",
   "name": "python3"
  },
  "language_info": {
   "codemirror_mode": {
    "name": "ipython",
    "version": 3
   },
   "file_extension": ".py",
   "mimetype": "text/x-python",
   "name": "python",
   "nbconvert_exporter": "python",
   "pygments_lexer": "ipython3",
   "version": "3.6.8"
  }
 },
 "nbformat": 4,
 "nbformat_minor": 2
}
