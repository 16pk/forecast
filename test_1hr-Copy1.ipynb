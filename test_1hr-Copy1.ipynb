{
 "cells": [
  {
   "cell_type": "code",
   "execution_count": 1,
   "metadata": {},
   "outputs": [],
   "source": [
    "import numpy as np\n",
    "import pandas as pd\n",
    "from datetime import datetime, timedelta\n",
    "from collections import defaultdict\n",
    "import warnings"
   ]
  },
  {
   "cell_type": "code",
   "execution_count": 2,
   "metadata": {},
   "outputs": [],
   "source": [
    "import xgboost as xgb"
   ]
  },
  {
   "cell_type": "code",
   "execution_count": 3,
   "metadata": {},
   "outputs": [],
   "source": [
    "import matplotlib.pyplot as plt\n",
    "%matplotlib inline"
   ]
  },
  {
   "cell_type": "code",
   "execution_count": 4,
   "metadata": {},
   "outputs": [],
   "source": [
    "def read_ec_data(filename):\n",
    "    with open(filename) as fid:\n",
    "        data_dct = defaultdict(dict)\n",
    "        for line in fid:\n",
    "            fields = line.strip('\\n').split('\\t')\n",
    "            if fields[1] == 'SLP':\n",
    "                continue\n",
    "            ec_time = datetime.strptime(fields[0], '%Y%m%d%H')\n",
    "            forecast_time = (ec_time + timedelta(hours=12))\n",
    "            for idx in range(-12, 24):\n",
    "                data_dct[forecast_time][f'{fields[1]}.{idx}'] = float(fields[idx + 12 + 2])\n",
    "    return pd.DataFrame(data_dct).transpose()"
   ]
  },
  {
   "cell_type": "code",
   "execution_count": 5,
   "metadata": {},
   "outputs": [],
   "source": [
    "def read_obs(filename):\n",
    "    obs_data = pd.read_csv(filename, header=None, names=['time', 'obs'], sep='\\t')\n",
    "    obs_data['date'] = pd.to_datetime(obs_data['time'] // 10000, format='%Y%m%d')\n",
    "    obs_data['hour'] = obs_data['time'] // 100 % 100\n",
    "    obs_data2 = obs_data.pivot(columns='hour', index='date', values='obs')\n",
    "    return obs_data2"
   ]
  },
  {
   "cell_type": "code",
   "execution_count": 6,
   "metadata": {},
   "outputs": [],
   "source": [
    "ec1 = read_ec_data('data/ec_fcst_2018030112_2018103112.txt')\n",
    "ec2 = read_ec_data('data/ec_fcst_2018110112_2018123012.txt')\n",
    "ec = pd.concat([ec1, ec2], axis=0)"
   ]
  },
  {
   "cell_type": "code",
   "execution_count": 7,
   "metadata": {},
   "outputs": [],
   "source": [
    "obs_p1 = read_obs('data/obs_2018030112_2018103112_site_01.txt')\n",
    "obs_p2 = read_obs('data/obs_2018110112_2018123012_site_01.txt')\n",
    "obs = pd.concat([obs_p1, obs_p2], axis=0).resample('1D').mean()"
   ]
  },
  {
   "cell_type": "code",
   "execution_count": 8,
   "metadata": {},
   "outputs": [],
   "source": [
    "yesterday_obs = obs.shift(1)\n",
    "yesterday_obs = yesterday_obs[[x for x in range(12, 24)]]"
   ]
  },
  {
   "cell_type": "code",
   "execution_count": 9,
   "metadata": {},
   "outputs": [],
   "source": [
    "yesterday_obs.columns = [x - 24 for x in yesterday_obs.columns]"
   ]
  },
  {
   "cell_type": "code",
   "execution_count": 10,
   "metadata": {},
   "outputs": [],
   "source": [
    "obs_mat = pd.concat([yesterday_obs, obs], axis=1)\n",
    "obs_mat.columns = [f'obs.{x}' for x in obs_mat.columns]"
   ]
  },
  {
   "cell_type": "code",
   "execution_count": 11,
   "metadata": {},
   "outputs": [],
   "source": [
    "obs_mat = obs_mat.loc[obs_mat['obs.-12'].notnull()]"
   ]
  },
  {
   "cell_type": "code",
   "execution_count": 12,
   "metadata": {},
   "outputs": [],
   "source": [
    "raw_data = ec.merge(obs_mat, left_index=True, right_index=True)"
   ]
  },
  {
   "cell_type": "markdown",
   "metadata": {},
   "source": [
    "### 特征加工"
   ]
  },
  {
   "cell_type": "code",
   "execution_count": 13,
   "metadata": {},
   "outputs": [],
   "source": [
    "# 风速，湿球温度与气温差值，预报风速误差\n",
    "for idx in range(-12, 24):\n",
    "    raw_data[f'ws.{idx}'] = np.sqrt(raw_data[f'U10.{idx}'] ** 2 + raw_data[f'V10.{idx}'] ** 2)\n",
    "    raw_data[f'rh_delta.{idx}'] = raw_data[f'T.{idx}'] - raw_data[f'RH.{idx}']\n",
    "    raw_data[f'bias.{idx}'] = raw_data[f'obs.{idx}'] - raw_data[f'ws.{idx}']"
   ]
  },
  {
   "cell_type": "code",
   "execution_count": 14,
   "metadata": {},
   "outputs": [],
   "source": [
    "# 气压变，温度变，风速变\n",
    "for idx in range(0, 24):\n",
    "    for span in (1, 3, 6, 12):\n",
    "        raw_data[f'PSFC_{span}d.{idx}'] = raw_data[f'PSFC.{idx}'] - raw_data[f'PSFC.{idx-span}']\n",
    "        raw_data[f'T_{span}d.{idx}'] = raw_data[f'T.{idx}'] - raw_data[f'T.{idx-span}']\n",
    "        raw_data[f'ws_{span}d.{idx}'] = raw_data[f'ws.{idx}'] - raw_data[f'ws.{idx-span}']"
   ]
  },
  {
   "cell_type": "code",
   "execution_count": 15,
   "metadata": {},
   "outputs": [],
   "source": [
    "is_train = raw_data.index < datetime(2018, 10, 1)\n",
    "is_eval = (raw_data.index >= datetime(2018, 10, 1)) & (raw_data.index < datetime(2018, 10, 18))\n",
    "is_test = (raw_data.index >= datetime(2018, 10, 18)) & (raw_data.index < datetime(2018, 11, 3))\n",
    "is_prod = raw_data.index >= datetime(2018, 11, 3)"
   ]
  },
  {
   "cell_type": "code",
   "execution_count": 16,
   "metadata": {},
   "outputs": [
    {
     "data": {
      "text/plain": [
       "(212, 17, 16, 29)"
      ]
     },
     "execution_count": 16,
     "metadata": {},
     "output_type": "execute_result"
    }
   ],
   "source": [
    "is_train.sum(), is_eval.sum(), is_test.sum(), is_prod.sum()"
   ]
  },
  {
   "cell_type": "markdown",
   "metadata": {},
   "source": [
    "### 训练模型"
   ]
  },
  {
   "cell_type": "code",
   "execution_count": 17,
   "metadata": {},
   "outputs": [],
   "source": [
    "def rmse(y_arr):\n",
    "    return np.sqrt((y_arr ** 2).mean())"
   ]
  },
  {
   "cell_type": "code",
   "execution_count": 18,
   "metadata": {},
   "outputs": [],
   "source": [
    "# print(list(raw_data.columns))"
   ]
  },
  {
   "cell_type": "code",
   "execution_count": 19,
   "metadata": {},
   "outputs": [],
   "source": [
    "fc_hr = 12"
   ]
  },
  {
   "cell_type": "code",
   "execution_count": 20,
   "metadata": {},
   "outputs": [],
   "source": [
    "# feat_list = [f'U10.{x}' for x in range(-12, 0)] + [f'V10.{x}' for x in range(-12, 0)] + \\\n",
    "#     [f'bias.{x}' for x in range(-12, 0)] + [f'ws.{x}' for x in range(-12, 0)] + \\\n",
    "#     [f'rh_delta.{x}' for x in range(-12, 0)] + [f'U10.{fc_hr}' + f'V10.{fc_hr}' + f'ws.{fc_hr}' + f'rh_delta.{fc_hr}'] + \\\n",
    "#     [f'PSFC_{span}d.{fc_hr}' for span in (1, 3, 6, 12)] + [f'T_{span}d.{fc_hr}' for span in (1, 3, 6, 12)] + \\\n",
    "#     [f'ws_{span}d.{fc_hr}' for span in (1, 3, 6, 12)]"
   ]
  },
  {
   "cell_type": "code",
   "execution_count": 21,
   "metadata": {},
   "outputs": [],
   "source": [
    "feat_list = [f'U10.{x}' for x in range(-12, 24)] + [f'V10.{x}' for x in range(-12, 24)] + \\\n",
    "    [f'bias.{x}' for x in range(-12, 0)] + [f'ws.{x}' for x in range(-12, 24)] + \\\n",
    "    [f'rh_delta.{x}' for x in range(-12, 24)] + \\\n",
    "    [f'PSFC_{span}d.{fc_hr}' for span in (1, 3, 6, 12)] + [f'T_{span}d.{fc_hr}' for span in (1, 3, 6, 12)] + \\\n",
    "    [f'ws_{span}d.{fc_hr}' for span in (1, 3, 6, 12)]"
   ]
  },
  {
   "cell_type": "code",
   "execution_count": 22,
   "metadata": {},
   "outputs": [],
   "source": [
    "x_train = raw_data.loc[is_train, feat_list]\n",
    "x_eval = raw_data.loc[is_eval, feat_list]\n",
    "x_test = raw_data.loc[is_test, feat_list]"
   ]
  },
  {
   "cell_type": "code",
   "execution_count": 23,
   "metadata": {},
   "outputs": [],
   "source": [
    "y_train = raw_data.loc[is_train, f'bias.{fc_hr}']\n",
    "y_eval = raw_data.loc[is_eval, f'bias.{fc_hr}']\n",
    "y_test = raw_data.loc[is_test, f'bias.{fc_hr}']"
   ]
  },
  {
   "cell_type": "code",
   "execution_count": 24,
   "metadata": {},
   "outputs": [
    {
     "name": "stdout",
     "output_type": "stream",
     "text": [
      "1.2292265630625003 1.2818262517841104 1.9991384964855663\n"
     ]
    }
   ],
   "source": [
    "print(rmse(y_train), rmse(y_eval), rmse(y_test))"
   ]
  },
  {
   "cell_type": "code",
   "execution_count": 25,
   "metadata": {},
   "outputs": [
    {
     "data": {
      "text/plain": [
       "168"
      ]
     },
     "execution_count": 25,
     "metadata": {},
     "output_type": "execute_result"
    }
   ],
   "source": [
    "len(feat_list)"
   ]
  },
  {
   "cell_type": "markdown",
   "metadata": {},
   "source": [
    "### 贝叶斯调参"
   ]
  },
  {
   "cell_type": "code",
   "execution_count": 26,
   "metadata": {},
   "outputs": [],
   "source": [
    "from bayes_opt import BayesianOptimization"
   ]
  },
  {
   "cell_type": "code",
   "execution_count": 51,
   "metadata": {},
   "outputs": [],
   "source": [
    "def bo_result_to_xgb(bo_res):\n",
    "    xgb_params = bo_res.copy()\n",
    "    if 'log_gamma' in xgb_params:\n",
    "        xgb_params['gamma'] = 10**xgb_params['log_gamma']\n",
    "        xgb_params.pop('log_gamma')\n",
    "    if 'max_depth' in xgb_params:\n",
    "        xgb_params['max_depth'] = int(np.round(xgb_params['max_depth']))\n",
    "    if 'max_delta_step' in xgb_params:\n",
    "        xgb_params['max_delta_step'] = int(np.round(xgb_params['max_delta_step']))\n",
    "    if 'subsample' in xgb_params:\n",
    "        xgb_params['subsample'] = max(min(xgb_params['subsample'], 1), 0)\n",
    "    if 'colsample_bytree' in xgb_params:\n",
    "        xgb_params['colsample_bytree'] = max(min(xgb_params['colsample_bytree'], 1), 0)\n",
    "    return xgb_params"
   ]
  },
  {
   "cell_type": "code",
   "execution_count": 67,
   "metadata": {},
   "outputs": [],
   "source": [
    "eval_result = clf.evals_result()"
   ]
  },
  {
   "cell_type": "code",
   "execution_count": 69,
   "metadata": {},
   "outputs": [
    {
     "data": {
      "text/plain": [
       "0.817205"
      ]
     },
     "execution_count": 69,
     "metadata": {},
     "output_type": "execute_result"
    }
   ],
   "source": [
    "eval_result['validation_0']['rmse'][-1]"
   ]
  },
  {
   "cell_type": "code",
   "execution_count": 77,
   "metadata": {},
   "outputs": [],
   "source": [
    "def xgb_model(**kwargs):\n",
    "    xgb_params = bo_result_to_xgb(kwargs)\n",
    "    clf = xgb.XGBRegressor(booster='gbtree', n_estimators=400, verbosity=0, n_jobs=16, seed=42,\n",
    "                            reg_alpha=0.1, reg_lambda=0.1, **xgb_params)\n",
    "    clf.fit(x_train, y_train, eval_set=[(x_train, y_train), (x_eval, y_eval)], eval_metric='rmse',\n",
    "            verbose=False)\n",
    "    eval_result = clf.evals_result()\n",
    "    train_rmse = eval_result['validation_0']['rmse'][-1]\n",
    "    dev_rmse = eval_result['validation_1']['rmse'][-1]\n",
    "    n_trees = len(eval_result['validation_0']['rmse'])\n",
    "#     print(f'N trees: {n_trees}, train RMSE: {train_rmse}, eval RMSE: {dev_rmse}')\n",
    "#     print(f'eval RMSE: {dev_rmse}, {xgb_params}')\n",
    "    return -dev_rmse"
   ]
  },
  {
   "cell_type": "code",
   "execution_count": 84,
   "metadata": {},
   "outputs": [],
   "source": [
    "xgb_bayes = BayesianOptimization(xgb_model, {\n",
    "    'learning_rate': (0.02, 0.06),\n",
    "    'max_depth': (3, 7),\n",
    "    'log_gamma': (-3, 1),\n",
    "    'min_child_weight': (0, 20),\n",
    "    'max_delta_step': (0, 10),\n",
    "    'subsample': (0.3, 0.9),\n",
    "    'colsample_bytree': (0.3, 0.9)\n",
    "})"
   ]
  },
  {
   "cell_type": "code",
   "execution_count": 85,
   "metadata": {},
   "outputs": [
    {
     "name": "stdout",
     "output_type": "stream",
     "text": [
      "|   iter    |  target   | colsam... | learni... | log_gamma | max_de... | max_depth | min_ch... | subsample |\n",
      "-------------------------------------------------------------------------------------------------------------\n",
      "N trees: 400, train RMSE: 0.409916, eval RMSE: 0.794613\n",
      "eval RMSE: 0.794613, {'colsample_bytree': 0.8509024010331165, 'learning_rate': 0.02434365408310157, 'max_delta_step': 4, 'max_depth': 4, 'min_child_weight': 10.720115438221413, 'subsample': 0.7790867761935246, 'gamma': 1.9594703655176307}\n",
      "| \u001b[0m 1       \u001b[0m | \u001b[0m-0.7946  \u001b[0m | \u001b[0m 0.8509  \u001b[0m | \u001b[0m 0.02434 \u001b[0m | \u001b[0m 0.2921  \u001b[0m | \u001b[0m 3.636   \u001b[0m | \u001b[0m 4.185   \u001b[0m | \u001b[0m 10.72   \u001b[0m | \u001b[0m 0.7791  \u001b[0m |\n",
      "N trees: 400, train RMSE: 0.399945, eval RMSE: 0.920521\n",
      "eval RMSE: 0.920521, {'colsample_bytree': 0.4184904926610765, 'learning_rate': 0.024844414056574383, 'max_delta_step': 3, 'max_depth': 7, 'min_child_weight': 9.562199136177592, 'subsample': 0.35179382511078694, 'gamma': 0.03472756171433207}\n",
      "| \u001b[0m 2       \u001b[0m | \u001b[0m-0.9205  \u001b[0m | \u001b[0m 0.4185  \u001b[0m | \u001b[0m 0.02484 \u001b[0m | \u001b[0m-1.459   \u001b[0m | \u001b[0m 3.466   \u001b[0m | \u001b[0m 6.52    \u001b[0m | \u001b[0m 9.562   \u001b[0m | \u001b[0m 0.3518  \u001b[0m |\n",
      "N trees: 400, train RMSE: 0.47046, eval RMSE: 0.844061\n",
      "eval RMSE: 0.844061, {'colsample_bytree': 0.7947477863393898, 'learning_rate': 0.042514276800583534, 'max_delta_step': 9, 'max_depth': 5, 'min_child_weight': 14.44967296910743, 'subsample': 0.570447874821026, 'gamma': 2.683486259486417}\n",
      "| \u001b[0m 3       \u001b[0m | \u001b[0m-0.8441  \u001b[0m | \u001b[0m 0.7947  \u001b[0m | \u001b[0m 0.04251 \u001b[0m | \u001b[0m 0.4287  \u001b[0m | \u001b[0m 9.035   \u001b[0m | \u001b[0m 5.297   \u001b[0m | \u001b[0m 14.45   \u001b[0m | \u001b[0m 0.5704  \u001b[0m |\n",
      "N trees: 400, train RMSE: 0.322914, eval RMSE: 0.781801\n",
      "eval RMSE: 0.781801, {'colsample_bytree': 0.6003426380052916, 'learning_rate': 0.0576014389138544, 'max_delta_step': 6, 'max_depth': 7, 'min_child_weight': 17.117757446109746, 'subsample': 0.566277919517983, 'gamma': 1.0659296450948739}\n",
      "| \u001b[95m 4       \u001b[0m | \u001b[95m-0.7818  \u001b[0m | \u001b[95m 0.6003  \u001b[0m | \u001b[95m 0.0576  \u001b[0m | \u001b[95m 0.02773 \u001b[0m | \u001b[95m 6.11    \u001b[0m | \u001b[95m 6.741   \u001b[0m | \u001b[95m 17.12   \u001b[0m | \u001b[95m 0.5663  \u001b[0m |\n",
      "N trees: 400, train RMSE: 0.41102, eval RMSE: 0.784131\n",
      "eval RMSE: 0.784131, {'colsample_bytree': 0.633293702629959, 'learning_rate': 0.03990201251208153, 'max_delta_step': 6, 'max_depth': 6, 'min_child_weight': 19.87486141738436, 'subsample': 0.6730718446197321, 'gamma': 1.688127641346056}\n",
      "| \u001b[0m 5       \u001b[0m | \u001b[0m-0.7841  \u001b[0m | \u001b[0m 0.6333  \u001b[0m | \u001b[0m 0.0399  \u001b[0m | \u001b[0m 0.2274  \u001b[0m | \u001b[0m 5.685   \u001b[0m | \u001b[0m 5.526   \u001b[0m | \u001b[0m 19.87   \u001b[0m | \u001b[0m 0.6731  \u001b[0m |\n",
      "N trees: 400, train RMSE: 0.098148, eval RMSE: 0.884639\n",
      "eval RMSE: 0.884639, {'colsample_bytree': 0.47501625790450785, 'learning_rate': 0.052509725700161825, 'max_delta_step': 6, 'max_depth': 7, 'min_child_weight': 5.356486906559539, 'subsample': 0.5206825543479761, 'gamma': 0.09991278302981918}\n",
      "| \u001b[0m 6       \u001b[0m | \u001b[0m-0.8846  \u001b[0m | \u001b[0m 0.475   \u001b[0m | \u001b[0m 0.05251 \u001b[0m | \u001b[0m-1.0     \u001b[0m | \u001b[0m 5.542   \u001b[0m | \u001b[0m 6.756   \u001b[0m | \u001b[0m 5.356   \u001b[0m | \u001b[0m 0.5207  \u001b[0m |\n",
      "N trees: 400, train RMSE: 0.577266, eval RMSE: 1.11552\n",
      "eval RMSE: 1.11552, {'colsample_bytree': 0.5513421182005873, 'learning_rate': 0.05741495134709099, 'max_delta_step': 10, 'max_depth': 5, 'min_child_weight': 3.3390837677223595, 'subsample': 0.35000872092783875, 'gamma': 4.529024137772211}\n",
      "| \u001b[0m 7       \u001b[0m | \u001b[0m-1.116   \u001b[0m | \u001b[0m 0.5513  \u001b[0m | \u001b[0m 0.05741 \u001b[0m | \u001b[0m 0.656   \u001b[0m | \u001b[0m 9.501   \u001b[0m | \u001b[0m 5.017   \u001b[0m | \u001b[0m 3.339   \u001b[0m | \u001b[0m 0.35    \u001b[0m |\n",
      "N trees: 400, train RMSE: 0.155377, eval RMSE: 0.900116\n",
      "eval RMSE: 0.900116, {'colsample_bytree': 0.3311080673724818, 'learning_rate': 0.04887178876942644, 'max_delta_step': 4, 'max_depth': 4, 'min_child_weight': 8.848695644531313, 'subsample': 0.40128503166511714, 'gamma': 0.002490777935316779}\n",
      "| \u001b[0m 8       \u001b[0m | \u001b[0m-0.9001  \u001b[0m | \u001b[0m 0.3311  \u001b[0m | \u001b[0m 0.04887 \u001b[0m | \u001b[0m-2.604   \u001b[0m | \u001b[0m 4.457   \u001b[0m | \u001b[0m 3.732   \u001b[0m | \u001b[0m 8.849   \u001b[0m | \u001b[0m 0.4013  \u001b[0m |\n",
      "N trees: 400, train RMSE: 0.36998, eval RMSE: 0.834325\n",
      "eval RMSE: 0.834325, {'colsample_bytree': 0.4117249747909375, 'learning_rate': 0.04346853815253933, 'max_delta_step': 2, 'max_depth': 4, 'min_child_weight': 19.40746276398152, 'subsample': 0.4747743013883379, 'gamma': 0.013792641703308881}\n",
      "| \u001b[0m 9       \u001b[0m | \u001b[0m-0.8343  \u001b[0m | \u001b[0m 0.4117  \u001b[0m | \u001b[0m 0.04347 \u001b[0m | \u001b[0m-1.86    \u001b[0m | \u001b[0m 1.753   \u001b[0m | \u001b[0m 3.677   \u001b[0m | \u001b[0m 19.41   \u001b[0m | \u001b[0m 0.4748  \u001b[0m |\n",
      "N trees: 400, train RMSE: 0.144514, eval RMSE: 0.752129\n",
      "eval RMSE: 0.752129, {'colsample_bytree': 0.7737912464994213, 'learning_rate': 0.040849577458881986, 'max_delta_step': 2, 'max_depth': 4, 'min_child_weight': 5.813921598714349, 'subsample': 0.3480127330935994, 'gamma': 0.004472355791160224}\n",
      "| \u001b[95m 10      \u001b[0m | \u001b[95m-0.7521  \u001b[0m | \u001b[95m 0.7738  \u001b[0m | \u001b[95m 0.04085 \u001b[0m | \u001b[95m-2.349   \u001b[0m | \u001b[95m 1.671   \u001b[0m | \u001b[95m 4.347   \u001b[0m | \u001b[95m 5.814   \u001b[0m | \u001b[95m 0.348   \u001b[0m |\n",
      "N trees: 400, train RMSE: 0.825236, eval RMSE: 0.949466\n",
      "eval RMSE: 0.949466, {'colsample_bytree': 0.6484860020792564, 'learning_rate': 0.03333268650630871, 'max_delta_step': 8, 'max_depth': 6, 'min_child_weight': 19.59668232860106, 'subsample': 0.5019152049843097, 'gamma': 8.886302925070842}\n",
      "| \u001b[0m 11      \u001b[0m | \u001b[0m-0.9495  \u001b[0m | \u001b[0m 0.6485  \u001b[0m | \u001b[0m 0.03333 \u001b[0m | \u001b[0m 0.9487  \u001b[0m | \u001b[0m 7.927   \u001b[0m | \u001b[0m 5.697   \u001b[0m | \u001b[0m 19.6    \u001b[0m | \u001b[0m 0.5019  \u001b[0m |\n",
      "N trees: 400, train RMSE: 0.529311, eval RMSE: 0.836729\n",
      "eval RMSE: 0.836729, {'colsample_bytree': 0.5725851773582087, 'learning_rate': 0.03579224366008554, 'max_delta_step': 3, 'max_depth': 6, 'min_child_weight': 9.072091242935322, 'subsample': 0.608024372799405, 'gamma': 3.628260009223456}\n",
      "| \u001b[0m 12      \u001b[0m | \u001b[0m-0.8367  \u001b[0m | \u001b[0m 0.5726  \u001b[0m | \u001b[0m 0.03579 \u001b[0m | \u001b[0m 0.5597  \u001b[0m | \u001b[0m 2.674   \u001b[0m | \u001b[0m 6.144   \u001b[0m | \u001b[0m 9.072   \u001b[0m | \u001b[0m 0.608   \u001b[0m |\n",
      "N trees: 400, train RMSE: 0.06336, eval RMSE: 0.911871\n",
      "eval RMSE: 0.911871, {'colsample_bytree': 0.6521364576872885, 'learning_rate': 0.03328899303397201, 'max_delta_step': 8, 'max_depth': 6, 'min_child_weight': 2.2309536167278177, 'subsample': 0.41169572327652837, 'gamma': 0.0012060201104673195}\n",
      "| \u001b[0m 13      \u001b[0m | \u001b[0m-0.9119  \u001b[0m | \u001b[0m 0.6521  \u001b[0m | \u001b[0m 0.03329 \u001b[0m | \u001b[0m-2.919   \u001b[0m | \u001b[0m 7.545   \u001b[0m | \u001b[0m 6.015   \u001b[0m | \u001b[0m 2.231   \u001b[0m | \u001b[0m 0.4117  \u001b[0m |\n",
      "N trees: 400, train RMSE: 0.060496, eval RMSE: 0.882402\n",
      "eval RMSE: 0.882402, {'colsample_bytree': 0.386533339423831, 'learning_rate': 0.05132903047509638, 'max_delta_step': 9, 'max_depth': 4, 'min_child_weight': 0.5879821582019762, 'subsample': 0.311454950647634, 'gamma': 0.0010587857456465432}\n",
      "| \u001b[0m 14      \u001b[0m | \u001b[0m-0.8824  \u001b[0m | \u001b[0m 0.3865  \u001b[0m | \u001b[0m 0.05133 \u001b[0m | \u001b[0m-2.975   \u001b[0m | \u001b[0m 9.191   \u001b[0m | \u001b[0m 3.787   \u001b[0m | \u001b[0m 0.588   \u001b[0m | \u001b[0m 0.3115  \u001b[0m |\n",
      "N trees: 400, train RMSE: 0.434765, eval RMSE: 0.85825\n",
      "eval RMSE: 0.85825, {'colsample_bytree': 0.784489355789804, 'learning_rate': 0.051231341679805156, 'max_delta_step': 8, 'max_depth': 6, 'min_child_weight': 7.443116738676827, 'subsample': 0.4348158584698002, 'gamma': 2.611942524725726}\n",
      "| \u001b[0m 15      \u001b[0m | \u001b[0m-0.8582  \u001b[0m | \u001b[0m 0.7845  \u001b[0m | \u001b[0m 0.05123 \u001b[0m | \u001b[0m 0.417   \u001b[0m | \u001b[0m 8.088   \u001b[0m | \u001b[0m 5.571   \u001b[0m | \u001b[0m 7.443   \u001b[0m | \u001b[0m 0.4348  \u001b[0m |\n",
      "N trees: 400, train RMSE: 0.788462, eval RMSE: 1.034594\n",
      "eval RMSE: 1.034594, {'colsample_bytree': 0.9, 'learning_rate': 0.02, 'max_delta_step': 0, 'max_depth': 3, 'min_child_weight': 0.0, 'subsample': 0.9, 'gamma': 10.0}\n",
      "| \u001b[0m 16      \u001b[0m | \u001b[0m-1.035   \u001b[0m | \u001b[0m 0.9     \u001b[0m | \u001b[0m 0.02    \u001b[0m | \u001b[0m 1.0     \u001b[0m | \u001b[0m 0.0     \u001b[0m | \u001b[0m 3.0     \u001b[0m | \u001b[0m 0.0     \u001b[0m | \u001b[0m 0.9     \u001b[0m |\n",
      "N trees: 400, train RMSE: 0.77729, eval RMSE: 0.867092\n",
      "eval RMSE: 0.867092, {'colsample_bytree': 0.9, 'learning_rate': 0.06, 'max_delta_step': 0, 'max_depth': 7, 'min_child_weight': 20.0, 'subsample': 0.9, 'gamma': 9.99999999999999}\n",
      "| \u001b[0m 17      \u001b[0m | \u001b[0m-0.8671  \u001b[0m | \u001b[0m 0.9     \u001b[0m | \u001b[0m 0.06    \u001b[0m | \u001b[0m 1.0     \u001b[0m | \u001b[0m 0.0     \u001b[0m | \u001b[0m 7.0     \u001b[0m | \u001b[0m 20.0    \u001b[0m | \u001b[0m 0.9     \u001b[0m |\n",
      "N trees: 400, train RMSE: 0.015365, eval RMSE: 0.805507\n",
      "eval RMSE: 0.805507, {'colsample_bytree': 0.9, 'learning_rate': 0.06, 'max_delta_step': 0, 'max_depth': 7, 'min_child_weight': 0.0, 'subsample': 0.9, 'gamma': 0.001}\n",
      "| \u001b[0m 18      \u001b[0m | \u001b[0m-0.8055  \u001b[0m | \u001b[0m 0.9     \u001b[0m | \u001b[0m 0.06    \u001b[0m | \u001b[0m-3.0     \u001b[0m | \u001b[0m 0.0     \u001b[0m | \u001b[0m 7.0     \u001b[0m | \u001b[0m 0.0     \u001b[0m | \u001b[0m 0.9     \u001b[0m |\n",
      "N trees: 400, train RMSE: 0.052463, eval RMSE: 0.725349\n",
      "eval RMSE: 0.725349, {'colsample_bytree': 0.9, 'learning_rate': 0.06, 'max_delta_step': 6, 'max_depth': 7, 'min_child_weight': 20.0, 'subsample': 0.9, 'gamma': 0.001}\n",
      "| \u001b[95m 19      \u001b[0m | \u001b[95m-0.7253  \u001b[0m | \u001b[95m 0.9     \u001b[0m | \u001b[95m 0.06    \u001b[0m | \u001b[95m-3.0     \u001b[0m | \u001b[95m 6.042   \u001b[0m | \u001b[95m 7.0     \u001b[0m | \u001b[95m 20.0    \u001b[0m | \u001b[95m 0.9     \u001b[0m |\n",
      "N trees: 400, train RMSE: 0.02084, eval RMSE: 0.912617\n",
      "eval RMSE: 0.912617, {'colsample_bytree': 0.9, 'learning_rate': 0.06, 'max_delta_step': 3, 'max_depth': 3, 'min_child_weight': 0.0, 'subsample': 0.9, 'gamma': 0.001}\n",
      "| \u001b[0m 20      \u001b[0m | \u001b[0m-0.9126  \u001b[0m | \u001b[0m 0.9     \u001b[0m | \u001b[0m 0.06    \u001b[0m | \u001b[0m-3.0     \u001b[0m | \u001b[0m 3.169   \u001b[0m | \u001b[0m 3.0     \u001b[0m | \u001b[0m 0.0     \u001b[0m | \u001b[0m 0.9     \u001b[0m |\n",
      "N trees: 400, train RMSE: 0.035454, eval RMSE: 0.92506\n",
      "eval RMSE: 0.92506, {'colsample_bytree': 0.9, 'learning_rate': 0.06, 'max_delta_step': 10, 'max_depth': 3, 'min_child_weight': 8.292758854490787, 'subsample': 0.9, 'gamma': 0.001}\n",
      "| \u001b[0m 21      \u001b[0m | \u001b[0m-0.9251  \u001b[0m | \u001b[0m 0.9     \u001b[0m | \u001b[0m 0.06    \u001b[0m | \u001b[0m-3.0     \u001b[0m | \u001b[0m 10.0    \u001b[0m | \u001b[0m 3.0     \u001b[0m | \u001b[0m 8.293   \u001b[0m | \u001b[0m 0.9     \u001b[0m |\n",
      "N trees: 400, train RMSE: 0.79542, eval RMSE: 0.964765\n",
      "eval RMSE: 0.964765, {'colsample_bytree': 0.9, 'learning_rate': 0.06, 'max_delta_step': 0, 'max_depth': 3, 'min_child_weight': 8.314468428188102, 'subsample': 0.3, 'gamma': 10.0}\n",
      "| \u001b[0m 22      \u001b[0m | \u001b[0m-0.9648  \u001b[0m | \u001b[0m 0.9     \u001b[0m | \u001b[0m 0.06    \u001b[0m | \u001b[0m 1.0     \u001b[0m | \u001b[0m 0.0     \u001b[0m | \u001b[0m 3.0     \u001b[0m | \u001b[0m 8.314   \u001b[0m | \u001b[0m 0.3     \u001b[0m |\n",
      "N trees: 400, train RMSE: 0.095739, eval RMSE: 0.784804\n",
      "eval RMSE: 0.784804, {'colsample_bytree': 0.9, 'learning_rate': 0.06, 'max_delta_step': 7, 'max_depth': 3, 'min_child_weight': 20.0, 'subsample': 0.9, 'gamma': 0.001}\n",
      "| \u001b[0m 23      \u001b[0m | \u001b[0m-0.7848  \u001b[0m | \u001b[0m 0.9     \u001b[0m | \u001b[0m 0.06    \u001b[0m | \u001b[0m-3.0     \u001b[0m | \u001b[0m 7.276   \u001b[0m | \u001b[0m 3.0     \u001b[0m | \u001b[0m 20.0    \u001b[0m | \u001b[0m 0.9     \u001b[0m |\n",
      "N trees: 400, train RMSE: 0.044964, eval RMSE: 0.935705\n",
      "eval RMSE: 0.935705, {'colsample_bytree': 0.9, 'learning_rate': 0.02, 'max_delta_step': 0, 'max_depth': 7, 'min_child_weight': 4.944591098490165, 'subsample': 0.9, 'gamma': 0.001}\n",
      "| \u001b[0m 24      \u001b[0m | \u001b[0m-0.9357  \u001b[0m | \u001b[0m 0.9     \u001b[0m | \u001b[0m 0.02    \u001b[0m | \u001b[0m-3.0     \u001b[0m | \u001b[0m 0.0     \u001b[0m | \u001b[0m 7.0     \u001b[0m | \u001b[0m 4.945   \u001b[0m | \u001b[0m 0.9     \u001b[0m |\n",
      "N trees: 400, train RMSE: 0.570317, eval RMSE: 0.886417\n",
      "eval RMSE: 0.886417, {'colsample_bytree': 0.9, 'learning_rate': 0.06, 'max_delta_step': 2, 'max_depth': 7, 'min_child_weight': 20.0, 'subsample': 0.3, 'gamma': 0.001}\n",
      "| \u001b[0m 25      \u001b[0m | \u001b[0m-0.8864  \u001b[0m | \u001b[0m 0.9     \u001b[0m | \u001b[0m 0.06    \u001b[0m | \u001b[0m-3.0     \u001b[0m | \u001b[0m 1.98    \u001b[0m | \u001b[0m 7.0     \u001b[0m | \u001b[0m 20.0    \u001b[0m | \u001b[0m 0.3     \u001b[0m |\n",
      "N trees: 400, train RMSE: 0.395826, eval RMSE: 0.878943\n",
      "eval RMSE: 0.878943, {'colsample_bytree': 0.3, 'learning_rate': 0.02, 'max_delta_step': 0, 'max_depth': 3, 'min_child_weight': 2.647839710116527, 'subsample': 0.3, 'gamma': 0.001}\n",
      "| \u001b[0m 26      \u001b[0m | \u001b[0m-0.8789  \u001b[0m | \u001b[0m 0.3     \u001b[0m | \u001b[0m 0.02    \u001b[0m | \u001b[0m-3.0     \u001b[0m | \u001b[0m 0.0     \u001b[0m | \u001b[0m 3.0     \u001b[0m | \u001b[0m 2.648   \u001b[0m | \u001b[0m 0.3     \u001b[0m |\n",
      "N trees: 400, train RMSE: 0.791641, eval RMSE: 0.865949\n",
      "eval RMSE: 0.865949, {'colsample_bytree': 0.9, 'learning_rate': 0.06, 'max_delta_step': 3, 'max_depth': 3, 'min_child_weight': 20.0, 'subsample': 0.9, 'gamma': 10.0}\n",
      "| \u001b[0m 27      \u001b[0m | \u001b[0m-0.8659  \u001b[0m | \u001b[0m 0.9     \u001b[0m | \u001b[0m 0.06    \u001b[0m | \u001b[0m 1.0     \u001b[0m | \u001b[0m 2.536   \u001b[0m | \u001b[0m 3.0     \u001b[0m | \u001b[0m 20.0    \u001b[0m | \u001b[0m 0.9     \u001b[0m |\n",
      "N trees: 400, train RMSE: 0.208629, eval RMSE: 0.763703\n",
      "eval RMSE: 0.763703, {'colsample_bytree': 0.9, 'learning_rate': 0.02, 'max_delta_step': 10, 'max_depth': 7, 'min_child_weight': 14.366450349844076, 'subsample': 0.9, 'gamma': 0.001}\n",
      "| \u001b[0m 28      \u001b[0m | \u001b[0m-0.7637  \u001b[0m | \u001b[0m 0.9     \u001b[0m | \u001b[0m 0.02    \u001b[0m | \u001b[0m-3.0     \u001b[0m | \u001b[0m 10.0    \u001b[0m | \u001b[0m 7.0     \u001b[0m | \u001b[0m 14.37   \u001b[0m | \u001b[0m 0.9     \u001b[0m |\n",
      "N trees: 400, train RMSE: 0.023613, eval RMSE: 0.869102\n",
      "eval RMSE: 0.869102, {'colsample_bytree': 0.9, 'learning_rate': 0.02, 'max_delta_step': 10, 'max_depth': 7, 'min_child_weight': 0.0, 'subsample': 0.9, 'gamma': 0.001}\n",
      "| \u001b[0m 29      \u001b[0m | \u001b[0m-0.8691  \u001b[0m | \u001b[0m 0.9     \u001b[0m | \u001b[0m 0.02    \u001b[0m | \u001b[0m-3.0     \u001b[0m | \u001b[0m 10.0    \u001b[0m | \u001b[0m 7.0     \u001b[0m | \u001b[0m 0.0     \u001b[0m | \u001b[0m 0.9     \u001b[0m |\n",
      "N trees: 400, train RMSE: 0.819097, eval RMSE: 1.026406\n",
      "eval RMSE: 1.026406, {'colsample_bytree': 0.9, 'learning_rate': 0.02, 'max_delta_step': 2, 'max_depth': 7, 'min_child_weight': 0.0, 'subsample': 0.3, 'gamma': 10.0}\n",
      "| \u001b[0m 30      \u001b[0m | \u001b[0m-1.026   \u001b[0m | \u001b[0m 0.9     \u001b[0m | \u001b[0m 0.02    \u001b[0m | \u001b[0m 1.0     \u001b[0m | \u001b[0m 1.944   \u001b[0m | \u001b[0m 7.0     \u001b[0m | \u001b[0m 0.0     \u001b[0m | \u001b[0m 0.3     \u001b[0m |\n",
      "N trees: 400, train RMSE: 0.303308, eval RMSE: 0.779566\n",
      "eval RMSE: 0.779566, {'colsample_bytree': 0.3, 'learning_rate': 0.02, 'max_delta_step': 10, 'max_depth': 7, 'min_child_weight': 20.0, 'subsample': 0.9, 'gamma': 0.001}\n",
      "| \u001b[0m 31      \u001b[0m | \u001b[0m-0.7796  \u001b[0m | \u001b[0m 0.3     \u001b[0m | \u001b[0m 0.02    \u001b[0m | \u001b[0m-3.0     \u001b[0m | \u001b[0m 10.0    \u001b[0m | \u001b[0m 7.0     \u001b[0m | \u001b[0m 20.0    \u001b[0m | \u001b[0m 0.9     \u001b[0m |\n",
      "N trees: 400, train RMSE: 0.782709, eval RMSE: 0.914224\n",
      "eval RMSE: 0.914224, {'colsample_bytree': 0.9, 'learning_rate': 0.02, 'max_delta_step': 10, 'max_depth': 7, 'min_child_weight': 11.188854072191825, 'subsample': 0.9, 'gamma': 10.0}\n",
      "| \u001b[0m 32      \u001b[0m | \u001b[0m-0.9142  \u001b[0m | \u001b[0m 0.9     \u001b[0m | \u001b[0m 0.02    \u001b[0m | \u001b[0m 1.0     \u001b[0m | \u001b[0m 10.0    \u001b[0m | \u001b[0m 7.0     \u001b[0m | \u001b[0m 11.19   \u001b[0m | \u001b[0m 0.9     \u001b[0m |\n",
      "N trees: 400, train RMSE: 0.795021, eval RMSE: 0.996075\n",
      "eval RMSE: 0.996075, {'colsample_bytree': 0.9, 'learning_rate': 0.02, 'max_delta_step': 4, 'max_depth': 3, 'min_child_weight': 6.2260983659793325, 'subsample': 0.9, 'gamma': 10.0}\n",
      "| \u001b[0m 33      \u001b[0m | \u001b[0m-0.9961  \u001b[0m | \u001b[0m 0.9     \u001b[0m | \u001b[0m 0.02    \u001b[0m | \u001b[0m 1.0     \u001b[0m | \u001b[0m 4.219   \u001b[0m | \u001b[0m 3.0     \u001b[0m | \u001b[0m 6.226   \u001b[0m | \u001b[0m 0.9     \u001b[0m |\n",
      "N trees: 400, train RMSE: 0.415666, eval RMSE: 0.851001\n",
      "eval RMSE: 0.851001, {'colsample_bytree': 0.9, 'learning_rate': 0.06, 'max_delta_step': 10, 'max_depth': 3, 'min_child_weight': 15.53032789834324, 'subsample': 0.3, 'gamma': 0.001}\n",
      "| \u001b[0m 34      \u001b[0m | \u001b[0m-0.851   \u001b[0m | \u001b[0m 0.9     \u001b[0m | \u001b[0m 0.06    \u001b[0m | \u001b[0m-3.0     \u001b[0m | \u001b[0m 10.0    \u001b[0m | \u001b[0m 3.0     \u001b[0m | \u001b[0m 15.53   \u001b[0m | \u001b[0m 0.3     \u001b[0m |\n",
      "N trees: 400, train RMSE: 0.302242, eval RMSE: 0.768977\n",
      "eval RMSE: 0.768977, {'colsample_bytree': 0.9, 'learning_rate': 0.02, 'max_delta_step': 6, 'max_depth': 4, 'min_child_weight': 16.55701020493699, 'subsample': 0.9, 'gamma': 0.001}\n",
      "| \u001b[0m 35      \u001b[0m | \u001b[0m-0.769   \u001b[0m | \u001b[0m 0.9     \u001b[0m | \u001b[0m 0.02    \u001b[0m | \u001b[0m-3.0     \u001b[0m | \u001b[0m 5.578   \u001b[0m | \u001b[0m 4.473   \u001b[0m | \u001b[0m 16.56   \u001b[0m | \u001b[0m 0.9     \u001b[0m |\n",
      "N trees: 400, train RMSE: 0.85169, eval RMSE: 0.931331\n",
      "eval RMSE: 0.931331, {'colsample_bytree': 0.9, 'learning_rate': 0.06, 'max_delta_step': 2, 'max_depth': 5, 'min_child_weight': 15.566456302218555, 'subsample': 0.3, 'gamma': 10.0}\n",
      "| \u001b[0m 36      \u001b[0m | \u001b[0m-0.9313  \u001b[0m | \u001b[0m 0.9     \u001b[0m | \u001b[0m 0.06    \u001b[0m | \u001b[0m 1.0     \u001b[0m | \u001b[0m 2.333   \u001b[0m | \u001b[0m 5.189   \u001b[0m | \u001b[0m 15.57   \u001b[0m | \u001b[0m 0.3     \u001b[0m |\n",
      "N trees: 400, train RMSE: 0.56943, eval RMSE: 0.834823\n",
      "eval RMSE: 0.834823, {'colsample_bytree': 0.3, 'learning_rate': 0.06, 'max_delta_step': 7, 'max_depth': 6, 'min_child_weight': 18.32590088925505, 'subsample': 0.3, 'gamma': 0.001}\n",
      "| \u001b[0m 37      \u001b[0m | \u001b[0m-0.8348  \u001b[0m | \u001b[0m 0.3     \u001b[0m | \u001b[0m 0.06    \u001b[0m | \u001b[0m-3.0     \u001b[0m | \u001b[0m 7.46    \u001b[0m | \u001b[0m 5.826   \u001b[0m | \u001b[0m 18.33   \u001b[0m | \u001b[0m 0.3     \u001b[0m |\n",
      "N trees: 400, train RMSE: 0.413145, eval RMSE: 0.787349\n",
      "eval RMSE: 0.787349, {'colsample_bytree': 0.9, 'learning_rate': 0.02, 'max_delta_step': 0, 'max_depth': 3, 'min_child_weight': 20.0, 'subsample': 0.9, 'gamma': 0.001}\n",
      "| \u001b[0m 38      \u001b[0m | \u001b[0m-0.7873  \u001b[0m | \u001b[0m 0.9     \u001b[0m | \u001b[0m 0.02    \u001b[0m | \u001b[0m-3.0     \u001b[0m | \u001b[0m 0.0     \u001b[0m | \u001b[0m 3.0     \u001b[0m | \u001b[0m 20.0    \u001b[0m | \u001b[0m 0.9     \u001b[0m |\n",
      "N trees: 400, train RMSE: 0.030349, eval RMSE: 0.914186\n",
      "eval RMSE: 0.914186, {'colsample_bytree': 0.9, 'learning_rate': 0.06, 'max_delta_step': 0, 'max_depth': 3, 'min_child_weight': 7.774130272717417, 'subsample': 0.9, 'gamma': 0.001}\n",
      "| \u001b[0m 39      \u001b[0m | \u001b[0m-0.9142  \u001b[0m | \u001b[0m 0.9     \u001b[0m | \u001b[0m 0.06    \u001b[0m | \u001b[0m-3.0     \u001b[0m | \u001b[0m 0.0     \u001b[0m | \u001b[0m 3.0     \u001b[0m | \u001b[0m 7.774   \u001b[0m | \u001b[0m 0.9     \u001b[0m |\n",
      "N trees: 400, train RMSE: 0.413145, eval RMSE: 0.787349\n",
      "eval RMSE: 0.787349, {'colsample_bytree': 0.9, 'learning_rate': 0.02, 'max_delta_step': 4, 'max_depth': 3, 'min_child_weight': 20.0, 'subsample': 0.9, 'gamma': 0.001}\n",
      "| \u001b[0m 40      \u001b[0m | \u001b[0m-0.7873  \u001b[0m | \u001b[0m 0.9     \u001b[0m | \u001b[0m 0.02    \u001b[0m | \u001b[0m-3.0     \u001b[0m | \u001b[0m 3.629   \u001b[0m | \u001b[0m 3.0     \u001b[0m | \u001b[0m 20.0    \u001b[0m | \u001b[0m 0.9     \u001b[0m |\n",
      "=============================================================================================================\n"
     ]
    }
   ],
   "source": [
    "with warnings.catch_warnings():\n",
    "    warnings.filterwarnings('ignore')\n",
    "    xgb_bayes.maximize(init_points=15, n_iter=25)"
   ]
  },
  {
   "cell_type": "code",
   "execution_count": 86,
   "metadata": {},
   "outputs": [],
   "source": [
    "best_params = xgb_bayes.max['params']\n",
    "xgb_params = bo_result_to_xgb(best_params)"
   ]
  },
  {
   "cell_type": "code",
   "execution_count": 87,
   "metadata": {},
   "outputs": [
    {
     "data": {
      "text/plain": [
       "{'colsample_bytree': 0.9,\n",
       " 'learning_rate': 0.06,\n",
       " 'max_delta_step': 6,\n",
       " 'max_depth': 7,\n",
       " 'min_child_weight': 20.0,\n",
       " 'subsample': 0.9,\n",
       " 'gamma': 0.001}"
      ]
     },
     "execution_count": 87,
     "metadata": {},
     "output_type": "execute_result"
    }
   ],
   "source": [
    "xgb_params"
   ]
  },
  {
   "cell_type": "code",
   "execution_count": 201,
   "metadata": {},
   "outputs": [],
   "source": [
    "# clf = xgb.XGBRegressor(booster='dart', learning_rate=0.04, n_estimators=400, subsample=0.3, colsample_bytree=0.35, max_depth=3)"
   ]
  },
  {
   "cell_type": "code",
   "execution_count": 88,
   "metadata": {},
   "outputs": [],
   "source": [
    "clf = xgb.XGBRegressor(booster='gbtree', n_estimators=400, verbosity=0, n_jobs=16, seed=42,\n",
    "                            reg_alpha=0.1, reg_lambda=0.1, **xgb_params)"
   ]
  },
  {
   "cell_type": "code",
   "execution_count": 89,
   "metadata": {},
   "outputs": [
    {
     "name": "stdout",
     "output_type": "stream",
     "text": [
      "[0]\tvalidation_0-rmse:1.48941\n",
      "[20]\tvalidation_0-rmse:1.01156\n",
      "[40]\tvalidation_0-rmse:0.818318\n",
      "[60]\tvalidation_0-rmse:0.761551\n",
      "[80]\tvalidation_0-rmse:0.733081\n",
      "[100]\tvalidation_0-rmse:0.754318\n",
      "[120]\tvalidation_0-rmse:0.732402\n",
      "[140]\tvalidation_0-rmse:0.7363\n",
      "[160]\tvalidation_0-rmse:0.743342\n",
      "[180]\tvalidation_0-rmse:0.734701\n",
      "[200]\tvalidation_0-rmse:0.729753\n",
      "[220]\tvalidation_0-rmse:0.732188\n",
      "[240]\tvalidation_0-rmse:0.728837\n",
      "[260]\tvalidation_0-rmse:0.7264\n",
      "[280]\tvalidation_0-rmse:0.726965\n",
      "[300]\tvalidation_0-rmse:0.725898\n",
      "[320]\tvalidation_0-rmse:0.727147\n",
      "[340]\tvalidation_0-rmse:0.725759\n",
      "[360]\tvalidation_0-rmse:0.724078\n",
      "[380]\tvalidation_0-rmse:0.724918\n",
      "[399]\tvalidation_0-rmse:0.725349\n"
     ]
    },
    {
     "data": {
      "text/plain": [
       "XGBRegressor(base_score=0.5, booster='gbtree', colsample_bylevel=1,\n",
       "       colsample_bytree=0.9, gamma=0.001, learning_rate=0.06,\n",
       "       max_delta_step=6, max_depth=7, min_child_weight=20.0, missing=None,\n",
       "       n_estimators=400, n_jobs=16, nthread=None, objective='reg:linear',\n",
       "       random_state=0, reg_alpha=0.1, reg_lambda=0.1, scale_pos_weight=1,\n",
       "       seed=42, silent=True, subsample=0.9, verbosity=0)"
      ]
     },
     "execution_count": 89,
     "metadata": {},
     "output_type": "execute_result"
    }
   ],
   "source": [
    "clf.fit(x_train, y_train, eval_set=[(x_eval, y_eval)], eval_metric='rmse', verbose=20)"
   ]
  },
  {
   "cell_type": "code",
   "execution_count": 203,
   "metadata": {},
   "outputs": [],
   "source": [
    "y_pred_eval = clf.predict(x_eval)\n",
    "y_pred_eval = pd.Series(y_pred_eval, index=y_eval.index)"
   ]
  },
  {
   "cell_type": "code",
   "execution_count": 204,
   "metadata": {},
   "outputs": [
    {
     "data": {
      "text/plain": [
       "1.172432708131372"
      ]
     },
     "execution_count": 204,
     "metadata": {},
     "output_type": "execute_result"
    }
   ],
   "source": [
    "rmse(y_pred_eval - y_eval)"
   ]
  },
  {
   "cell_type": "code",
   "execution_count": 205,
   "metadata": {},
   "outputs": [],
   "source": [
    "y_test_eval = clf.predict(x_test)\n",
    "y_test_eval = pd.Series(y_test_eval, index=y_test.index)"
   ]
  },
  {
   "cell_type": "code",
   "execution_count": 206,
   "metadata": {},
   "outputs": [
    {
     "data": {
      "text/plain": [
       "1.5934879159175075"
      ]
     },
     "execution_count": 206,
     "metadata": {},
     "output_type": "execute_result"
    }
   ],
   "source": [
    "rmse(y_test - y_test_eval)"
   ]
  },
  {
   "cell_type": "code",
   "execution_count": null,
   "metadata": {},
   "outputs": [],
   "source": []
  }
 ],
 "metadata": {
  "kernelspec": {
   "display_name": "Python 3",
   "language": "python",
   "name": "python3"
  },
  "language_info": {
   "codemirror_mode": {
    "name": "ipython",
    "version": 3
   },
   "file_extension": ".py",
   "mimetype": "text/x-python",
   "name": "python",
   "nbconvert_exporter": "python",
   "pygments_lexer": "ipython3",
   "version": "3.6.8"
  }
 },
 "nbformat": 4,
 "nbformat_minor": 2
}
