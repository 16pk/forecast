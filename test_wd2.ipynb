{
 "cells": [
  {
   "cell_type": "code",
   "execution_count": 1,
   "metadata": {},
   "outputs": [],
   "source": [
    "import numpy as np\n",
    "import pandas as pd\n",
    "from datetime import datetime, timedelta\n",
    "import warnings\n",
    "from collections import defaultdict"
   ]
  },
  {
   "cell_type": "code",
   "execution_count": 2,
   "metadata": {},
   "outputs": [],
   "source": [
    "import xgboost as xgb"
   ]
  },
  {
   "cell_type": "code",
   "execution_count": 3,
   "metadata": {},
   "outputs": [],
   "source": [
    "import matplotlib.pyplot as plt\n",
    "%matplotlib inline"
   ]
  },
  {
   "cell_type": "code",
   "execution_count": 4,
   "metadata": {},
   "outputs": [],
   "source": [
    "from src.apis import load_awos_by_point, load_ec_by_airport, load_wrf_by_airport\n",
    "from src.model_opt import get_best_params_by_bo"
   ]
  },
  {
   "cell_type": "code",
   "execution_count": 5,
   "metadata": {},
   "outputs": [],
   "source": [
    "airport = 'ZBAA'"
   ]
  },
  {
   "cell_type": "code",
   "execution_count": 37,
   "metadata": {},
   "outputs": [],
   "source": [
    "site = '01'"
   ]
  },
  {
   "cell_type": "code",
   "execution_count": 38,
   "metadata": {},
   "outputs": [],
   "source": [
    "start_time = datetime(2018, 11, 2)\n",
    "end_time = datetime(2019, 3, 1)"
   ]
  },
  {
   "cell_type": "code",
   "execution_count": 39,
   "metadata": {},
   "outputs": [],
   "source": [
    "df_wrf = load_wrf_by_airport(site, start_time-timedelta(hours=12), end_time-timedelta(hours=12), start_point=12)"
   ]
  },
  {
   "cell_type": "code",
   "execution_count": 40,
   "metadata": {},
   "outputs": [],
   "source": [
    "obs_df = load_awos_by_point(airport, site, start_time, end_time=end_time)"
   ]
  },
  {
   "cell_type": "code",
   "execution_count": 46,
   "metadata": {},
   "outputs": [
    {
     "data": {
      "text/html": [
       "<div>\n",
       "<style>\n",
       "    .dataframe thead tr:only-child th {\n",
       "        text-align: right;\n",
       "    }\n",
       "\n",
       "    .dataframe thead th {\n",
       "        text-align: left;\n",
       "    }\n",
       "\n",
       "    .dataframe tbody tr th {\n",
       "        vertical-align: top;\n",
       "    }\n",
       "</style>\n",
       "<table border=\"1\" class=\"dataframe\">\n",
       "  <thead>\n",
       "    <tr style=\"text-align: right;\">\n",
       "      <th></th>\n",
       "      <th>obs_wd</th>\n",
       "      <th>obs_ws</th>\n",
       "    </tr>\n",
       "  </thead>\n",
       "  <tbody>\n",
       "    <tr>\n",
       "      <th>2018-11-02 00:00:00</th>\n",
       "      <td>351.0</td>\n",
       "      <td>3.64</td>\n",
       "    </tr>\n",
       "    <tr>\n",
       "      <th>2018-11-02 01:00:00</th>\n",
       "      <td>348.0</td>\n",
       "      <td>2.18</td>\n",
       "    </tr>\n",
       "    <tr>\n",
       "      <th>2018-11-02 02:00:00</th>\n",
       "      <td>345.0</td>\n",
       "      <td>3.23</td>\n",
       "    </tr>\n",
       "    <tr>\n",
       "      <th>2018-11-02 03:00:00</th>\n",
       "      <td>336.0</td>\n",
       "      <td>2.20</td>\n",
       "    </tr>\n",
       "    <tr>\n",
       "      <th>2018-11-02 04:00:00</th>\n",
       "      <td>333.0</td>\n",
       "      <td>2.21</td>\n",
       "    </tr>\n",
       "  </tbody>\n",
       "</table>\n",
       "</div>"
      ],
      "text/plain": [
       "                     obs_wd  obs_ws\n",
       "2018-11-02 00:00:00   351.0    3.64\n",
       "2018-11-02 01:00:00   348.0    2.18\n",
       "2018-11-02 02:00:00   345.0    3.23\n",
       "2018-11-02 03:00:00   336.0    2.20\n",
       "2018-11-02 04:00:00   333.0    2.21"
      ]
     },
     "execution_count": 46,
     "metadata": {},
     "output_type": "execute_result"
    }
   ],
   "source": [
    "obs_df.head()"
   ]
  },
  {
   "cell_type": "code",
   "execution_count": 41,
   "metadata": {},
   "outputs": [],
   "source": [
    "def pivot_arr_by_date(arr, tag):\n",
    "    meta_df = arr.to_frame(name='obs')\n",
    "    meta_df['date'] = arr.index.floor('d')\n",
    "    meta_df['hour'] = arr.index.hour\n",
    "    new_df = meta_df.pivot(columns='hour', index='date', values='obs')\n",
    "    yesterday_df = new_df.copy()\n",
    "    yesterday_df.index = yesterday_df.index + timedelta(days=1)\n",
    "    yesterday_df.columns = [x - 24 for x in yesterday_df.columns]\n",
    "    obs_mat = pd.concat([yesterday_df, new_df], axis=1)\n",
    "    obs_mat.columns = [f'obs_{tag}.{x}' for x in obs_mat.columns]\n",
    "    return obs_mat"
   ]
  },
  {
   "cell_type": "code",
   "execution_count": 42,
   "metadata": {},
   "outputs": [],
   "source": [
    "obs_wd_mat = pivot_arr_by_date(obs_df['obs_wd'], 'wd')"
   ]
  },
  {
   "cell_type": "code",
   "execution_count": 43,
   "metadata": {},
   "outputs": [],
   "source": [
    "raw_data = pd.concat([obs_wd_mat, df_ec], axis=1)"
   ]
  },
  {
   "cell_type": "markdown",
   "metadata": {},
   "source": [
    "### 特征加工"
   ]
  },
  {
   "cell_type": "code",
   "execution_count": 44,
   "metadata": {},
   "outputs": [
    {
     "data": {
      "text/plain": [
       "count    119.000000\n",
       "mean     226.075630\n",
       "std      141.829759\n",
       "min        1.000000\n",
       "25%       44.500000\n",
       "50%      311.000000\n",
       "75%      341.000000\n",
       "max      358.000000\n",
       "Name: obs_wd.3, dtype: float64"
      ]
     },
     "execution_count": 44,
     "metadata": {},
     "output_type": "execute_result"
    }
   ],
   "source": [
    "raw_data['obs_wd.3'].describe()"
   ]
  },
  {
   "cell_type": "code",
   "execution_count": 45,
   "metadata": {},
   "outputs": [
    {
     "data": {
      "text/plain": [
       "count    119.000000\n",
       "mean     198.202045\n",
       "std      122.114227\n",
       "min        1.657090\n",
       "25%       77.290275\n",
       "50%      196.855900\n",
       "75%      318.426300\n",
       "max      354.570310\n",
       "Name: DIR10.3, dtype: float64"
      ]
     },
     "execution_count": 45,
     "metadata": {},
     "output_type": "execute_result"
    }
   ],
   "source": [
    "raw_data['DIR10.3'].describe()"
   ]
  },
  {
   "cell_type": "code",
   "execution_count": 34,
   "metadata": {},
   "outputs": [
    {
     "data": {
      "text/html": [
       "<div>\n",
       "<style>\n",
       "    .dataframe thead tr:only-child th {\n",
       "        text-align: right;\n",
       "    }\n",
       "\n",
       "    .dataframe thead th {\n",
       "        text-align: left;\n",
       "    }\n",
       "\n",
       "    .dataframe tbody tr th {\n",
       "        vertical-align: top;\n",
       "    }\n",
       "</style>\n",
       "<table border=\"1\" class=\"dataframe\">\n",
       "  <thead>\n",
       "    <tr style=\"text-align: right;\">\n",
       "      <th></th>\n",
       "      <th>obs_wd.3</th>\n",
       "      <th>DIR10.3</th>\n",
       "    </tr>\n",
       "    <tr>\n",
       "      <th>date</th>\n",
       "      <th></th>\n",
       "      <th></th>\n",
       "    </tr>\n",
       "  </thead>\n",
       "  <tbody>\n",
       "    <tr>\n",
       "      <th>2018-11-02</th>\n",
       "      <td>352.0</td>\n",
       "      <td>97.24548</td>\n",
       "    </tr>\n",
       "    <tr>\n",
       "      <th>2018-11-03</th>\n",
       "      <td>357.0</td>\n",
       "      <td>130.61084</td>\n",
       "    </tr>\n",
       "    <tr>\n",
       "      <th>2018-11-04</th>\n",
       "      <td>10.0</td>\n",
       "      <td>318.53870</td>\n",
       "    </tr>\n",
       "    <tr>\n",
       "      <th>2018-11-05</th>\n",
       "      <td>333.0</td>\n",
       "      <td>76.97540</td>\n",
       "    </tr>\n",
       "    <tr>\n",
       "      <th>2018-11-06</th>\n",
       "      <td>347.0</td>\n",
       "      <td>25.02905</td>\n",
       "    </tr>\n",
       "    <tr>\n",
       "      <th>2018-11-07</th>\n",
       "      <td>1.0</td>\n",
       "      <td>217.52946</td>\n",
       "    </tr>\n",
       "    <tr>\n",
       "      <th>2018-11-08</th>\n",
       "      <td>352.0</td>\n",
       "      <td>75.81147</td>\n",
       "    </tr>\n",
       "    <tr>\n",
       "      <th>2018-11-09</th>\n",
       "      <td>340.0</td>\n",
       "      <td>321.38275</td>\n",
       "    </tr>\n",
       "    <tr>\n",
       "      <th>2018-11-10</th>\n",
       "      <td>345.0</td>\n",
       "      <td>45.67772</td>\n",
       "    </tr>\n",
       "    <tr>\n",
       "      <th>2018-11-11</th>\n",
       "      <td>23.0</td>\n",
       "      <td>166.78967</td>\n",
       "    </tr>\n",
       "    <tr>\n",
       "      <th>2018-11-12</th>\n",
       "      <td>5.0</td>\n",
       "      <td>77.60515</td>\n",
       "    </tr>\n",
       "    <tr>\n",
       "      <th>2018-11-13</th>\n",
       "      <td>13.0</td>\n",
       "      <td>90.13879</td>\n",
       "    </tr>\n",
       "    <tr>\n",
       "      <th>2018-11-14</th>\n",
       "      <td>4.0</td>\n",
       "      <td>110.25763</td>\n",
       "    </tr>\n",
       "    <tr>\n",
       "      <th>2018-11-15</th>\n",
       "      <td>331.0</td>\n",
       "      <td>352.80807</td>\n",
       "    </tr>\n",
       "    <tr>\n",
       "      <th>2018-11-16</th>\n",
       "      <td>292.0</td>\n",
       "      <td>335.66602</td>\n",
       "    </tr>\n",
       "    <tr>\n",
       "      <th>2018-11-17</th>\n",
       "      <td>114.0</td>\n",
       "      <td>168.29080</td>\n",
       "    </tr>\n",
       "    <tr>\n",
       "      <th>2018-11-18</th>\n",
       "      <td>360.0</td>\n",
       "      <td>293.80493</td>\n",
       "    </tr>\n",
       "    <tr>\n",
       "      <th>2018-11-19</th>\n",
       "      <td>38.0</td>\n",
       "      <td>96.87906</td>\n",
       "    </tr>\n",
       "    <tr>\n",
       "      <th>2018-11-20</th>\n",
       "      <td>19.0</td>\n",
       "      <td>342.00403</td>\n",
       "    </tr>\n",
       "    <tr>\n",
       "      <th>2018-11-21</th>\n",
       "      <td>20.0</td>\n",
       "      <td>300.05609</td>\n",
       "    </tr>\n",
       "    <tr>\n",
       "      <th>2018-11-22</th>\n",
       "      <td>329.0</td>\n",
       "      <td>109.31988</td>\n",
       "    </tr>\n",
       "    <tr>\n",
       "      <th>2018-11-23</th>\n",
       "      <td>22.0</td>\n",
       "      <td>46.44513</td>\n",
       "    </tr>\n",
       "    <tr>\n",
       "      <th>2018-11-24</th>\n",
       "      <td>324.0</td>\n",
       "      <td>238.05370</td>\n",
       "    </tr>\n",
       "    <tr>\n",
       "      <th>2018-11-25</th>\n",
       "      <td>165.0</td>\n",
       "      <td>27.69312</td>\n",
       "    </tr>\n",
       "    <tr>\n",
       "      <th>2018-11-26</th>\n",
       "      <td>333.0</td>\n",
       "      <td>53.84091</td>\n",
       "    </tr>\n",
       "    <tr>\n",
       "      <th>2018-11-27</th>\n",
       "      <td>99.0</td>\n",
       "      <td>331.50122</td>\n",
       "    </tr>\n",
       "    <tr>\n",
       "      <th>2018-11-28</th>\n",
       "      <td>315.0</td>\n",
       "      <td>69.46935</td>\n",
       "    </tr>\n",
       "    <tr>\n",
       "      <th>2018-11-29</th>\n",
       "      <td>43.0</td>\n",
       "      <td>96.54107</td>\n",
       "    </tr>\n",
       "    <tr>\n",
       "      <th>2018-11-30</th>\n",
       "      <td>358.0</td>\n",
       "      <td>125.19144</td>\n",
       "    </tr>\n",
       "    <tr>\n",
       "      <th>2018-12-01</th>\n",
       "      <td>339.0</td>\n",
       "      <td>118.79178</td>\n",
       "    </tr>\n",
       "    <tr>\n",
       "      <th>...</th>\n",
       "      <td>...</td>\n",
       "      <td>...</td>\n",
       "    </tr>\n",
       "    <tr>\n",
       "      <th>2019-01-31</th>\n",
       "      <td>342.0</td>\n",
       "      <td>309.33075</td>\n",
       "    </tr>\n",
       "    <tr>\n",
       "      <th>2019-02-01</th>\n",
       "      <td>2.0</td>\n",
       "      <td>253.49347</td>\n",
       "    </tr>\n",
       "    <tr>\n",
       "      <th>2019-02-02</th>\n",
       "      <td>339.0</td>\n",
       "      <td>141.67119</td>\n",
       "    </tr>\n",
       "    <tr>\n",
       "      <th>2019-02-03</th>\n",
       "      <td>8.0</td>\n",
       "      <td>330.87280</td>\n",
       "    </tr>\n",
       "    <tr>\n",
       "      <th>2019-02-04</th>\n",
       "      <td>310.0</td>\n",
       "      <td>117.77739</td>\n",
       "    </tr>\n",
       "    <tr>\n",
       "      <th>2019-02-05</th>\n",
       "      <td>47.0</td>\n",
       "      <td>123.61206</td>\n",
       "    </tr>\n",
       "    <tr>\n",
       "      <th>2019-02-06</th>\n",
       "      <td>331.0</td>\n",
       "      <td>196.85590</td>\n",
       "    </tr>\n",
       "    <tr>\n",
       "      <th>2019-02-07</th>\n",
       "      <td>8.0</td>\n",
       "      <td>336.05896</td>\n",
       "    </tr>\n",
       "    <tr>\n",
       "      <th>2019-02-08</th>\n",
       "      <td>5.0</td>\n",
       "      <td>173.54576</td>\n",
       "    </tr>\n",
       "    <tr>\n",
       "      <th>2019-02-09</th>\n",
       "      <td>332.0</td>\n",
       "      <td>320.05902</td>\n",
       "    </tr>\n",
       "    <tr>\n",
       "      <th>2019-02-10</th>\n",
       "      <td>8.0</td>\n",
       "      <td>53.75012</td>\n",
       "    </tr>\n",
       "    <tr>\n",
       "      <th>2019-02-11</th>\n",
       "      <td>338.0</td>\n",
       "      <td>343.05688</td>\n",
       "    </tr>\n",
       "    <tr>\n",
       "      <th>2019-02-12</th>\n",
       "      <td>51.0</td>\n",
       "      <td>100.79691</td>\n",
       "    </tr>\n",
       "    <tr>\n",
       "      <th>2019-02-13</th>\n",
       "      <td>143.0</td>\n",
       "      <td>37.56859</td>\n",
       "    </tr>\n",
       "    <tr>\n",
       "      <th>2019-02-14</th>\n",
       "      <td>357.0</td>\n",
       "      <td>173.62364</td>\n",
       "    </tr>\n",
       "    <tr>\n",
       "      <th>2019-02-15</th>\n",
       "      <td>346.0</td>\n",
       "      <td>309.57495</td>\n",
       "    </tr>\n",
       "    <tr>\n",
       "      <th>2019-02-16</th>\n",
       "      <td>344.0</td>\n",
       "      <td>316.51935</td>\n",
       "    </tr>\n",
       "    <tr>\n",
       "      <th>2019-02-17</th>\n",
       "      <td>79.0</td>\n",
       "      <td>325.63367</td>\n",
       "    </tr>\n",
       "    <tr>\n",
       "      <th>2019-02-18</th>\n",
       "      <td>339.0</td>\n",
       "      <td>101.73635</td>\n",
       "    </tr>\n",
       "    <tr>\n",
       "      <th>2019-02-19</th>\n",
       "      <td>351.0</td>\n",
       "      <td>295.25360</td>\n",
       "    </tr>\n",
       "    <tr>\n",
       "      <th>2019-02-20</th>\n",
       "      <td>68.0</td>\n",
       "      <td>353.98956</td>\n",
       "    </tr>\n",
       "    <tr>\n",
       "      <th>2019-02-21</th>\n",
       "      <td>17.0</td>\n",
       "      <td>307.08835</td>\n",
       "    </tr>\n",
       "    <tr>\n",
       "      <th>2019-02-22</th>\n",
       "      <td>319.0</td>\n",
       "      <td>53.03261</td>\n",
       "    </tr>\n",
       "    <tr>\n",
       "      <th>2019-02-23</th>\n",
       "      <td>2.0</td>\n",
       "      <td>138.47549</td>\n",
       "    </tr>\n",
       "    <tr>\n",
       "      <th>2019-02-24</th>\n",
       "      <td>301.0</td>\n",
       "      <td>34.03300</td>\n",
       "    </tr>\n",
       "    <tr>\n",
       "      <th>2019-02-25</th>\n",
       "      <td>356.0</td>\n",
       "      <td>50.82698</td>\n",
       "    </tr>\n",
       "    <tr>\n",
       "      <th>2019-02-26</th>\n",
       "      <td>12.0</td>\n",
       "      <td>146.90897</td>\n",
       "    </tr>\n",
       "    <tr>\n",
       "      <th>2019-02-27</th>\n",
       "      <td>15.0</td>\n",
       "      <td>16.75739</td>\n",
       "    </tr>\n",
       "    <tr>\n",
       "      <th>2019-02-28</th>\n",
       "      <td>360.0</td>\n",
       "      <td>37.55186</td>\n",
       "    </tr>\n",
       "    <tr>\n",
       "      <th>2019-03-01</th>\n",
       "      <td>NaN</td>\n",
       "      <td>NaN</td>\n",
       "    </tr>\n",
       "  </tbody>\n",
       "</table>\n",
       "<p>120 rows × 2 columns</p>\n",
       "</div>"
      ],
      "text/plain": [
       "            obs_wd.3    DIR10.3\n",
       "date                           \n",
       "2018-11-02     352.0   97.24548\n",
       "2018-11-03     357.0  130.61084\n",
       "2018-11-04      10.0  318.53870\n",
       "2018-11-05     333.0   76.97540\n",
       "2018-11-06     347.0   25.02905\n",
       "2018-11-07       1.0  217.52946\n",
       "2018-11-08     352.0   75.81147\n",
       "2018-11-09     340.0  321.38275\n",
       "2018-11-10     345.0   45.67772\n",
       "2018-11-11      23.0  166.78967\n",
       "2018-11-12       5.0   77.60515\n",
       "2018-11-13      13.0   90.13879\n",
       "2018-11-14       4.0  110.25763\n",
       "2018-11-15     331.0  352.80807\n",
       "2018-11-16     292.0  335.66602\n",
       "2018-11-17     114.0  168.29080\n",
       "2018-11-18     360.0  293.80493\n",
       "2018-11-19      38.0   96.87906\n",
       "2018-11-20      19.0  342.00403\n",
       "2018-11-21      20.0  300.05609\n",
       "2018-11-22     329.0  109.31988\n",
       "2018-11-23      22.0   46.44513\n",
       "2018-11-24     324.0  238.05370\n",
       "2018-11-25     165.0   27.69312\n",
       "2018-11-26     333.0   53.84091\n",
       "2018-11-27      99.0  331.50122\n",
       "2018-11-28     315.0   69.46935\n",
       "2018-11-29      43.0   96.54107\n",
       "2018-11-30     358.0  125.19144\n",
       "2018-12-01     339.0  118.79178\n",
       "...              ...        ...\n",
       "2019-01-31     342.0  309.33075\n",
       "2019-02-01       2.0  253.49347\n",
       "2019-02-02     339.0  141.67119\n",
       "2019-02-03       8.0  330.87280\n",
       "2019-02-04     310.0  117.77739\n",
       "2019-02-05      47.0  123.61206\n",
       "2019-02-06     331.0  196.85590\n",
       "2019-02-07       8.0  336.05896\n",
       "2019-02-08       5.0  173.54576\n",
       "2019-02-09     332.0  320.05902\n",
       "2019-02-10       8.0   53.75012\n",
       "2019-02-11     338.0  343.05688\n",
       "2019-02-12      51.0  100.79691\n",
       "2019-02-13     143.0   37.56859\n",
       "2019-02-14     357.0  173.62364\n",
       "2019-02-15     346.0  309.57495\n",
       "2019-02-16     344.0  316.51935\n",
       "2019-02-17      79.0  325.63367\n",
       "2019-02-18     339.0  101.73635\n",
       "2019-02-19     351.0  295.25360\n",
       "2019-02-20      68.0  353.98956\n",
       "2019-02-21      17.0  307.08835\n",
       "2019-02-22     319.0   53.03261\n",
       "2019-02-23       2.0  138.47549\n",
       "2019-02-24     301.0   34.03300\n",
       "2019-02-25     356.0   50.82698\n",
       "2019-02-26      12.0  146.90897\n",
       "2019-02-27      15.0   16.75739\n",
       "2019-02-28     360.0   37.55186\n",
       "2019-03-01       NaN        NaN\n",
       "\n",
       "[120 rows x 2 columns]"
      ]
     },
     "execution_count": 34,
     "metadata": {},
     "output_type": "execute_result"
    }
   ],
   "source": [
    "raw_data[['obs_wd.3', 'DIR10.3']]"
   ]
  },
  {
   "cell_type": "code",
   "execution_count": 25,
   "metadata": {},
   "outputs": [],
   "source": [
    "# 风向，湿球温度与气温差值，预报风速误差\n",
    "for idx in range(-12, 24):\n",
    "    raw_data[f'rh_delta.{idx}'] = raw_data[f'T2.{idx}'] - raw_data[f'TD2.{idx}']\n",
    "    raw_data[f'bias.{idx}'] = (raw_data[f'obs_wd.{idx}'] - raw_data[f'DIR10.{idx}'] + 180) % 360 - 180"
   ]
  },
  {
   "cell_type": "code",
   "execution_count": 26,
   "metadata": {},
   "outputs": [],
   "source": [
    "# 气压变，温度变，风速变，风向变\n",
    "for idx in range(0, 24):\n",
    "    for span in (1, 3, 6, 12):\n",
    "        raw_data[f'PSFC_{span}d.{idx}'] = raw_data[f'PSFC.{idx}'] - raw_data[f'PSFC.{idx-span}']\n",
    "        raw_data[f'T2_{span}d.{idx}'] = raw_data[f'T2.{idx}'] - raw_data[f'T2.{idx-span}']\n",
    "        raw_data[f'SPD10_{span}d.{idx}'] = raw_data[f'SPD10.{idx}'] - raw_data[f'SPD10.{idx-span}']\n",
    "        raw_data[f'wd_{span}d.{idx}'] = (raw_data[f'DIR10.{idx}'] - raw_data[f'DIR10.{idx-span}'] + 180) % 360 - 180"
   ]
  },
  {
   "cell_type": "code",
   "execution_count": 27,
   "metadata": {},
   "outputs": [],
   "source": [
    "is_train = raw_data.index <= datetime(2019, 2, 1)\n",
    "is_eval = raw_data.index > datetime(2019, 2, 1)"
   ]
  },
  {
   "cell_type": "code",
   "execution_count": 28,
   "metadata": {},
   "outputs": [
    {
     "data": {
      "text/plain": [
       "(92, 28)"
      ]
     },
     "execution_count": 28,
     "metadata": {},
     "output_type": "execute_result"
    }
   ],
   "source": [
    "is_train.sum(), is_eval.sum()"
   ]
  },
  {
   "cell_type": "markdown",
   "metadata": {},
   "source": [
    "### 训练模型"
   ]
  },
  {
   "cell_type": "code",
   "execution_count": 29,
   "metadata": {},
   "outputs": [],
   "source": [
    "def rmse(y_arr):\n",
    "    return np.sqrt((y_arr ** 2).mean())"
   ]
  },
  {
   "cell_type": "code",
   "execution_count": 30,
   "metadata": {},
   "outputs": [],
   "source": [
    "fc_hr = 6"
   ]
  },
  {
   "cell_type": "code",
   "execution_count": 31,
   "metadata": {},
   "outputs": [],
   "source": [
    "feat_list = [f'U10.{x}' for x in range(-12, 24)] + [f'V10.{x}' for x in range(-12, 24)] + \\\n",
    "    [f'bias.{x}' for x in range(-12, 0)] + [f'SPD10.{x}' for x in range(-12, 24)] + \\\n",
    "    [f'DIR10.{x}' for x in range(-12, 24)] + \\\n",
    "    [f'rh_delta.{x}' for x in range(-12, 24)] + \\\n",
    "    [f'PSFC_{span}d.{fc_hr}' for span in (1, 3, 6, 12)] + [f'T2_{span}d.{fc_hr}' for span in (1, 3, 6, 12)] + \\\n",
    "    [f'SPD10_{span}d.{fc_hr}' for span in (1, 3, 6, 12)] + [f'DIR10_{span}d.{fc_hr}' for span in (1, 3, 6, 12)]\n",
    "x_train = raw_data.loc[is_train, feat_list]\n",
    "x_eval = raw_data.loc[is_eval, feat_list]\n",
    "y_train = raw_data.loc[is_train, f'bias.{fc_hr}']\n",
    "y_eval = raw_data.loc[is_eval, f'bias.{fc_hr}']"
   ]
  },
  {
   "cell_type": "code",
   "execution_count": 32,
   "metadata": {},
   "outputs": [],
   "source": [
    "clf = xgb.XGBRegressor(booster='gbtree', learning_rate=0.04, n_estimators=300, verbosity=0, n_jobs=16, seed=42,\n",
    "                       reg_alpha=0.1, reg_lambda=0.1, colsample_bytree=0.6, max_depth=6, subsample=0.5)\n",
    "clf.fit(x_train, y_train)\n",
    "y_pred_eval = clf.predict(x_eval)\n",
    "y_pred_eval = pd.Series(y_pred_eval, index=x_eval.index)\n",
    "# pred_one = yhat + x_eval[f'SPD10.{fc_hr}']\n",
    "# pred_one.index = pred_one.index + timedelta(hours=fc_hr)\n",
    "# pred_one.loc[pred_one < 0.52] = 0.52\n",
    "# pred_list.append(pred_one)"
   ]
  },
  {
   "cell_type": "code",
   "execution_count": 33,
   "metadata": {},
   "outputs": [
    {
     "data": {
      "text/plain": [
       "(115.20649171574216, 129.20999995613641)"
      ]
     },
     "execution_count": 33,
     "metadata": {},
     "output_type": "execute_result"
    }
   ],
   "source": [
    "rmse(y_eval), rmse(y_pred_eval - y_eval)"
   ]
  },
  {
   "cell_type": "code",
   "execution_count": null,
   "metadata": {},
   "outputs": [],
   "source": []
  }
 ],
 "metadata": {
  "kernelspec": {
   "display_name": "Python 3",
   "language": "python",
   "name": "python3"
  },
  "language_info": {
   "codemirror_mode": {
    "name": "ipython",
    "version": 3
   },
   "file_extension": ".py",
   "mimetype": "text/x-python",
   "name": "python",
   "nbconvert_exporter": "python",
   "pygments_lexer": "ipython3",
   "version": "3.6.8"
  }
 },
 "nbformat": 4,
 "nbformat_minor": 2
}
