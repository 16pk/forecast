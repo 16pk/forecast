{
 "cells": [
  {
   "cell_type": "code",
   "execution_count": 1,
   "metadata": {},
   "outputs": [],
   "source": [
    "import numpy as np\n",
    "import pandas as pd\n",
    "from datetime import datetime, timedelta\n",
    "import warnings\n",
    "from collections import defaultdict"
   ]
  },
  {
   "cell_type": "code",
   "execution_count": 2,
   "metadata": {},
   "outputs": [],
   "source": [
    "import xgboost as xgb"
   ]
  },
  {
   "cell_type": "code",
   "execution_count": 3,
   "metadata": {},
   "outputs": [],
   "source": [
    "import matplotlib.pyplot as plt\n",
    "%matplotlib inline"
   ]
  },
  {
   "cell_type": "code",
   "execution_count": 4,
   "metadata": {},
   "outputs": [],
   "source": [
    "from src.apis import load_awos_by_point, load_ec_by_airport, load_wrf_by_airport\n",
    "from src.model_opt import get_best_params_by_bo"
   ]
  },
  {
   "cell_type": "code",
   "execution_count": 5,
   "metadata": {},
   "outputs": [],
   "source": [
    "airport = 'ZBAA'"
   ]
  },
  {
   "cell_type": "code",
   "execution_count": 6,
   "metadata": {},
   "outputs": [],
   "source": [
    "site = '01'"
   ]
  },
  {
   "cell_type": "code",
   "execution_count": 7,
   "metadata": {},
   "outputs": [],
   "source": [
    "start_time = datetime(2018, 11, 2)\n",
    "end_time = datetime(2019, 3, 1)"
   ]
  },
  {
   "cell_type": "code",
   "execution_count": 8,
   "metadata": {},
   "outputs": [],
   "source": [
    "df_wrf = load_wrf_by_airport(site, start_time-timedelta(hours=12), end_time-timedelta(hours=12), start_point=12)"
   ]
  },
  {
   "cell_type": "code",
   "execution_count": 9,
   "metadata": {},
   "outputs": [],
   "source": [
    "df_ec = load_ec_by_airport(site, start_time-timedelta(hours=12), end_time-timedelta(hours=12), start_point=12)"
   ]
  },
  {
   "cell_type": "code",
   "execution_count": 10,
   "metadata": {},
   "outputs": [],
   "source": [
    "obs_df = load_awos_by_point(airport, site, start_time - timedelta(days=1), end_time=end_time - timedelta(days=1))"
   ]
  },
  {
   "cell_type": "code",
   "execution_count": 11,
   "metadata": {},
   "outputs": [
    {
     "data": {
      "text/html": [
       "<div>\n",
       "<style>\n",
       "    .dataframe thead tr:only-child th {\n",
       "        text-align: right;\n",
       "    }\n",
       "\n",
       "    .dataframe thead th {\n",
       "        text-align: left;\n",
       "    }\n",
       "\n",
       "    .dataframe tbody tr th {\n",
       "        vertical-align: top;\n",
       "    }\n",
       "</style>\n",
       "<table border=\"1\" class=\"dataframe\">\n",
       "  <thead>\n",
       "    <tr style=\"text-align: right;\">\n",
       "      <th></th>\n",
       "      <th>obs_wd</th>\n",
       "      <th>obs_ws</th>\n",
       "    </tr>\n",
       "  </thead>\n",
       "  <tbody>\n",
       "    <tr>\n",
       "      <th>2018-11-01 00:00:00</th>\n",
       "      <td>357.0</td>\n",
       "      <td>1.84</td>\n",
       "    </tr>\n",
       "    <tr>\n",
       "      <th>2018-11-01 01:00:00</th>\n",
       "      <td>355.0</td>\n",
       "      <td>2.98</td>\n",
       "    </tr>\n",
       "    <tr>\n",
       "      <th>2018-11-01 02:00:00</th>\n",
       "      <td>351.0</td>\n",
       "      <td>2.30</td>\n",
       "    </tr>\n",
       "    <tr>\n",
       "      <th>2018-11-01 03:00:00</th>\n",
       "      <td>13.0</td>\n",
       "      <td>1.43</td>\n",
       "    </tr>\n",
       "    <tr>\n",
       "      <th>2018-11-01 04:00:00</th>\n",
       "      <td>135.0</td>\n",
       "      <td>2.31</td>\n",
       "    </tr>\n",
       "  </tbody>\n",
       "</table>\n",
       "</div>"
      ],
      "text/plain": [
       "                     obs_wd  obs_ws\n",
       "2018-11-01 00:00:00   357.0    1.84\n",
       "2018-11-01 01:00:00   355.0    2.98\n",
       "2018-11-01 02:00:00   351.0    2.30\n",
       "2018-11-01 03:00:00    13.0    1.43\n",
       "2018-11-01 04:00:00   135.0    2.31"
      ]
     },
     "execution_count": 11,
     "metadata": {},
     "output_type": "execute_result"
    }
   ],
   "source": [
    "obs_df.head()"
   ]
  },
  {
   "cell_type": "code",
   "execution_count": 12,
   "metadata": {},
   "outputs": [],
   "source": [
    "def pivot_arr_by_date(arr, tag):\n",
    "    meta_df = arr.to_frame(name='obs')\n",
    "    meta_df['date'] = arr.index.floor('d')\n",
    "    meta_df['hour'] = arr.index.hour\n",
    "    new_df = meta_df.pivot(columns='hour', index='date', values='obs')\n",
    "    yesterday_df = new_df.copy()\n",
    "    yesterday_df.index = yesterday_df.index + timedelta(days=1)\n",
    "    yesterday_df.columns = [x - 24 for x in yesterday_df.columns]\n",
    "    obs_mat = pd.concat([yesterday_df, new_df], axis=1)\n",
    "    obs_mat.columns = [f'obs_{tag}.{x}' for x in obs_mat.columns]\n",
    "    return obs_mat"
   ]
  },
  {
   "cell_type": "code",
   "execution_count": 13,
   "metadata": {},
   "outputs": [],
   "source": [
    "obs_wd_mat = pivot_arr_by_date(obs_df['obs_wd'], 'wd')"
   ]
  },
  {
   "cell_type": "code",
   "execution_count": 14,
   "metadata": {},
   "outputs": [],
   "source": [
    "raw_data = pd.concat([obs_wd_mat, df_wrf], axis=1)\n",
    "raw_data = raw_data.loc[df_wrf.index]"
   ]
  },
  {
   "cell_type": "code",
   "execution_count": 15,
   "metadata": {},
   "outputs": [],
   "source": [
    "# raw_data = pd.concat([obs_wd_mat, df_ec], axis=1)\n",
    "# raw_data = raw_data.loc[df_ec.index]"
   ]
  },
  {
   "cell_type": "markdown",
   "metadata": {},
   "source": [
    "### 特征加工"
   ]
  },
  {
   "cell_type": "code",
   "execution_count": 16,
   "metadata": {},
   "outputs": [],
   "source": [
    "# 风向，湿球温度与气温差值，预报风速误差\n",
    "for idx in range(-12, 24):\n",
    "    raw_data[f'rh_delta.{idx}'] = raw_data[f'T2.{idx}'] - raw_data[f'TD2.{idx}']\n",
    "    raw_data[f'bias.{idx}'] = (raw_data[f'obs_wd.{idx}'] - raw_data[f'DIR10.{idx}'] + 180) % 360 - 180"
   ]
  },
  {
   "cell_type": "code",
   "execution_count": 17,
   "metadata": {},
   "outputs": [],
   "source": [
    "# 气压变，温度变，风速变，风向变\n",
    "for idx in range(0, 24):\n",
    "    for span in (1, 3, 6, 12):\n",
    "        raw_data[f'PSFC_{span}d.{idx}'] = raw_data[f'PSFC.{idx}'] - raw_data[f'PSFC.{idx-span}']\n",
    "        raw_data[f'T2_{span}d.{idx}'] = raw_data[f'T2.{idx}'] - raw_data[f'T2.{idx-span}']\n",
    "        raw_data[f'SPD10_{span}d.{idx}'] = raw_data[f'SPD10.{idx}'] - raw_data[f'SPD10.{idx-span}']\n",
    "        raw_data[f'wd_{span}d.{idx}'] = (raw_data[f'DIR10.{idx}'] - raw_data[f'DIR10.{idx-span}'] + 180) % 360 - 180"
   ]
  },
  {
   "cell_type": "code",
   "execution_count": 18,
   "metadata": {},
   "outputs": [],
   "source": [
    "is_train = raw_data.index <= datetime(2019, 2, 1)\n",
    "is_eval = raw_data.index > datetime(2019, 2, 1)"
   ]
  },
  {
   "cell_type": "code",
   "execution_count": 19,
   "metadata": {},
   "outputs": [
    {
     "data": {
      "text/plain": [
       "(92, 27)"
      ]
     },
     "execution_count": 19,
     "metadata": {},
     "output_type": "execute_result"
    }
   ],
   "source": [
    "is_train.sum(), is_eval.sum()"
   ]
  },
  {
   "cell_type": "markdown",
   "metadata": {},
   "source": [
    "### 训练模型"
   ]
  },
  {
   "cell_type": "code",
   "execution_count": 20,
   "metadata": {},
   "outputs": [],
   "source": [
    "def rmse(y_arr):\n",
    "    return np.sqrt((y_arr ** 2).mean())"
   ]
  },
  {
   "cell_type": "code",
   "execution_count": 21,
   "metadata": {},
   "outputs": [],
   "source": [
    "fc_hr = 6"
   ]
  },
  {
   "cell_type": "code",
   "execution_count": 22,
   "metadata": {},
   "outputs": [],
   "source": [
    "feat_list = [f'U10.{x}' for x in range(-12, 24)] + [f'V10.{x}' for x in range(-12, 24)] + \\\n",
    "    [f'bias.{x}' for x in range(-12, 0)] + [f'SPD10.{x}' for x in range(-12, 24)] + \\\n",
    "    [f'DIR10.{x}' for x in range(-12, 24)] + \\\n",
    "    [f'rh_delta.{x}' for x in range(-12, 24)] + \\\n",
    "    [f'PSFC_{span}d.{fc_hr}' for span in (1, 3, 6, 12)] + [f'T2_{span}d.{fc_hr}' for span in (1, 3, 6, 12)] + \\\n",
    "    [f'SPD10_{span}d.{fc_hr}' for span in (1, 3, 6, 12)] + [f'DIR10_{span}d.{fc_hr}' for span in (1, 3, 6, 12)]\n",
    "x_train = raw_data.loc[is_train, feat_list]\n",
    "x_eval = raw_data.loc[is_eval, feat_list]\n",
    "y_train = raw_data.loc[is_train, f'bias.{fc_hr}']\n",
    "y_eval = raw_data.loc[is_eval, f'bias.{fc_hr}']"
   ]
  },
  {
   "cell_type": "code",
   "execution_count": 23,
   "metadata": {},
   "outputs": [],
   "source": [
    "clf = xgb.XGBRegressor(booster='gbtree', learning_rate=0.04, n_estimators=300, verbosity=0, n_jobs=16, seed=42,\n",
    "                       reg_alpha=0.1, reg_lambda=0.1, colsample_bytree=0.6, max_depth=6, subsample=0.5)\n",
    "clf.fit(x_train, y_train)\n",
    "y_pred_eval = clf.predict(x_eval)\n",
    "y_pred_eval = pd.Series(y_pred_eval, index=x_eval.index)\n",
    "# pred_one = yhat + x_eval[f'SPD10.{fc_hr}']\n",
    "# pred_one.index = pred_one.index + timedelta(hours=fc_hr)\n",
    "# pred_one.loc[pred_one < 0.52] = 0.52\n",
    "# pred_list.append(pred_one)"
   ]
  },
  {
   "cell_type": "code",
   "execution_count": 24,
   "metadata": {},
   "outputs": [
    {
     "data": {
      "text/plain": [
       "(62.95152228723333, 60.689760296704854)"
      ]
     },
     "execution_count": 24,
     "metadata": {},
     "output_type": "execute_result"
    }
   ],
   "source": [
    "rmse(y_eval), rmse(y_pred_eval - y_eval)"
   ]
  },
  {
   "cell_type": "code",
   "execution_count": 25,
   "metadata": {},
   "outputs": [
    {
     "data": {
      "text/plain": [
       "(62.056000199372015, 62.28599139496393)"
      ]
     },
     "execution_count": 25,
     "metadata": {},
     "output_type": "execute_result"
    }
   ],
   "source": [
    "(62.056000199372015, 62.28599139496393)"
   ]
  }
 ],
 "metadata": {
  "kernelspec": {
   "display_name": "Python 3",
   "language": "python",
   "name": "python3"
  },
  "language_info": {
   "codemirror_mode": {
    "name": "ipython",
    "version": 3
   },
   "file_extension": ".py",
   "mimetype": "text/x-python",
   "name": "python",
   "nbconvert_exporter": "python",
   "pygments_lexer": "ipython3",
   "version": "3.6.8"
  }
 },
 "nbformat": 4,
 "nbformat_minor": 2
}
