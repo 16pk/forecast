{
 "cells": [
  {
   "cell_type": "code",
   "execution_count": 54,
   "metadata": {},
   "outputs": [],
   "source": [
    "import numpy as np\n",
    "import pandas as pd\n",
    "from datetime import datetime, timedelta\n",
    "from collections import defaultdict"
   ]
  },
  {
   "cell_type": "code",
   "execution_count": 55,
   "metadata": {},
   "outputs": [],
   "source": [
    "import xgboost as xgb"
   ]
  },
  {
   "cell_type": "code",
   "execution_count": 56,
   "metadata": {},
   "outputs": [],
   "source": [
    "import matplotlib.pyplot as plt\n",
    "%matplotlib inline"
   ]
  },
  {
   "cell_type": "code",
   "execution_count": 57,
   "metadata": {},
   "outputs": [],
   "source": [
    "from bayes_opt import BayesianOptimization"
   ]
  },
  {
   "cell_type": "code",
   "execution_count": 58,
   "metadata": {},
   "outputs": [],
   "source": [
    "site = 'site_MID3'"
   ]
  },
  {
   "cell_type": "code",
   "execution_count": 59,
   "metadata": {},
   "outputs": [],
   "source": [
    "def read_ec_data(filename):\n",
    "    with open(filename) as fid:\n",
    "        data_dct = defaultdict(dict)\n",
    "        for line in fid:\n",
    "            fields = line.strip('\\n').split('\\t')\n",
    "            if fields[1] == 'SLP':\n",
    "                continue\n",
    "            ec_time = datetime.strptime(fields[0], '%Y%m%d%H')\n",
    "            forecast_time = (ec_time + timedelta(hours=12))\n",
    "            for idx in range(-12, 24):\n",
    "                data_dct[forecast_time][f'{fields[1]}.{idx}'] = float(fields[idx + 12 + 2])\n",
    "    return pd.DataFrame(data_dct).transpose()"
   ]
  },
  {
   "cell_type": "code",
   "execution_count": 60,
   "metadata": {},
   "outputs": [],
   "source": [
    "def read_obs(filename):\n",
    "    obs_data = pd.read_csv(filename, header=None, names=['time', 'obs'], sep='\\t')\n",
    "    obs_data['date'] = pd.to_datetime(obs_data['time'] // 10000, format='%Y%m%d')\n",
    "    obs_data['hour'] = obs_data['time'] // 100 % 100\n",
    "    obs_data2 = obs_data.pivot(columns='hour', index='date', values='obs')\n",
    "    return obs_data2"
   ]
  },
  {
   "cell_type": "code",
   "execution_count": 12,
   "metadata": {},
   "outputs": [],
   "source": [
    "def read_obs2(filename):\n",
    "    obs_data = pd.read_csv(filename, header=None, names=['time', 'obs'], sep='\\t')\n",
    "    obs_data['time'] = pd.to_datetime(obs_data['time'], format='%Y%m%d%H%M%S')\n",
    "    return obs_data"
   ]
  },
  {
   "cell_type": "code",
   "execution_count": 61,
   "metadata": {},
   "outputs": [],
   "source": [
    "ec1 = read_ec_data('data/ec_fcst_2018030112_2018103112.txt')\n",
    "ec2 = read_ec_data('data/ec_fcst_2018110112_2018123012.txt')\n",
    "ec = pd.concat([ec1, ec2], axis=0)"
   ]
  },
  {
   "cell_type": "code",
   "execution_count": 62,
   "metadata": {},
   "outputs": [],
   "source": [
    "obs_p1 = read_obs2(f'data/obs_2018030112_2018103112_{site}.txt')"
   ]
  },
  {
   "cell_type": "code",
   "execution_count": 63,
   "metadata": {},
   "outputs": [],
   "source": [
    "obs_p1 = read_obs(f'data/obs_2018030112_2018103112_{site}.txt')\n",
    "obs_p2 = read_obs(f'data/obs_2018110112_2018123012_{site}.txt')\n",
    "obs = pd.concat([obs_p1, obs_p2], axis=0).resample('1D').mean()"
   ]
  },
  {
   "cell_type": "code",
   "execution_count": 36,
   "metadata": {},
   "outputs": [],
   "source": [
    "yesterday2 = obs.copy()"
   ]
  },
  {
   "cell_type": "code",
   "execution_count": 64,
   "metadata": {},
   "outputs": [],
   "source": [
    "# yesterday_obs = obs.shift(1)\n",
    "yesterday_obs = obs.copy()\n",
    "yesterday_obs.index = yesterday_obs.index + timedelta(days=1)\n",
    "yesterday_obs = yesterday_obs[[x for x in range(12, 24)]]"
   ]
  },
  {
   "cell_type": "code",
   "execution_count": 65,
   "metadata": {},
   "outputs": [
    {
     "data": {
      "text/html": [
       "<div>\n",
       "<style>\n",
       "    .dataframe thead tr:only-child th {\n",
       "        text-align: right;\n",
       "    }\n",
       "\n",
       "    .dataframe thead th {\n",
       "        text-align: left;\n",
       "    }\n",
       "\n",
       "    .dataframe tbody tr th {\n",
       "        vertical-align: top;\n",
       "    }\n",
       "</style>\n",
       "<table border=\"1\" class=\"dataframe\">\n",
       "  <thead>\n",
       "    <tr style=\"text-align: right;\">\n",
       "      <th>hour</th>\n",
       "      <th>12</th>\n",
       "      <th>13</th>\n",
       "      <th>14</th>\n",
       "      <th>15</th>\n",
       "      <th>16</th>\n",
       "      <th>17</th>\n",
       "      <th>18</th>\n",
       "      <th>19</th>\n",
       "      <th>20</th>\n",
       "      <th>21</th>\n",
       "      <th>22</th>\n",
       "      <th>23</th>\n",
       "    </tr>\n",
       "    <tr>\n",
       "      <th>date</th>\n",
       "      <th></th>\n",
       "      <th></th>\n",
       "      <th></th>\n",
       "      <th></th>\n",
       "      <th></th>\n",
       "      <th></th>\n",
       "      <th></th>\n",
       "      <th></th>\n",
       "      <th></th>\n",
       "      <th></th>\n",
       "      <th></th>\n",
       "      <th></th>\n",
       "    </tr>\n",
       "  </thead>\n",
       "  <tbody>\n",
       "    <tr>\n",
       "      <th>2018-03-03</th>\n",
       "      <td>1.66183</td>\n",
       "      <td>2.36150</td>\n",
       "      <td>1.20217</td>\n",
       "      <td>0.85583</td>\n",
       "      <td>0.91850</td>\n",
       "      <td>1.23767</td>\n",
       "      <td>1.07617</td>\n",
       "      <td>1.04233</td>\n",
       "      <td>1.29867</td>\n",
       "      <td>1.78800</td>\n",
       "      <td>2.33733</td>\n",
       "      <td>2.15550</td>\n",
       "    </tr>\n",
       "    <tr>\n",
       "      <th>2018-03-04</th>\n",
       "      <td>0.65183</td>\n",
       "      <td>1.31850</td>\n",
       "      <td>1.11100</td>\n",
       "      <td>0.81250</td>\n",
       "      <td>1.12833</td>\n",
       "      <td>3.43183</td>\n",
       "      <td>3.53100</td>\n",
       "      <td>3.57450</td>\n",
       "      <td>4.24800</td>\n",
       "      <td>3.80500</td>\n",
       "      <td>1.74550</td>\n",
       "      <td>2.23333</td>\n",
       "    </tr>\n",
       "    <tr>\n",
       "      <th>2018-03-05</th>\n",
       "      <td>1.31050</td>\n",
       "      <td>1.59017</td>\n",
       "      <td>1.23883</td>\n",
       "      <td>1.51267</td>\n",
       "      <td>1.21433</td>\n",
       "      <td>1.20367</td>\n",
       "      <td>1.23967</td>\n",
       "      <td>1.37083</td>\n",
       "      <td>0.87500</td>\n",
       "      <td>0.63733</td>\n",
       "      <td>0.66083</td>\n",
       "      <td>0.94167</td>\n",
       "    </tr>\n",
       "    <tr>\n",
       "      <th>2018-03-06</th>\n",
       "      <td>4.14550</td>\n",
       "      <td>2.46467</td>\n",
       "      <td>1.70583</td>\n",
       "      <td>2.03450</td>\n",
       "      <td>2.54333</td>\n",
       "      <td>1.71533</td>\n",
       "      <td>0.71733</td>\n",
       "      <td>0.94167</td>\n",
       "      <td>1.33633</td>\n",
       "      <td>1.12850</td>\n",
       "      <td>0.98383</td>\n",
       "      <td>1.10117</td>\n",
       "    </tr>\n",
       "    <tr>\n",
       "      <th>2018-03-07</th>\n",
       "      <td>4.97083</td>\n",
       "      <td>3.81583</td>\n",
       "      <td>3.43417</td>\n",
       "      <td>3.09383</td>\n",
       "      <td>2.13833</td>\n",
       "      <td>1.69967</td>\n",
       "      <td>2.03017</td>\n",
       "      <td>1.59150</td>\n",
       "      <td>1.70967</td>\n",
       "      <td>1.77683</td>\n",
       "      <td>1.49800</td>\n",
       "      <td>1.89833</td>\n",
       "    </tr>\n",
       "  </tbody>\n",
       "</table>\n",
       "</div>"
      ],
      "text/plain": [
       "hour             12       13       14       15       16       17       18  \\\n",
       "date                                                                        \n",
       "2018-03-03  1.66183  2.36150  1.20217  0.85583  0.91850  1.23767  1.07617   \n",
       "2018-03-04  0.65183  1.31850  1.11100  0.81250  1.12833  3.43183  3.53100   \n",
       "2018-03-05  1.31050  1.59017  1.23883  1.51267  1.21433  1.20367  1.23967   \n",
       "2018-03-06  4.14550  2.46467  1.70583  2.03450  2.54333  1.71533  0.71733   \n",
       "2018-03-07  4.97083  3.81583  3.43417  3.09383  2.13833  1.69967  2.03017   \n",
       "\n",
       "hour             19       20       21       22       23  \n",
       "date                                                     \n",
       "2018-03-03  1.04233  1.29867  1.78800  2.33733  2.15550  \n",
       "2018-03-04  3.57450  4.24800  3.80500  1.74550  2.23333  \n",
       "2018-03-05  1.37083  0.87500  0.63733  0.66083  0.94167  \n",
       "2018-03-06  0.94167  1.33633  1.12850  0.98383  1.10117  \n",
       "2018-03-07  1.59150  1.70967  1.77683  1.49800  1.89833  "
      ]
     },
     "execution_count": 65,
     "metadata": {},
     "output_type": "execute_result"
    }
   ],
   "source": [
    "yesterday_obs.head()"
   ]
  },
  {
   "cell_type": "code",
   "execution_count": 66,
   "metadata": {},
   "outputs": [
    {
     "data": {
      "text/html": [
       "<div>\n",
       "<style>\n",
       "    .dataframe thead tr:only-child th {\n",
       "        text-align: right;\n",
       "    }\n",
       "\n",
       "    .dataframe thead th {\n",
       "        text-align: left;\n",
       "    }\n",
       "\n",
       "    .dataframe tbody tr th {\n",
       "        vertical-align: top;\n",
       "    }\n",
       "</style>\n",
       "<table border=\"1\" class=\"dataframe\">\n",
       "  <thead>\n",
       "    <tr style=\"text-align: right;\">\n",
       "      <th>hour</th>\n",
       "      <th>0</th>\n",
       "      <th>1</th>\n",
       "      <th>2</th>\n",
       "      <th>3</th>\n",
       "      <th>4</th>\n",
       "      <th>5</th>\n",
       "      <th>6</th>\n",
       "      <th>7</th>\n",
       "      <th>8</th>\n",
       "      <th>9</th>\n",
       "      <th>...</th>\n",
       "      <th>14</th>\n",
       "      <th>15</th>\n",
       "      <th>16</th>\n",
       "      <th>17</th>\n",
       "      <th>18</th>\n",
       "      <th>19</th>\n",
       "      <th>20</th>\n",
       "      <th>21</th>\n",
       "      <th>22</th>\n",
       "      <th>23</th>\n",
       "    </tr>\n",
       "    <tr>\n",
       "      <th>date</th>\n",
       "      <th></th>\n",
       "      <th></th>\n",
       "      <th></th>\n",
       "      <th></th>\n",
       "      <th></th>\n",
       "      <th></th>\n",
       "      <th></th>\n",
       "      <th></th>\n",
       "      <th></th>\n",
       "      <th></th>\n",
       "      <th></th>\n",
       "      <th></th>\n",
       "      <th></th>\n",
       "      <th></th>\n",
       "      <th></th>\n",
       "      <th></th>\n",
       "      <th></th>\n",
       "      <th></th>\n",
       "      <th></th>\n",
       "      <th></th>\n",
       "      <th></th>\n",
       "    </tr>\n",
       "  </thead>\n",
       "  <tbody>\n",
       "    <tr>\n",
       "      <th>2018-03-02</th>\n",
       "      <td>1.78583</td>\n",
       "      <td>1.50300</td>\n",
       "      <td>1.52333</td>\n",
       "      <td>1.76267</td>\n",
       "      <td>1.94383</td>\n",
       "      <td>2.56450</td>\n",
       "      <td>2.75383</td>\n",
       "      <td>2.20017</td>\n",
       "      <td>2.05617</td>\n",
       "      <td>1.01400</td>\n",
       "      <td>...</td>\n",
       "      <td>1.20217</td>\n",
       "      <td>0.85583</td>\n",
       "      <td>0.91850</td>\n",
       "      <td>1.23767</td>\n",
       "      <td>1.07617</td>\n",
       "      <td>1.04233</td>\n",
       "      <td>1.29867</td>\n",
       "      <td>1.78800</td>\n",
       "      <td>2.33733</td>\n",
       "      <td>2.15550</td>\n",
       "    </tr>\n",
       "    <tr>\n",
       "      <th>2018-03-03</th>\n",
       "      <td>2.36883</td>\n",
       "      <td>1.34183</td>\n",
       "      <td>1.63300</td>\n",
       "      <td>1.42150</td>\n",
       "      <td>1.35967</td>\n",
       "      <td>1.57433</td>\n",
       "      <td>2.43417</td>\n",
       "      <td>1.86583</td>\n",
       "      <td>1.07600</td>\n",
       "      <td>1.08633</td>\n",
       "      <td>...</td>\n",
       "      <td>1.11100</td>\n",
       "      <td>0.81250</td>\n",
       "      <td>1.12833</td>\n",
       "      <td>3.43183</td>\n",
       "      <td>3.53100</td>\n",
       "      <td>3.57450</td>\n",
       "      <td>4.24800</td>\n",
       "      <td>3.80500</td>\n",
       "      <td>1.74550</td>\n",
       "      <td>2.23333</td>\n",
       "    </tr>\n",
       "    <tr>\n",
       "      <th>2018-03-04</th>\n",
       "      <td>3.08933</td>\n",
       "      <td>4.24467</td>\n",
       "      <td>4.62850</td>\n",
       "      <td>4.85583</td>\n",
       "      <td>4.97117</td>\n",
       "      <td>5.06967</td>\n",
       "      <td>4.51117</td>\n",
       "      <td>4.30467</td>\n",
       "      <td>3.78883</td>\n",
       "      <td>3.43317</td>\n",
       "      <td>...</td>\n",
       "      <td>1.23883</td>\n",
       "      <td>1.51267</td>\n",
       "      <td>1.21433</td>\n",
       "      <td>1.20367</td>\n",
       "      <td>1.23967</td>\n",
       "      <td>1.37083</td>\n",
       "      <td>0.87500</td>\n",
       "      <td>0.63733</td>\n",
       "      <td>0.66083</td>\n",
       "      <td>0.94167</td>\n",
       "    </tr>\n",
       "    <tr>\n",
       "      <th>2018-03-05</th>\n",
       "      <td>1.32933</td>\n",
       "      <td>2.37083</td>\n",
       "      <td>3.50717</td>\n",
       "      <td>4.22017</td>\n",
       "      <td>4.82467</td>\n",
       "      <td>5.25833</td>\n",
       "      <td>5.87817</td>\n",
       "      <td>5.74383</td>\n",
       "      <td>6.61217</td>\n",
       "      <td>6.11533</td>\n",
       "      <td>...</td>\n",
       "      <td>1.70583</td>\n",
       "      <td>2.03450</td>\n",
       "      <td>2.54333</td>\n",
       "      <td>1.71533</td>\n",
       "      <td>0.71733</td>\n",
       "      <td>0.94167</td>\n",
       "      <td>1.33633</td>\n",
       "      <td>1.12850</td>\n",
       "      <td>0.98383</td>\n",
       "      <td>1.10117</td>\n",
       "    </tr>\n",
       "    <tr>\n",
       "      <th>2018-03-06</th>\n",
       "      <td>2.07250</td>\n",
       "      <td>3.40067</td>\n",
       "      <td>3.14533</td>\n",
       "      <td>3.40900</td>\n",
       "      <td>3.12750</td>\n",
       "      <td>3.34433</td>\n",
       "      <td>4.61917</td>\n",
       "      <td>4.79100</td>\n",
       "      <td>4.80767</td>\n",
       "      <td>5.27900</td>\n",
       "      <td>...</td>\n",
       "      <td>3.43417</td>\n",
       "      <td>3.09383</td>\n",
       "      <td>2.13833</td>\n",
       "      <td>1.69967</td>\n",
       "      <td>2.03017</td>\n",
       "      <td>1.59150</td>\n",
       "      <td>1.70967</td>\n",
       "      <td>1.77683</td>\n",
       "      <td>1.49800</td>\n",
       "      <td>1.89833</td>\n",
       "    </tr>\n",
       "  </tbody>\n",
       "</table>\n",
       "<p>5 rows × 24 columns</p>\n",
       "</div>"
      ],
      "text/plain": [
       "hour             0        1        2        3        4        5        6   \\\n",
       "date                                                                        \n",
       "2018-03-02  1.78583  1.50300  1.52333  1.76267  1.94383  2.56450  2.75383   \n",
       "2018-03-03  2.36883  1.34183  1.63300  1.42150  1.35967  1.57433  2.43417   \n",
       "2018-03-04  3.08933  4.24467  4.62850  4.85583  4.97117  5.06967  4.51117   \n",
       "2018-03-05  1.32933  2.37083  3.50717  4.22017  4.82467  5.25833  5.87817   \n",
       "2018-03-06  2.07250  3.40067  3.14533  3.40900  3.12750  3.34433  4.61917   \n",
       "\n",
       "hour             7        8        9    ...          14       15       16  \\\n",
       "date                                    ...                                 \n",
       "2018-03-02  2.20017  2.05617  1.01400   ...     1.20217  0.85583  0.91850   \n",
       "2018-03-03  1.86583  1.07600  1.08633   ...     1.11100  0.81250  1.12833   \n",
       "2018-03-04  4.30467  3.78883  3.43317   ...     1.23883  1.51267  1.21433   \n",
       "2018-03-05  5.74383  6.61217  6.11533   ...     1.70583  2.03450  2.54333   \n",
       "2018-03-06  4.79100  4.80767  5.27900   ...     3.43417  3.09383  2.13833   \n",
       "\n",
       "hour             17       18       19       20       21       22       23  \n",
       "date                                                                       \n",
       "2018-03-02  1.23767  1.07617  1.04233  1.29867  1.78800  2.33733  2.15550  \n",
       "2018-03-03  3.43183  3.53100  3.57450  4.24800  3.80500  1.74550  2.23333  \n",
       "2018-03-04  1.20367  1.23967  1.37083  0.87500  0.63733  0.66083  0.94167  \n",
       "2018-03-05  1.71533  0.71733  0.94167  1.33633  1.12850  0.98383  1.10117  \n",
       "2018-03-06  1.69967  2.03017  1.59150  1.70967  1.77683  1.49800  1.89833  \n",
       "\n",
       "[5 rows x 24 columns]"
      ]
     },
     "execution_count": 66,
     "metadata": {},
     "output_type": "execute_result"
    }
   ],
   "source": [
    "obs.head()"
   ]
  },
  {
   "cell_type": "code",
   "execution_count": 67,
   "metadata": {},
   "outputs": [],
   "source": [
    "yesterday_obs.columns = [x - 24 for x in yesterday_obs.columns]"
   ]
  },
  {
   "cell_type": "code",
   "execution_count": 68,
   "metadata": {},
   "outputs": [],
   "source": [
    "obs_mat = pd.concat([yesterday_obs, obs], axis=1)\n",
    "obs_mat.columns = [f'obs.{x}' for x in obs_mat.columns]"
   ]
  },
  {
   "cell_type": "code",
   "execution_count": 69,
   "metadata": {},
   "outputs": [],
   "source": [
    "obs_mat = obs_mat.loc[obs_mat['obs.-12'].notnull()]"
   ]
  },
  {
   "cell_type": "code",
   "execution_count": 70,
   "metadata": {},
   "outputs": [],
   "source": [
    "raw_data = ec.merge(obs_mat, left_index=True, right_index=True)"
   ]
  },
  {
   "cell_type": "code",
   "execution_count": 71,
   "metadata": {},
   "outputs": [
    {
     "data": {
      "text/plain": [
       "Timestamp('2018-12-30 00:00:00')"
      ]
     },
     "execution_count": 71,
     "metadata": {},
     "output_type": "execute_result"
    }
   ],
   "source": [
    "obs_mat.index.max() - timedelta(days=1)"
   ]
  },
  {
   "cell_type": "markdown",
   "metadata": {},
   "source": [
    "### 特征加工"
   ]
  },
  {
   "cell_type": "code",
   "execution_count": 73,
   "metadata": {},
   "outputs": [],
   "source": [
    "# 风速，湿球温度与气温差值，预报风速误差\n",
    "for idx in range(-12, 24):\n",
    "    raw_data[f'ws.{idx}'] = np.sqrt(raw_data[f'U10.{idx}'] ** 2 + raw_data[f'V10.{idx}'] ** 2)\n",
    "    raw_data[f'rh_delta.{idx}'] = raw_data[f'T.{idx}'] - raw_data[f'RH.{idx}']\n",
    "    raw_data[f'bias.{idx}'] = raw_data[f'obs.{idx}'] - raw_data[f'ws.{idx}']"
   ]
  },
  {
   "cell_type": "code",
   "execution_count": 74,
   "metadata": {},
   "outputs": [],
   "source": [
    "# 气压变，温度变，风速变\n",
    "for idx in range(0, 24):\n",
    "    for span in (1, 3, 6, 12):\n",
    "        raw_data[f'PSFC_{span}d.{idx}'] = raw_data[f'PSFC.{idx}'] - raw_data[f'PSFC.{idx-span}']\n",
    "        raw_data[f'T_{span}d.{idx}'] = raw_data[f'T.{idx}'] - raw_data[f'T.{idx-span}']\n",
    "        raw_data[f'ws_{span}d.{idx}'] = raw_data[f'ws.{idx}'] - raw_data[f'ws.{idx-span}']"
   ]
  },
  {
   "cell_type": "code",
   "execution_count": 75,
   "metadata": {},
   "outputs": [],
   "source": [
    "is_train = raw_data.index < datetime(2018, 10, 1)\n",
    "is_eval = (raw_data.index >= datetime(2018, 10, 1)) & (raw_data.index < datetime(2018, 10, 18))\n",
    "is_test = (raw_data.index >= datetime(2018, 10, 18)) & (raw_data.index < datetime(2018, 11, 3))\n",
    "is_prod = raw_data.index >= datetime(2018, 11, 3)"
   ]
  },
  {
   "cell_type": "code",
   "execution_count": 17,
   "metadata": {},
   "outputs": [],
   "source": [
    "# is_train = raw_data.index < datetime(2018, 11, 3)\n",
    "# is_eval = (raw_data.index >= datetime(2018, 10, 1)) & (raw_data.index < datetime(2018, 10, 18))\n",
    "# is_test = (raw_data.index >= datetime(2018, 10, 18)) & (raw_data.index < datetime(2018, 11, 3))\n",
    "# is_prod = raw_data.index >= datetime(2018, 11, 3)"
   ]
  },
  {
   "cell_type": "code",
   "execution_count": 76,
   "metadata": {},
   "outputs": [
    {
     "data": {
      "text/plain": [
       "(212, 17, 16, 30)"
      ]
     },
     "execution_count": 76,
     "metadata": {},
     "output_type": "execute_result"
    }
   ],
   "source": [
    "is_train.sum(), is_eval.sum(), is_test.sum(), is_prod.sum()"
   ]
  },
  {
   "cell_type": "markdown",
   "metadata": {},
   "source": [
    "### 训练模型"
   ]
  },
  {
   "cell_type": "code",
   "execution_count": 19,
   "metadata": {},
   "outputs": [],
   "source": [
    "def rmse(y_arr):\n",
    "    return np.sqrt((y_arr ** 2).mean())"
   ]
  },
  {
   "cell_type": "code",
   "execution_count": 77,
   "metadata": {},
   "outputs": [],
   "source": [
    "def get_dataset(raw_data, fc_hr, is_train, is_eval, is_test, is_prod):\n",
    "    feat_list = [f'U10.{x}' for x in range(-12, 24)] + [f'V10.{x}' for x in range(-12, 24)] + \\\n",
    "        [f'bias.{x}' for x in range(-12, 0)] + [f'ws.{x}' for x in range(-12, 24)] + \\\n",
    "        [f'rh_delta.{x}' for x in range(-12, 24)] + \\\n",
    "        [f'PSFC_{span}d.{fc_hr}' for span in (1, 3, 6, 12)] + [f'T_{span}d.{fc_hr}' for span in (1, 3, 6, 12)] + \\\n",
    "        [f'ws_{span}d.{fc_hr}' for span in (1, 3, 6, 12)]\n",
    "    x_train = raw_data.loc[is_train, feat_list]\n",
    "    x_eval = raw_data.loc[is_eval, feat_list]\n",
    "    x_test = raw_data.loc[is_test, feat_list]\n",
    "    x_prod = raw_data.loc[is_prod, feat_list]\n",
    "    y_train = raw_data.loc[is_train, f'bias.{fc_hr}']\n",
    "    y_eval = raw_data.loc[is_eval, f'bias.{fc_hr}']\n",
    "    y_test = raw_data.loc[is_test, f'bias.{fc_hr}']\n",
    "    y_prod = raw_data.loc[is_prod, f'bias.{fc_hr}']\n",
    "    return x_train, y_train, x_eval, y_eval, x_test, y_test, x_prod, y_prod"
   ]
  },
  {
   "cell_type": "code",
   "execution_count": 85,
   "metadata": {},
   "outputs": [
    {
     "name": "stdout",
     "output_type": "stream",
     "text": [
      "Hour: 0\n",
      "[0]\tvalidation_0-rmse:0.877241\n",
      "Will train until validation_0-rmse hasn't improved in 20 rounds.\n",
      "[30]\tvalidation_0-rmse:0.548401\n",
      "[60]\tvalidation_0-rmse:0.50021\n",
      "[90]\tvalidation_0-rmse:0.47248\n",
      "[120]\tvalidation_0-rmse:0.450698\n",
      "Stopping. Best iteration:\n",
      "[120]\tvalidation_0-rmse:0.450698\n",
      "\n",
      "Hour: 1\n",
      "[0]\tvalidation_0-rmse:0.990305\n",
      "Will train until validation_0-rmse hasn't improved in 20 rounds.\n",
      "[30]\tvalidation_0-rmse:0.719553\n",
      "[60]\tvalidation_0-rmse:0.637152\n",
      "[90]\tvalidation_0-rmse:0.590424\n",
      "Stopping. Best iteration:\n",
      "[86]\tvalidation_0-rmse:0.586484\n",
      "\n"
     ]
    }
   ],
   "source": [
    "eval_dct = {}\n",
    "test_dct = {}\n",
    "prod_dct = {}\n",
    "for fc_hr in range(0, 24):\n",
    "    print(f'Hour: {fc_hr}')\n",
    "    x_train, y_train, x_eval, y_eval, x_test, y_test, x_prod, y_prod = get_dataset(\n",
    "        raw_data, fc_hr, is_train, is_eval, is_test, is_prod)\n",
    "    clf = xgb.XGBRegressor(booster='dart', learning_rate=0.04, n_estimators=600, \n",
    "                           subsample=0.3, colsample_bytree=0.35, max_depth=3, seed=42)\n",
    "    clf.fit(x_train, y_train, eval_set=[(x_eval, y_eval)], eval_metric='rmse', verbose=30, early_stopping_rounds=20)\n",
    "    y_pred_eval = clf.predict(x_eval)\n",
    "    y_pred_eval = pd.Series(y_pred_eval, index=y_eval.index)\n",
    "    eval_dct[f'pred_{fc_hr}'] = y_pred_eval\n",
    "    y_pred_test = clf.predict(x_test)\n",
    "    y_pred_test = pd.Series(y_pred_test, index=y_test.index)\n",
    "    test_dct[f'pred_{fc_hr}'] = y_pred_test\n",
    "    y_pred_prod = clf.predict(x_prod)\n",
    "    y_pred_prod = pd.Series(y_pred_prod, index=y_prod.index)\n",
    "    prod_dct[f'pred_{fc_hr}'] = y_pred_prod"
   ]
  },
  {
   "cell_type": "code",
   "execution_count": 87,
   "metadata": {},
   "outputs": [
    {
     "data": {
      "text/plain": [
       "86"
      ]
     },
     "execution_count": 87,
     "metadata": {},
     "output_type": "execute_result"
    }
   ],
   "source": [
    "clf.best_iteration"
   ]
  },
  {
   "cell_type": "code",
   "execution_count": 84,
   "metadata": {},
   "outputs": [
    {
     "data": {
      "text/plain": [
       "<bound method XGBModel.get_params of XGBRegressor(base_score=0.5, booster='dart', colsample_bylevel=1,\n",
       "       colsample_bytree=0.35, gamma=0, learning_rate=0.04,\n",
       "       max_delta_step=0, max_depth=3, min_child_weight=1, missing=None,\n",
       "       n_estimators=600, n_jobs=1, nthread=None, objective='reg:linear',\n",
       "       random_state=0, reg_alpha=0, reg_lambda=1, scale_pos_weight=1,\n",
       "       seed=42, silent=True, subsample=0.3)>"
      ]
     },
     "execution_count": 84,
     "metadata": {},
     "output_type": "execute_result"
    }
   ],
   "source": [
    "clf.get_params"
   ]
  },
  {
   "cell_type": "code",
   "execution_count": 22,
   "metadata": {},
   "outputs": [],
   "source": [
    "df_eval = pd.DataFrame(eval_dct)[[f'pred_{x}' for x in range(0, 24)]]\n",
    "ws_ec = raw_data.loc[is_eval, [f'ws.{x}' for x in range(0, 24)]].values\n",
    "ws_pred = df_eval.values + ws_ec\n",
    "ws_obs = raw_data.loc[is_eval, [f'obs.{x}' for x in range(0, 24)]].values"
   ]
  },
  {
   "cell_type": "code",
   "execution_count": 23,
   "metadata": {},
   "outputs": [
    {
     "name": "stdout",
     "output_type": "stream",
     "text": [
      "EC:  2.974839506132978\n",
      "Fcst:  0.29439775167146315\n"
     ]
    }
   ],
   "source": [
    "ws_ec0 = ws_ec.reshape((-1,))\n",
    "ws_pred0 = ws_pred.reshape((-1,))\n",
    "ws_obs0 = ws_obs.reshape((-1,))\n",
    "gt4 = ws_obs0>=4\n",
    "print('EC: ', rmse(ws_ec0[gt4]-ws_obs0[gt4]))\n",
    "print('Fcst: ', rmse(ws_pred0[gt4]-ws_obs0[gt4]))"
   ]
  },
  {
   "cell_type": "code",
   "execution_count": 24,
   "metadata": {},
   "outputs": [
    {
     "name": "stdout",
     "output_type": "stream",
     "text": [
      "EC:  1.5125954376597022\n",
      "Fcst:  0.22161216821062463\n"
     ]
    }
   ],
   "source": [
    "print('EC: ', rmse(ws_ec.reshape((-1,)) - ws_obs.reshape((-1,))))\n",
    "print('Fcst: ', rmse(ws_pred.reshape((-1,)) - ws_obs.reshape((-1,))))"
   ]
  },
  {
   "cell_type": "code",
   "execution_count": 25,
   "metadata": {},
   "outputs": [],
   "source": [
    "df_test = pd.DataFrame(test_dct)[[f'pred_{x}' for x in range(0, 24)]]\n",
    "ws_ec = raw_data.loc[is_test, [f'ws.{x}' for x in range(0, 24)]].values\n",
    "ws_pred = df_test.values + ws_ec\n",
    "ws_obs = raw_data.loc[is_test, [f'obs.{x}' for x in range(0, 24)]].values"
   ]
  },
  {
   "cell_type": "code",
   "execution_count": 26,
   "metadata": {},
   "outputs": [
    {
     "name": "stdout",
     "output_type": "stream",
     "text": [
      "EC:  1.732663717448987\n",
      "Fcst:  0.2448067551837043\n"
     ]
    }
   ],
   "source": [
    "print('EC: ', rmse(ws_ec.reshape((-1,)) - ws_obs.reshape((-1,))))\n",
    "print('Fcst: ', rmse(ws_pred.reshape((-1,)) - ws_obs.reshape((-1,))))"
   ]
  },
  {
   "cell_type": "code",
   "execution_count": 27,
   "metadata": {},
   "outputs": [],
   "source": [
    "df_prod = pd.DataFrame(prod_dct)[[f'pred_{x}' for x in range(0, 24)]]\n",
    "ws_ec = raw_data.loc[is_prod, [f'ws.{x}' for x in range(0, 24)]]\n",
    "ws_pred = df_prod.values + ws_ec.values\n",
    "ws_obs = raw_data.loc[is_prod, [f'obs.{x}' for x in range(0, 24)]]"
   ]
  },
  {
   "cell_type": "code",
   "execution_count": 28,
   "metadata": {},
   "outputs": [],
   "source": [
    "ws_pred_list = []\n",
    "for idx, fcst_time in enumerate(ws_ec.index):\n",
    "    meta_arr = pd.Series(ws_pred[idx, :], index=pd.date_range(fcst_time, freq='1H', periods=24))\n",
    "    ws_pred_list.append(meta_arr)\n",
    "ws_pred_arr = pd.concat(ws_pred_list)"
   ]
  },
  {
   "cell_type": "code",
   "execution_count": 29,
   "metadata": {},
   "outputs": [],
   "source": [
    "ws_pred_arr.to_csv(f'forecast_{site}', sep='\\t', header=False, date_format='%Y%m%d%H%M')"
   ]
  },
  {
   "cell_type": "code",
   "execution_count": null,
   "metadata": {},
   "outputs": [],
   "source": []
  }
 ],
 "metadata": {
  "kernelspec": {
   "display_name": "Python 3",
   "language": "python",
   "name": "python3"
  },
  "language_info": {
   "codemirror_mode": {
    "name": "ipython",
    "version": 3
   },
   "file_extension": ".py",
   "mimetype": "text/x-python",
   "name": "python",
   "nbconvert_exporter": "python",
   "pygments_lexer": "ipython3",
   "version": "3.6.8"
  }
 },
 "nbformat": 4,
 "nbformat_minor": 2
}
